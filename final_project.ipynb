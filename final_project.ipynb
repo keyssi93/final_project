{
 "cells": [
  {
   "cell_type": "code",
   "execution_count": 5,
   "metadata": {},
   "outputs": [
    {
     "name": "stdout",
     "output_type": "stream",
     "text": [
      "Requirement already satisfied: openpyxl in c:\\users\\keyssiarroyo\\appdata\\local\\programs\\python\\python39\\lib\\site-packages (3.0.9)\n",
      "Requirement already satisfied: et-xmlfile in c:\\users\\keyssiarroyo\\appdata\\local\\programs\\python\\python39\\lib\\site-packages (from openpyxl) (1.1.0)\n",
      "Requirement already satisfied: swat in c:\\users\\keyssiarroyo\\appdata\\local\\programs\\python\\python39\\lib\\site-packages (1.9.3)\n",
      "Requirement already satisfied: requests in c:\\users\\keyssiarroyo\\appdata\\local\\programs\\python\\python39\\lib\\site-packages (from swat) (2.26.0)\n",
      "Requirement already satisfied: pytz in c:\\users\\keyssiarroyo\\appdata\\local\\programs\\python\\python39\\lib\\site-packages (from swat) (2021.1)\n",
      "Requirement already satisfied: six>=1.9.0 in c:\\users\\keyssiarroyo\\appdata\\local\\programs\\python\\python39\\lib\\site-packages (from swat) (1.15.0)\n",
      "Requirement already satisfied: pandas>=0.16.0 in c:\\users\\keyssiarroyo\\appdata\\local\\programs\\python\\python39\\lib\\site-packages (from swat) (1.3.2)\n",
      "Requirement already satisfied: urllib3 in c:\\users\\keyssiarroyo\\appdata\\local\\programs\\python\\python39\\lib\\site-packages (from swat) (1.26.6)\n",
      "Requirement already satisfied: numpy>=1.17.3 in c:\\users\\keyssiarroyo\\appdata\\local\\programs\\python\\python39\\lib\\site-packages (from pandas>=0.16.0->swat) (1.19.5)\n",
      "Requirement already satisfied: python-dateutil>=2.7.3 in c:\\users\\keyssiarroyo\\appdata\\local\\programs\\python\\python39\\lib\\site-packages (from pandas>=0.16.0->swat) (2.8.2)\n",
      "Requirement already satisfied: idna<4,>=2.5 in c:\\users\\keyssiarroyo\\appdata\\local\\programs\\python\\python39\\lib\\site-packages (from requests->swat) (3.2)\n",
      "Requirement already satisfied: certifi>=2017.4.17 in c:\\users\\keyssiarroyo\\appdata\\local\\programs\\python\\python39\\lib\\site-packages (from requests->swat) (2021.5.30)\n",
      "Requirement already satisfied: charset-normalizer~=2.0.0 in c:\\users\\keyssiarroyo\\appdata\\local\\programs\\python\\python39\\lib\\site-packages (from requests->swat) (2.0.5)\n",
      "Requirement already satisfied: seaborn in c:\\users\\keyssiarroyo\\appdata\\local\\programs\\python\\python39\\lib\\site-packages (0.11.2)\n",
      "Requirement already satisfied: numpy>=1.15 in c:\\users\\keyssiarroyo\\appdata\\local\\programs\\python\\python39\\lib\\site-packages (from seaborn) (1.19.5)\n",
      "Requirement already satisfied: matplotlib>=2.2 in c:\\users\\keyssiarroyo\\appdata\\local\\programs\\python\\python39\\lib\\site-packages (from seaborn) (3.4.3)\n",
      "Requirement already satisfied: scipy>=1.0 in c:\\users\\keyssiarroyo\\appdata\\local\\programs\\python\\python39\\lib\\site-packages (from seaborn) (1.7.1)\n",
      "Requirement already satisfied: pandas>=0.23 in c:\\users\\keyssiarroyo\\appdata\\local\\programs\\python\\python39\\lib\\site-packages (from seaborn) (1.3.2)\n",
      "Requirement already satisfied: cycler>=0.10 in c:\\users\\keyssiarroyo\\appdata\\local\\programs\\python\\python39\\lib\\site-packages (from matplotlib>=2.2->seaborn) (0.10.0)\n",
      "Requirement already satisfied: python-dateutil>=2.7 in c:\\users\\keyssiarroyo\\appdata\\local\\programs\\python\\python39\\lib\\site-packages (from matplotlib>=2.2->seaborn) (2.8.2)\n",
      "Requirement already satisfied: pyparsing>=2.2.1 in c:\\users\\keyssiarroyo\\appdata\\local\\programs\\python\\python39\\lib\\site-packages (from matplotlib>=2.2->seaborn) (2.4.7)\n",
      "Requirement already satisfied: kiwisolver>=1.0.1 in c:\\users\\keyssiarroyo\\appdata\\local\\programs\\python\\python39\\lib\\site-packages (from matplotlib>=2.2->seaborn) (1.3.2)\n",
      "Requirement already satisfied: pillow>=6.2.0 in c:\\users\\keyssiarroyo\\appdata\\local\\programs\\python\\python39\\lib\\site-packages (from matplotlib>=2.2->seaborn) (8.3.2)\n",
      "Requirement already satisfied: pytz>=2017.3 in c:\\users\\keyssiarroyo\\appdata\\local\\programs\\python\\python39\\lib\\site-packages (from pandas>=0.23->seaborn) (2021.1)\n",
      "Requirement already satisfied: six in c:\\users\\keyssiarroyo\\appdata\\local\\programs\\python\\python39\\lib\\site-packages (from cycler>=0.10->matplotlib>=2.2->seaborn) (1.15.0)\n"
     ]
    },
    {
     "name": "stderr",
     "output_type": "stream",
     "text": [
      "ERROR: Could not find a version that satisfies the requirement time (from versions: none)\n",
      "ERROR: No matching distribution found for time\n"
     ]
    },
    {
     "name": "stdout",
     "output_type": "stream",
     "text": [
      "Requirement already satisfied: pip in c:\\users\\keyssiarroyo\\appdata\\local\\programs\\python\\python39\\lib\\site-packages (21.3.1)\n",
      "Requirement already satisfied: setuptools in c:\\users\\keyssiarroyo\\appdata\\local\\programs\\python\\python39\\lib\\site-packages (59.5.0)\n",
      "Requirement already satisfied: wheel in c:\\users\\keyssiarroyo\\appdata\\local\\programs\\python\\python39\\lib\\site-packages (0.37.0)\n",
      "Requirement already satisfied: spacy in c:\\users\\keyssiarroyo\\appdata\\local\\programs\\python\\python39\\lib\\site-packages (3.2.1)\n",
      "Requirement already satisfied: jinja2 in c:\\users\\keyssiarroyo\\appdata\\local\\programs\\python\\python39\\lib\\site-packages (from spacy) (3.0.3)\n",
      "Requirement already satisfied: tqdm<5.0.0,>=4.38.0 in c:\\users\\keyssiarroyo\\appdata\\local\\programs\\python\\python39\\lib\\site-packages (from spacy) (4.62.2)\n",
      "Requirement already satisfied: srsly<3.0.0,>=2.4.1 in c:\\users\\keyssiarroyo\\appdata\\local\\programs\\python\\python39\\lib\\site-packages (from spacy) (2.4.2)\n",
      "Requirement already satisfied: langcodes<4.0.0,>=3.2.0 in c:\\users\\keyssiarroyo\\appdata\\local\\programs\\python\\python39\\lib\\site-packages (from spacy) (3.3.0)\n",
      "Requirement already satisfied: spacy-loggers<2.0.0,>=1.0.0 in c:\\users\\keyssiarroyo\\appdata\\local\\programs\\python\\python39\\lib\\site-packages (from spacy) (1.0.1)\n",
      "Requirement already satisfied: numpy>=1.15.0 in c:\\users\\keyssiarroyo\\appdata\\local\\programs\\python\\python39\\lib\\site-packages (from spacy) (1.19.5)\n",
      "Requirement already satisfied: blis<0.8.0,>=0.4.0 in c:\\users\\keyssiarroyo\\appdata\\local\\programs\\python\\python39\\lib\\site-packages (from spacy) (0.7.5)\n",
      "Requirement already satisfied: spacy-legacy<3.1.0,>=3.0.8 in c:\\users\\keyssiarroyo\\appdata\\local\\programs\\python\\python39\\lib\\site-packages (from spacy) (3.0.8)\n",
      "Requirement already satisfied: murmurhash<1.1.0,>=0.28.0 in c:\\users\\keyssiarroyo\\appdata\\local\\programs\\python\\python39\\lib\\site-packages (from spacy) (1.0.6)\n",
      "Requirement already satisfied: cymem<2.1.0,>=2.0.2 in c:\\users\\keyssiarroyo\\appdata\\local\\programs\\python\\python39\\lib\\site-packages (from spacy) (2.0.6)\n",
      "Requirement already satisfied: thinc<8.1.0,>=8.0.12 in c:\\users\\keyssiarroyo\\appdata\\local\\programs\\python\\python39\\lib\\site-packages (from spacy) (8.0.13)\n",
      "Requirement already satisfied: preshed<3.1.0,>=3.0.2 in c:\\users\\keyssiarroyo\\appdata\\local\\programs\\python\\python39\\lib\\site-packages (from spacy) (3.0.6)\n",
      "Requirement already satisfied: typer<0.5.0,>=0.3.0 in c:\\users\\keyssiarroyo\\appdata\\local\\programs\\python\\python39\\lib\\site-packages (from spacy) (0.4.0)\n",
      "Requirement already satisfied: requests<3.0.0,>=2.13.0 in c:\\users\\keyssiarroyo\\appdata\\local\\programs\\python\\python39\\lib\\site-packages (from spacy) (2.26.0)\n",
      "Requirement already satisfied: setuptools in c:\\users\\keyssiarroyo\\appdata\\local\\programs\\python\\python39\\lib\\site-packages (from spacy) (59.5.0)\n",
      "Requirement already satisfied: pathy>=0.3.5 in c:\\users\\keyssiarroyo\\appdata\\local\\programs\\python\\python39\\lib\\site-packages (from spacy) (0.6.1)\n",
      "Requirement already satisfied: wasabi<1.1.0,>=0.8.1 in c:\\users\\keyssiarroyo\\appdata\\local\\programs\\python\\python39\\lib\\site-packages (from spacy) (0.8.2)\n",
      "Requirement already satisfied: catalogue<2.1.0,>=2.0.6 in c:\\users\\keyssiarroyo\\appdata\\local\\programs\\python\\python39\\lib\\site-packages (from spacy) (2.0.6)\n",
      "Requirement already satisfied: pydantic!=1.8,!=1.8.1,<1.9.0,>=1.7.4 in c:\\users\\keyssiarroyo\\appdata\\local\\programs\\python\\python39\\lib\\site-packages (from spacy) (1.8.2)\n",
      "Requirement already satisfied: packaging>=20.0 in c:\\users\\keyssiarroyo\\appdata\\local\\programs\\python\\python39\\lib\\site-packages (from spacy) (21.3)\n",
      "Requirement already satisfied: pyparsing!=3.0.5,>=2.0.2 in c:\\users\\keyssiarroyo\\appdata\\local\\programs\\python\\python39\\lib\\site-packages (from packaging>=20.0->spacy) (2.4.7)\n",
      "Requirement already satisfied: smart-open<6.0.0,>=5.0.0 in c:\\users\\keyssiarroyo\\appdata\\local\\programs\\python\\python39\\lib\\site-packages (from pathy>=0.3.5->spacy) (5.2.1)\n",
      "Requirement already satisfied: typing-extensions>=3.7.4.3 in c:\\users\\keyssiarroyo\\appdata\\local\\programs\\python\\python39\\lib\\site-packages (from pydantic!=1.8,!=1.8.1,<1.9.0,>=1.7.4->spacy) (3.7.4.3)\n",
      "Requirement already satisfied: urllib3<1.27,>=1.21.1 in c:\\users\\keyssiarroyo\\appdata\\local\\programs\\python\\python39\\lib\\site-packages (from requests<3.0.0,>=2.13.0->spacy) (1.26.6)\n",
      "Requirement already satisfied: certifi>=2017.4.17 in c:\\users\\keyssiarroyo\\appdata\\local\\programs\\python\\python39\\lib\\site-packages (from requests<3.0.0,>=2.13.0->spacy) (2021.5.30)\n",
      "Requirement already satisfied: idna<4,>=2.5 in c:\\users\\keyssiarroyo\\appdata\\local\\programs\\python\\python39\\lib\\site-packages (from requests<3.0.0,>=2.13.0->spacy) (3.2)\n",
      "Requirement already satisfied: charset-normalizer~=2.0.0 in c:\\users\\keyssiarroyo\\appdata\\local\\programs\\python\\python39\\lib\\site-packages (from requests<3.0.0,>=2.13.0->spacy) (2.0.5)\n",
      "Requirement already satisfied: colorama in c:\\users\\keyssiarroyo\\appdata\\local\\programs\\python\\python39\\lib\\site-packages (from tqdm<5.0.0,>=4.38.0->spacy) (0.4.4)\n",
      "Requirement already satisfied: click<9.0.0,>=7.1.1 in c:\\users\\keyssiarroyo\\appdata\\local\\programs\\python\\python39\\lib\\site-packages (from typer<0.5.0,>=0.3.0->spacy) (8.0.3)\n",
      "Requirement already satisfied: MarkupSafe>=2.0 in c:\\users\\keyssiarroyo\\appdata\\local\\programs\\python\\python39\\lib\\site-packages (from jinja2->spacy) (2.0.1)\n",
      "Collecting es-core-news-sm==3.2.0"
     ]
    },
    {
     "name": "stderr",
     "output_type": "stream",
     "text": [
      "2021-12-12 11:42:41.845265: W tensorflow/stream_executor/platform/default/dso_loader.cc:64] Could not load dynamic library 'cudart64_110.dll'; dlerror: cudart64_110.dll not found\n",
      "2021-12-12 11:42:41.849024: I tensorflow/stream_executor/cuda/cudart_stub.cc:29] Ignore above cudart dlerror if you do not have a GPU set up on your machine.\n"
     ]
    },
    {
     "name": "stdout",
     "output_type": "stream",
     "text": [
      "\n",
      "  Downloading https://github.com/explosion/spacy-models/releases/download/es_core_news_sm-3.2.0/es_core_news_sm-3.2.0-py3-none-any.whl (14.0 MB)\n",
      "Requirement already satisfied: spacy<3.3.0,>=3.2.0 in c:\\users\\keyssiarroyo\\appdata\\local\\programs\\python\\python39\\lib\\site-packages (from es-core-news-sm==3.2.0) (3.2.1)\n",
      "Requirement already satisfied: spacy-legacy<3.1.0,>=3.0.8 in c:\\users\\keyssiarroyo\\appdata\\local\\programs\\python\\python39\\lib\\site-packages (from spacy<3.3.0,>=3.2.0->es-core-news-sm==3.2.0) (3.0.8)\n",
      "Requirement already satisfied: blis<0.8.0,>=0.4.0 in c:\\users\\keyssiarroyo\\appdata\\local\\programs\\python\\python39\\lib\\site-packages (from spacy<3.3.0,>=3.2.0->es-core-news-sm==3.2.0) (0.7.5)\n",
      "Requirement already satisfied: jinja2 in c:\\users\\keyssiarroyo\\appdata\\local\\programs\\python\\python39\\lib\\site-packages (from spacy<3.3.0,>=3.2.0->es-core-news-sm==3.2.0) (3.0.3)\n",
      "Requirement already satisfied: setuptools in c:\\users\\keyssiarroyo\\appdata\\local\\programs\\python\\python39\\lib\\site-packages (from spacy<3.3.0,>=3.2.0->es-core-news-sm==3.2.0) (59.5.0)\n",
      "Requirement already satisfied: cymem<2.1.0,>=2.0.2 in c:\\users\\keyssiarroyo\\appdata\\local\\programs\\python\\python39\\lib\\site-packages (from spacy<3.3.0,>=3.2.0->es-core-news-sm==3.2.0) (2.0.6)\n",
      "Requirement already satisfied: wasabi<1.1.0,>=0.8.1 in c:\\users\\keyssiarroyo\\appdata\\local\\programs\\python\\python39\\lib\\site-packages (from spacy<3.3.0,>=3.2.0->es-core-news-sm==3.2.0) (0.8.2)\n",
      "Requirement already satisfied: spacy-loggers<2.0.0,>=1.0.0 in c:\\users\\keyssiarroyo\\appdata\\local\\programs\\python\\python39\\lib\\site-packages (from spacy<3.3.0,>=3.2.0->es-core-news-sm==3.2.0) (1.0.1)\n",
      "Requirement already satisfied: langcodes<4.0.0,>=3.2.0 in c:\\users\\keyssiarroyo\\appdata\\local\\programs\\python\\python39\\lib\\site-packages (from spacy<3.3.0,>=3.2.0->es-core-news-sm==3.2.0) (3.3.0)\n",
      "Requirement already satisfied: typer<0.5.0,>=0.3.0 in c:\\users\\keyssiarroyo\\appdata\\local\\programs\\python\\python39\\lib\\site-packages (from spacy<3.3.0,>=3.2.0->es-core-news-sm==3.2.0) (0.4.0)\n",
      "Requirement already satisfied: srsly<3.0.0,>=2.4.1 in c:\\users\\keyssiarroyo\\appdata\\local\\programs\\python\\python39\\lib\\site-packages (from spacy<3.3.0,>=3.2.0->es-core-news-sm==3.2.0) (2.4.2)\n",
      "Requirement already satisfied: catalogue<2.1.0,>=2.0.6 in c:\\users\\keyssiarroyo\\appdata\\local\\programs\\python\\python39\\lib\\site-packages (from spacy<3.3.0,>=3.2.0->es-core-news-sm==3.2.0) (2.0.6)\n",
      "Requirement already satisfied: murmurhash<1.1.0,>=0.28.0 in c:\\users\\keyssiarroyo\\appdata\\local\\programs\\python\\python39\\lib\\site-packages (from spacy<3.3.0,>=3.2.0->es-core-news-sm==3.2.0) (1.0.6)\n",
      "Requirement already satisfied: numpy>=1.15.0 in c:\\users\\keyssiarroyo\\appdata\\local\\programs\\python\\python39\\lib\\site-packages (from spacy<3.3.0,>=3.2.0->es-core-news-sm==3.2.0) (1.19.5)\n",
      "Requirement already satisfied: preshed<3.1.0,>=3.0.2 in c:\\users\\keyssiarroyo\\appdata\\local\\programs\\python\\python39\\lib\\site-packages (from spacy<3.3.0,>=3.2.0->es-core-news-sm==3.2.0) (3.0.6)\n",
      "Requirement already satisfied: pydantic!=1.8,!=1.8.1,<1.9.0,>=1.7.4 in c:\\users\\keyssiarroyo\\appdata\\local\\programs\\python\\python39\\lib\\site-packages (from spacy<3.3.0,>=3.2.0->es-core-news-sm==3.2.0) (1.8.2)\n",
      "Requirement already satisfied: packaging>=20.0 in c:\\users\\keyssiarroyo\\appdata\\local\\programs\\python\\python39\\lib\\site-packages (from spacy<3.3.0,>=3.2.0->es-core-news-sm==3.2.0) (21.3)\n",
      "Requirement already satisfied: tqdm<5.0.0,>=4.38.0 in c:\\users\\keyssiarroyo\\appdata\\local\\programs\\python\\python39\\lib\\site-packages (from spacy<3.3.0,>=3.2.0->es-core-news-sm==3.2.0) (4.62.2)\n",
      "Requirement already satisfied: thinc<8.1.0,>=8.0.12 in c:\\users\\keyssiarroyo\\appdata\\local\\programs\\python\\python39\\lib\\site-packages (from spacy<3.3.0,>=3.2.0->es-core-news-sm==3.2.0) (8.0.13)\n",
      "Requirement already satisfied: pathy>=0.3.5 in c:\\users\\keyssiarroyo\\appdata\\local\\programs\\python\\python39\\lib\\site-packages (from spacy<3.3.0,>=3.2.0->es-core-news-sm==3.2.0) (0.6.1)\n",
      "Requirement already satisfied: requests<3.0.0,>=2.13.0 in c:\\users\\keyssiarroyo\\appdata\\local\\programs\\python\\python39\\lib\\site-packages (from spacy<3.3.0,>=3.2.0->es-core-news-sm==3.2.0) (2.26.0)\n",
      "Requirement already satisfied: pyparsing!=3.0.5,>=2.0.2 in c:\\users\\keyssiarroyo\\appdata\\local\\programs\\python\\python39\\lib\\site-packages (from packaging>=20.0->spacy<3.3.0,>=3.2.0->es-core-news-sm==3.2.0) (2.4.7)\n",
      "Requirement already satisfied: smart-open<6.0.0,>=5.0.0 in c:\\users\\keyssiarroyo\\appdata\\local\\programs\\python\\python39\\lib\\site-packages (from pathy>=0.3.5->spacy<3.3.0,>=3.2.0->es-core-news-sm==3.2.0) (5.2.1)\n",
      "Requirement already satisfied: typing-extensions>=3.7.4.3 in c:\\users\\keyssiarroyo\\appdata\\local\\programs\\python\\python39\\lib\\site-packages (from pydantic!=1.8,!=1.8.1,<1.9.0,>=1.7.4->spacy<3.3.0,>=3.2.0->es-core-news-sm==3.2.0) (3.7.4.3)\n",
      "Requirement already satisfied: certifi>=2017.4.17 in c:\\users\\keyssiarroyo\\appdata\\local\\programs\\python\\python39\\lib\\site-packages (from requests<3.0.0,>=2.13.0->spacy<3.3.0,>=3.2.0->es-core-news-sm==3.2.0) (2021.5.30)\n",
      "Requirement already satisfied: urllib3<1.27,>=1.21.1 in c:\\users\\keyssiarroyo\\appdata\\local\\programs\\python\\python39\\lib\\site-packages (from requests<3.0.0,>=2.13.0->spacy<3.3.0,>=3.2.0->es-core-news-sm==3.2.0) (1.26.6)\n",
      "Requirement already satisfied: idna<4,>=2.5 in c:\\users\\keyssiarroyo\\appdata\\local\\programs\\python\\python39\\lib\\site-packages (from requests<3.0.0,>=2.13.0->spacy<3.3.0,>=3.2.0->es-core-news-sm==3.2.0) (3.2)\n",
      "Requirement already satisfied: charset-normalizer~=2.0.0 in c:\\users\\keyssiarroyo\\appdata\\local\\programs\\python\\python39\\lib\\site-packages (from requests<3.0.0,>=2.13.0->spacy<3.3.0,>=3.2.0->es-core-news-sm==3.2.0) (2.0.5)\n",
      "Requirement already satisfied: colorama in c:\\users\\keyssiarroyo\\appdata\\local\\programs\\python\\python39\\lib\\site-packages (from tqdm<5.0.0,>=4.38.0->spacy<3.3.0,>=3.2.0->es-core-news-sm==3.2.0) (0.4.4)\n",
      "Requirement already satisfied: click<9.0.0,>=7.1.1 in c:\\users\\keyssiarroyo\\appdata\\local\\programs\\python\\python39\\lib\\site-packages (from typer<0.5.0,>=0.3.0->spacy<3.3.0,>=3.2.0->es-core-news-sm==3.2.0) (8.0.3)\n",
      "Requirement already satisfied: MarkupSafe>=2.0 in c:\\users\\keyssiarroyo\\appdata\\local\\programs\\python\\python39\\lib\\site-packages (from jinja2->spacy<3.3.0,>=3.2.0->es-core-news-sm==3.2.0) (2.0.1)\n",
      "✔ Download and installation successful\n",
      "You can now load the package via spacy.load('es_core_news_sm')\n"
     ]
    }
   ],
   "source": [
    "!pip install openpyxl\n",
    "!pip install swat\n",
    "!pip install seaborn\n",
    "!pip install time\n",
    "!pip install -U pip setuptools wheel\n",
    "!pip install -U spacy\n",
    "!python -m spacy download es_core_news_sm"
   ]
  },
  {
   "cell_type": "code",
   "execution_count": 6,
   "metadata": {},
   "outputs": [
    {
     "data": {
      "text/html": [
       "<div>\n",
       "<style scoped>\n",
       "    .dataframe tbody tr th:only-of-type {\n",
       "        vertical-align: middle;\n",
       "    }\n",
       "\n",
       "    .dataframe tbody tr th {\n",
       "        vertical-align: top;\n",
       "    }\n",
       "\n",
       "    .dataframe thead th {\n",
       "        text-align: right;\n",
       "    }\n",
       "</style>\n",
       "<table border=\"1\" class=\"dataframe\">\n",
       "  <thead>\n",
       "    <tr style=\"text-align: right;\">\n",
       "      <th></th>\n",
       "      <th>NÚMERO PEDIDO</th>\n",
       "      <th>ORDEN NÚMERO</th>\n",
       "      <th>FECHA ORDEN</th>\n",
       "      <th>FECHA ENTREGA</th>\n",
       "      <th>FECHA APROBACION</th>\n",
       "      <th>CATEGORÍA</th>\n",
       "      <th>SUBCATEGORIA</th>\n",
       "      <th>PROVEEDOR</th>\n",
       "      <th>USUARIO</th>\n",
       "      <th>USUARIO APROBADOR</th>\n",
       "      <th>...</th>\n",
       "      <th>CANTIDAD RECIBIDA</th>\n",
       "      <th>PRECIO UNITARIO</th>\n",
       "      <th>PRECIO UNITARIO + IVA</th>\n",
       "      <th>IVA</th>\n",
       "      <th>TOTAL SIN IVA</th>\n",
       "      <th>TOTAL + IVA</th>\n",
       "      <th>FECHA ULTIMO MOVIMIENTO</th>\n",
       "      <th>Unnamed: 26</th>\n",
       "      <th>Unnamed: 27</th>\n",
       "      <th>Unnamed: 28</th>\n",
       "    </tr>\n",
       "  </thead>\n",
       "  <tbody>\n",
       "    <tr>\n",
       "      <th>0</th>\n",
       "      <td># 49561</td>\n",
       "      <td># 2582</td>\n",
       "      <td>2021-11-10</td>\n",
       "      <td>2021-11-10</td>\n",
       "      <td>2021-11-10</td>\n",
       "      <td>Eléctricos y Electrónicos</td>\n",
       "      <td>Lámparas y bombillas y componentes para lámparas</td>\n",
       "      <td>Proveedor 1</td>\n",
       "      <td>Usuario solicitante 1</td>\n",
       "      <td>Usuario Aprobador 1</td>\n",
       "      <td>...</td>\n",
       "      <td>NaN</td>\n",
       "      <td>23.364</td>\n",
       "      <td>27.803</td>\n",
       "      <td>4.439</td>\n",
       "      <td>46.728</td>\n",
       "      <td>55.606</td>\n",
       "      <td>2021-11-10</td>\n",
       "      <td>NaN</td>\n",
       "      <td>NaN</td>\n",
       "      <td>NaN</td>\n",
       "    </tr>\n",
       "    <tr>\n",
       "      <th>1</th>\n",
       "      <td># 49560</td>\n",
       "      <td># 2581</td>\n",
       "      <td>2021-11-10</td>\n",
       "      <td>2021-11-11</td>\n",
       "      <td>2021-11-10</td>\n",
       "      <td>Mercadeo y publicidad</td>\n",
       "      <td>Publicidad</td>\n",
       "      <td>Proveedor 2</td>\n",
       "      <td>Usuario solicitante 2</td>\n",
       "      <td>Usuario Aprobador 2</td>\n",
       "      <td>...</td>\n",
       "      <td>1.0</td>\n",
       "      <td>1.476.972</td>\n",
       "      <td>1.757.597</td>\n",
       "      <td>280.625</td>\n",
       "      <td>1.476.972</td>\n",
       "      <td>1.757.597</td>\n",
       "      <td>2021-11-10</td>\n",
       "      <td>NaN</td>\n",
       "      <td>NaN</td>\n",
       "      <td>NaN</td>\n",
       "    </tr>\n",
       "    <tr>\n",
       "      <th>2</th>\n",
       "      <td># 49559</td>\n",
       "      <td># 2580</td>\n",
       "      <td>2021-11-10</td>\n",
       "      <td>2021-11-10</td>\n",
       "      <td>2021-11-10</td>\n",
       "      <td>Alimentos y Bebidas</td>\n",
       "      <td>Alimentos preparados y conservados</td>\n",
       "      <td>Proveedor 3</td>\n",
       "      <td>Usuario solicitante 3</td>\n",
       "      <td>Usuario Aprobador 3</td>\n",
       "      <td>...</td>\n",
       "      <td>NaN</td>\n",
       "      <td>15.500</td>\n",
       "      <td>15.500</td>\n",
       "      <td>0</td>\n",
       "      <td>155.000</td>\n",
       "      <td>155.000</td>\n",
       "      <td>2021-11-10</td>\n",
       "      <td>NaN</td>\n",
       "      <td>NaN</td>\n",
       "      <td>NaN</td>\n",
       "    </tr>\n",
       "    <tr>\n",
       "      <th>3</th>\n",
       "      <td># 49558</td>\n",
       "      <td># 1892</td>\n",
       "      <td>2021-11-10</td>\n",
       "      <td>2021-11-12</td>\n",
       "      <td>2021-11-10</td>\n",
       "      <td>Alimentos y Bebidas</td>\n",
       "      <td>Productos de carne y aves de corral</td>\n",
       "      <td>Proveedor 4</td>\n",
       "      <td>Usuario solicitante 4</td>\n",
       "      <td>Usuario Aprobador 4</td>\n",
       "      <td>...</td>\n",
       "      <td>NaN</td>\n",
       "      <td>22.000</td>\n",
       "      <td>22.000</td>\n",
       "      <td>0</td>\n",
       "      <td>1.100.000</td>\n",
       "      <td>1.100.000</td>\n",
       "      <td>2021-11-10</td>\n",
       "      <td>NaN</td>\n",
       "      <td>NaN</td>\n",
       "      <td>NaN</td>\n",
       "    </tr>\n",
       "    <tr>\n",
       "      <th>4</th>\n",
       "      <td># 49557</td>\n",
       "      <td># 1</td>\n",
       "      <td>2021-11-10</td>\n",
       "      <td>2021-11-09</td>\n",
       "      <td>2021-11-10</td>\n",
       "      <td>Imprenta y litografía</td>\n",
       "      <td>Otra</td>\n",
       "      <td>Proveedor 5</td>\n",
       "      <td>Usuario solicitante 5</td>\n",
       "      <td>Usuario Aprobador 5</td>\n",
       "      <td>...</td>\n",
       "      <td>7.0</td>\n",
       "      <td>92.084</td>\n",
       "      <td>109.580</td>\n",
       "      <td>17.496</td>\n",
       "      <td>644.588</td>\n",
       "      <td>767.060</td>\n",
       "      <td>2021-11-10</td>\n",
       "      <td>NaN</td>\n",
       "      <td>NaN</td>\n",
       "      <td>NaN</td>\n",
       "    </tr>\n",
       "  </tbody>\n",
       "</table>\n",
       "<p>5 rows × 29 columns</p>\n",
       "</div>"
      ],
      "text/plain": [
       "  NÚMERO PEDIDO ORDEN NÚMERO FECHA ORDEN FECHA ENTREGA FECHA APROBACION  \\\n",
       "0       # 49561       # 2582  2021-11-10    2021-11-10       2021-11-10   \n",
       "1       # 49560       # 2581  2021-11-10    2021-11-11       2021-11-10   \n",
       "2       # 49559       # 2580  2021-11-10    2021-11-10       2021-11-10   \n",
       "3       # 49558       # 1892  2021-11-10    2021-11-12       2021-11-10   \n",
       "4       # 49557          # 1  2021-11-10    2021-11-09       2021-11-10   \n",
       "\n",
       "                   CATEGORÍA  \\\n",
       "0  Eléctricos y Electrónicos   \n",
       "1      Mercadeo y publicidad   \n",
       "2        Alimentos y Bebidas   \n",
       "3        Alimentos y Bebidas   \n",
       "4      Imprenta y litografía   \n",
       "\n",
       "                                       SUBCATEGORIA    PROVEEDOR  \\\n",
       "0  Lámparas y bombillas y componentes para lámparas  Proveedor 1   \n",
       "1                                        Publicidad  Proveedor 2   \n",
       "2                Alimentos preparados y conservados  Proveedor 3   \n",
       "3               Productos de carne y aves de corral  Proveedor 4   \n",
       "4                                              Otra  Proveedor 5   \n",
       "\n",
       "                 USUARIO    USUARIO APROBADOR  ... CANTIDAD RECIBIDA  \\\n",
       "0  Usuario solicitante 1  Usuario Aprobador 1  ...               NaN   \n",
       "1  Usuario solicitante 2  Usuario Aprobador 2  ...               1.0   \n",
       "2  Usuario solicitante 3  Usuario Aprobador 3  ...               NaN   \n",
       "3  Usuario solicitante 4  Usuario Aprobador 4  ...               NaN   \n",
       "4  Usuario solicitante 5  Usuario Aprobador 5  ...               7.0   \n",
       "\n",
       "  PRECIO UNITARIO PRECIO UNITARIO + IVA      IVA TOTAL SIN IVA TOTAL + IVA  \\\n",
       "0          23.364                27.803    4.439        46.728      55.606   \n",
       "1       1.476.972             1.757.597  280.625     1.476.972   1.757.597   \n",
       "2          15.500                15.500        0       155.000     155.000   \n",
       "3          22.000                22.000        0     1.100.000   1.100.000   \n",
       "4          92.084               109.580   17.496       644.588     767.060   \n",
       "\n",
       "  FECHA ULTIMO MOVIMIENTO Unnamed: 26  Unnamed: 27  Unnamed: 28  \n",
       "0              2021-11-10         NaN          NaN          NaN  \n",
       "1              2021-11-10         NaN          NaN          NaN  \n",
       "2              2021-11-10         NaN          NaN          NaN  \n",
       "3              2021-11-10         NaN          NaN          NaN  \n",
       "4              2021-11-10         NaN          NaN          NaN  \n",
       "\n",
       "[5 rows x 29 columns]"
      ]
     },
     "execution_count": 6,
     "metadata": {},
     "output_type": "execute_result"
    }
   ],
   "source": [
    "file_name =r'Ordenes de compra PORTAL 1K (datos completo).xlsx'\n",
    "sheet =  'Datos estudio'\n",
    "\n",
    "import pandas as pd\n",
    "data_pro = pd.read_excel(io=file_name, sheet_name=sheet)\n",
    "\n",
    "data_pro.head(5)"
   ]
  },
  {
   "cell_type": "code",
   "execution_count": 7,
   "metadata": {},
   "outputs": [
    {
     "data": {
      "text/plain": [
       "Index(['NÚMERO PEDIDO', 'ORDEN NÚMERO', 'FECHA ORDEN', 'FECHA ENTREGA',\n",
       "       'FECHA APROBACION', 'CATEGORÍA', 'SUBCATEGORIA', 'PROVEEDOR', 'USUARIO',\n",
       "       'USUARIO APROBADOR', 'DIRECCION PEDIDO', 'DIRECCION FACTURACION',\n",
       "       'CENTRO DE COSTOS', 'PRESUPUESTO', 'PORTAL', 'ESTADO',\n",
       "       'PRODUCTO O SERVICIO', 'CODIGO PORTAL', 'CANTIDAD PEDIDA',\n",
       "       'CANTIDAD RECIBIDA', 'PRECIO UNITARIO', 'PRECIO UNITARIO + IVA', 'IVA',\n",
       "       'TOTAL SIN IVA', 'TOTAL + IVA', 'FECHA ULTIMO MOVIMIENTO',\n",
       "       'Unnamed: 26', 'Unnamed: 27', 'Unnamed: 28'],\n",
       "      dtype='object')"
      ]
     },
     "execution_count": 7,
     "metadata": {},
     "output_type": "execute_result"
    }
   ],
   "source": [
    "data_pro.columns"
   ]
  },
  {
   "cell_type": "code",
   "execution_count": 8,
   "metadata": {},
   "outputs": [
    {
     "data": {
      "text/plain": [
       "<AxesSubplot:xlabel='CATEGORÍA'>"
      ]
     },
     "execution_count": 8,
     "metadata": {},
     "output_type": "execute_result"
    },
    {
     "data": {
      "image/png": "[encoded data removed]",
      "text/plain": [
       "<Figure size 432x288 with 1 Axes>"
      ]
     },
     "metadata": {
      "needs_background": "light"
     },
     "output_type": "display_data"
    }
   ],
   "source": [
    "data_pro.groupby(['CATEGORÍA']).size().plot(kind=\"bar\")"
   ]
  },
  {
   "cell_type": "code",
   "execution_count": 9,
   "metadata": {},
   "outputs": [
    {
     "data": {
      "text/plain": [
       "<AxesSubplot:xlabel='ESTADO'>"
      ]
     },
     "execution_count": 9,
     "metadata": {},
     "output_type": "execute_result"
    },
    {
     "data": {
      "image/png": "[encoded data removed]",
      "text/plain": [
       "<Figure size 432x288 with 1 Axes>"
      ]
     },
     "metadata": {
      "needs_background": "light"
     },
     "output_type": "display_data"
    }
   ],
   "source": [
    "data_pro.groupby(['ESTADO']).size().plot(kind=\"bar\")"
   ]
  },
  {
   "cell_type": "code",
   "execution_count": 10,
   "metadata": {},
   "outputs": [
    {
     "data": {
      "text/plain": [
       "<AxesSubplot:xlabel='SUBCATEGORIA'>"
      ]
     },
     "execution_count": 10,
     "metadata": {},
     "output_type": "execute_result"
    },
    {
     "data": {
      "image/png": "[encoded data removed]",
      "text/plain": [
       "<Figure size 432x288 with 1 Axes>"
      ]
     },
     "metadata": {
      "needs_background": "light"
     },
     "output_type": "display_data"
    }
   ],
   "source": [
    "data_pro.groupby(['SUBCATEGORIA']).size().sort_values(ascending=False)[:15].plot(kind=\"bar\")"
   ]
  },
  {
   "cell_type": "code",
   "execution_count": 11,
   "metadata": {},
   "outputs": [
    {
     "data": {
      "text/plain": [
       "<AxesSubplot:xlabel='PROVEEDOR'>"
      ]
     },
     "execution_count": 11,
     "metadata": {},
     "output_type": "execute_result"
    },
    {
     "data": {
      "image/png": "[encoded data removed]",
      "text/plain": [
       "<Figure size 432x288 with 1 Axes>"
      ]
     },
     "metadata": {
      "needs_background": "light"
     },
     "output_type": "display_data"
    }
   ],
   "source": [
    "data_pro.groupby(['PROVEEDOR']).size().sort_values(ascending=False)[:15].plot(kind=\"bar\")"
   ]
  },
  {
   "cell_type": "code",
   "execution_count": 12,
   "metadata": {},
   "outputs": [
    {
     "data": {
      "text/plain": [
       "<AxesSubplot:xlabel='USUARIO'>"
      ]
     },
     "execution_count": 12,
     "metadata": {},
     "output_type": "execute_result"
    },
    {
     "data": {
      "image/png": "[encoded data removed]",
      "text/plain": [
       "<Figure size 432x288 with 1 Axes>"
      ]
     },
     "metadata": {
      "needs_background": "light"
     },
     "output_type": "display_data"
    }
   ],
   "source": [
    "data_pro.groupby(['USUARIO']).size().sort_values(ascending=False)[:15].plot(kind=\"bar\")"
   ]
  },
  {
   "cell_type": "code",
   "execution_count": 13,
   "metadata": {},
   "outputs": [
    {
     "data": {
      "text/plain": [
       "SUBCATEGORIA\n",
       "Seguridad y protección personal        6733\n",
       "Alimentos preparados y conservados     2243\n",
       "Elementos de aseo y limpieza           1997\n",
       "Elementos de papelería                 1618\n",
       "Bebidas                                1328\n",
       "Productos de carne y aves de corral     787\n",
       "Productos lácteos y huevos              720\n",
       "Otra                                    572\n",
       "Productos de cereales y legumbres       497\n",
       "Herramientas y maquinaria               489\n",
       "dtype: int64"
      ]
     },
     "execution_count": 13,
     "metadata": {},
     "output_type": "execute_result"
    }
   ],
   "source": [
    "data_pro.groupby(['SUBCATEGORIA']).size().sort_values(ascending=False)[:10]"
   ]
  },
  {
   "cell_type": "code",
   "execution_count": 14,
   "metadata": {},
   "outputs": [
    {
     "name": "stdout",
     "output_type": "stream",
     "text": [
      "Number of stop words: 551\n",
      "First ten stop words: ['intenta', 'según', 'señaló', 'verdadera', 'cuántos', 'alguno', 'sabe', 'hoy', 'usais', 'antes', 'días', 'mío', 'pasado', 'toda', 'he', 'arriba', 'mencionó', 'ejemplo', 'ultimo', 'aquello']\n"
     ]
    }
   ],
   "source": [
    "#Stop words\n",
    "#importing stop words from English language.\n",
    "import spacy\n",
    "import spacy.lang.es\n",
    "spacy_stopwords = spacy.lang.es.stop_words.STOP_WORDS\n",
    "\n",
    "#Printing the total number of stop words:\n",
    "print('Number of stop words: %d' % len(spacy_stopwords))\n",
    "\n",
    "#Printing first ten stop words:\n",
    "print('First ten stop words: %s' % list(spacy_stopwords)[:20])"
   ]
  },
  {
   "cell_type": "code",
   "execution_count": 15,
   "metadata": {},
   "outputs": [],
   "source": [
    "import pandas as pd\n",
    "from sklearn.feature_extraction.text import CountVectorizer,TfidfVectorizer\n",
    "from sklearn.base import TransformerMixin\n",
    "from sklearn.pipeline import Pipeline"
   ]
  },
  {
   "cell_type": "code",
   "execution_count": 16,
   "metadata": {},
   "outputs": [
    {
     "name": "stdout",
     "output_type": "stream",
     "text": [
      "<class 'pandas.core.frame.DataFrame'>\n",
      "RangeIndex: 23083 entries, 0 to 23082\n",
      "Data columns (total 29 columns):\n",
      " #   Column                   Non-Null Count  Dtype  \n",
      "---  ------                   --------------  -----  \n",
      " 0   NÚMERO PEDIDO            23083 non-null  object \n",
      " 1   ORDEN NÚMERO             23083 non-null  object \n",
      " 2   FECHA ORDEN              23083 non-null  object \n",
      " 3   FECHA ENTREGA            18770 non-null  object \n",
      " 4   FECHA APROBACION         21950 non-null  object \n",
      " 5   CATEGORÍA                23083 non-null  object \n",
      " 6   SUBCATEGORIA             23083 non-null  object \n",
      " 7   PROVEEDOR                23083 non-null  object \n",
      " 8   USUARIO                  23083 non-null  object \n",
      " 9   USUARIO APROBADOR        21950 non-null  object \n",
      " 10  DIRECCION PEDIDO         23083 non-null  object \n",
      " 11  DIRECCION FACTURACION    10828 non-null  object \n",
      " 12  CENTRO DE COSTOS         16672 non-null  object \n",
      " 13  PRESUPUESTO              18581 non-null  object \n",
      " 14  PORTAL                   23083 non-null  object \n",
      " 15  ESTADO                   23083 non-null  object \n",
      " 16  PRODUCTO O SERVICIO      23083 non-null  object \n",
      " 17  CODIGO PORTAL            18223 non-null  object \n",
      " 18  CANTIDAD PEDIDA          23083 non-null  float64\n",
      " 19  CANTIDAD RECIBIDA        16013 non-null  float64\n",
      " 20  PRECIO UNITARIO          23083 non-null  object \n",
      " 21  PRECIO UNITARIO + IVA    23083 non-null  object \n",
      " 22  IVA                      23083 non-null  object \n",
      " 23  TOTAL SIN IVA            23083 non-null  object \n",
      " 24  TOTAL + IVA              23083 non-null  object \n",
      " 25  FECHA ULTIMO MOVIMIENTO  23083 non-null  object \n",
      " 26  Unnamed: 26              0 non-null      float64\n",
      " 27  Unnamed: 27              0 non-null      float64\n",
      " 28  Unnamed: 28              11 non-null     object \n",
      "dtypes: float64(4), object(25)\n",
      "memory usage: 5.1+ MB\n"
     ]
    }
   ],
   "source": [
    "data_pro.info()"
   ]
  },
  {
   "cell_type": "code",
   "execution_count": 17,
   "metadata": {},
   "outputs": [],
   "source": [
    "count_sub=data_pro.SUBCATEGORIA.value_counts()\n"
   ]
  },
  {
   "cell_type": "code",
   "execution_count": 18,
   "metadata": {},
   "outputs": [
    {
     "data": {
      "text/plain": [
       "Seguridad y protección personal                    6733\n",
       "Alimentos preparados y conservados                 2243\n",
       "Elementos de aseo y limpieza                       1997\n",
       "Elementos de papelería                             1618\n",
       "Bebidas                                            1328\n",
       "                                                   ... \n",
       "Calefacción, ventilación y circulación del aire       1\n",
       "Medios impresos                                       1\n",
       "Almacenaje                                            1\n",
       "Generación de energía                                 1\n",
       "Rodamientos, cojinetes ruedas y engranajes            1\n",
       "Name: SUBCATEGORIA, Length: 149, dtype: int64"
      ]
     },
     "execution_count": 18,
     "metadata": {},
     "output_type": "execute_result"
    }
   ],
   "source": [
    "count_sub"
   ]
  },
  {
   "cell_type": "code",
   "execution_count": 19,
   "metadata": {},
   "outputs": [],
   "source": [
    "data_pro=data_pro.merge(right=count_sub, how=\"left\", left_on=\"SUBCATEGORIA\", right_index=True)"
   ]
  },
  {
   "cell_type": "code",
   "execution_count": 20,
   "metadata": {},
   "outputs": [
    {
     "data": {
      "text/plain": [
       "SUBCATEGORIA_x                     \n",
       "Seguridad y protección personal        6733\n",
       "Alimentos preparados y conservados     2243\n",
       "Elementos de aseo y limpieza           1997\n",
       "Elementos de papelería                 1618\n",
       "Bebidas                                1328\n",
       "Productos de carne y aves de corral     787\n",
       "Productos lácteos y huevos              720\n",
       "Otra                                    572\n",
       "dtype: int64"
      ]
     },
     "execution_count": 20,
     "metadata": {},
     "output_type": "execute_result"
    }
   ],
   "source": [
    "data_pro[['SUBCATEGORIA_x']][data_pro['SUBCATEGORIA_y']>500].value_counts()"
   ]
  },
  {
   "cell_type": "code",
   "execution_count": 21,
   "metadata": {},
   "outputs": [],
   "source": [
    "data_pro2=data_pro[data_pro['SUBCATEGORIA_y']>500]"
   ]
  },
  {
   "cell_type": "code",
   "execution_count": 22,
   "metadata": {},
   "outputs": [
    {
     "data": {
      "text/html": [
       "<div>\n",
       "<style scoped>\n",
       "    .dataframe tbody tr th:only-of-type {\n",
       "        vertical-align: middle;\n",
       "    }\n",
       "\n",
       "    .dataframe tbody tr th {\n",
       "        vertical-align: top;\n",
       "    }\n",
       "\n",
       "    .dataframe thead th {\n",
       "        text-align: right;\n",
       "    }\n",
       "</style>\n",
       "<table border=\"1\" class=\"dataframe\">\n",
       "  <thead>\n",
       "    <tr style=\"text-align: right;\">\n",
       "      <th></th>\n",
       "      <th>NÚMERO PEDIDO</th>\n",
       "      <th>ORDEN NÚMERO</th>\n",
       "      <th>FECHA ORDEN</th>\n",
       "      <th>FECHA ENTREGA</th>\n",
       "      <th>FECHA APROBACION</th>\n",
       "      <th>CATEGORÍA</th>\n",
       "      <th>SUBCATEGORIA_x</th>\n",
       "      <th>PROVEEDOR</th>\n",
       "      <th>USUARIO</th>\n",
       "      <th>USUARIO APROBADOR</th>\n",
       "      <th>...</th>\n",
       "      <th>PRECIO UNITARIO</th>\n",
       "      <th>PRECIO UNITARIO + IVA</th>\n",
       "      <th>IVA</th>\n",
       "      <th>TOTAL SIN IVA</th>\n",
       "      <th>TOTAL + IVA</th>\n",
       "      <th>FECHA ULTIMO MOVIMIENTO</th>\n",
       "      <th>Unnamed: 26</th>\n",
       "      <th>Unnamed: 27</th>\n",
       "      <th>Unnamed: 28</th>\n",
       "      <th>SUBCATEGORIA_y</th>\n",
       "    </tr>\n",
       "  </thead>\n",
       "  <tbody>\n",
       "    <tr>\n",
       "      <th>2</th>\n",
       "      <td># 49559</td>\n",
       "      <td># 2580</td>\n",
       "      <td>2021-11-10</td>\n",
       "      <td>2021-11-10</td>\n",
       "      <td>2021-11-10</td>\n",
       "      <td>Alimentos y Bebidas</td>\n",
       "      <td>Alimentos preparados y conservados</td>\n",
       "      <td>Proveedor 3</td>\n",
       "      <td>Usuario solicitante 3</td>\n",
       "      <td>Usuario Aprobador 3</td>\n",
       "      <td>...</td>\n",
       "      <td>15.500</td>\n",
       "      <td>15.500</td>\n",
       "      <td>0</td>\n",
       "      <td>155.000</td>\n",
       "      <td>155.000</td>\n",
       "      <td>2021-11-10</td>\n",
       "      <td>NaN</td>\n",
       "      <td>NaN</td>\n",
       "      <td>NaN</td>\n",
       "      <td>2243</td>\n",
       "    </tr>\n",
       "    <tr>\n",
       "      <th>3</th>\n",
       "      <td># 49558</td>\n",
       "      <td># 1892</td>\n",
       "      <td>2021-11-10</td>\n",
       "      <td>2021-11-12</td>\n",
       "      <td>2021-11-10</td>\n",
       "      <td>Alimentos y Bebidas</td>\n",
       "      <td>Productos de carne y aves de corral</td>\n",
       "      <td>Proveedor 4</td>\n",
       "      <td>Usuario solicitante 4</td>\n",
       "      <td>Usuario Aprobador 4</td>\n",
       "      <td>...</td>\n",
       "      <td>22.000</td>\n",
       "      <td>22.000</td>\n",
       "      <td>0</td>\n",
       "      <td>1.100.000</td>\n",
       "      <td>1.100.000</td>\n",
       "      <td>2021-11-10</td>\n",
       "      <td>NaN</td>\n",
       "      <td>NaN</td>\n",
       "      <td>NaN</td>\n",
       "      <td>787</td>\n",
       "    </tr>\n",
       "    <tr>\n",
       "      <th>4</th>\n",
       "      <td># 49557</td>\n",
       "      <td># 1</td>\n",
       "      <td>2021-11-10</td>\n",
       "      <td>2021-11-09</td>\n",
       "      <td>2021-11-10</td>\n",
       "      <td>Imprenta y litografía</td>\n",
       "      <td>Otra</td>\n",
       "      <td>Proveedor 5</td>\n",
       "      <td>Usuario solicitante 5</td>\n",
       "      <td>Usuario Aprobador 5</td>\n",
       "      <td>...</td>\n",
       "      <td>92.084</td>\n",
       "      <td>109.580</td>\n",
       "      <td>17.496</td>\n",
       "      <td>644.588</td>\n",
       "      <td>767.060</td>\n",
       "      <td>2021-11-10</td>\n",
       "      <td>NaN</td>\n",
       "      <td>NaN</td>\n",
       "      <td>NaN</td>\n",
       "      <td>572</td>\n",
       "    </tr>\n",
       "    <tr>\n",
       "      <th>18</th>\n",
       "      <td># 49545</td>\n",
       "      <td># 1891</td>\n",
       "      <td>2021-11-09</td>\n",
       "      <td>2021-11-10</td>\n",
       "      <td>2021-11-09</td>\n",
       "      <td>Alimentos y Bebidas</td>\n",
       "      <td>Productos de carne y aves de corral</td>\n",
       "      <td>Proveedor 11</td>\n",
       "      <td>Usuario solicitante 4</td>\n",
       "      <td>Usuario Aprobador 4</td>\n",
       "      <td>...</td>\n",
       "      <td>24.980</td>\n",
       "      <td>24.980</td>\n",
       "      <td>0</td>\n",
       "      <td>2.498.000</td>\n",
       "      <td>2.498.000</td>\n",
       "      <td>2021-11-09</td>\n",
       "      <td>NaN</td>\n",
       "      <td>NaN</td>\n",
       "      <td>NaN</td>\n",
       "      <td>787</td>\n",
       "    </tr>\n",
       "    <tr>\n",
       "      <th>22</th>\n",
       "      <td># 49541</td>\n",
       "      <td># 1890</td>\n",
       "      <td>2021-11-09</td>\n",
       "      <td>2021-11-10</td>\n",
       "      <td>2021-11-09</td>\n",
       "      <td>Alimentos y Bebidas</td>\n",
       "      <td>Productos de carne y aves de corral</td>\n",
       "      <td>Proveedor 4</td>\n",
       "      <td>Usuario solicitante 4</td>\n",
       "      <td>Usuario Aprobador 4</td>\n",
       "      <td>...</td>\n",
       "      <td>20.500</td>\n",
       "      <td>20.500</td>\n",
       "      <td>0</td>\n",
       "      <td>1.025.000</td>\n",
       "      <td>1.025.000</td>\n",
       "      <td>2021-11-09</td>\n",
       "      <td>NaN</td>\n",
       "      <td>NaN</td>\n",
       "      <td>NaN</td>\n",
       "      <td>787</td>\n",
       "    </tr>\n",
       "    <tr>\n",
       "      <th>...</th>\n",
       "      <td>...</td>\n",
       "      <td>...</td>\n",
       "      <td>...</td>\n",
       "      <td>...</td>\n",
       "      <td>...</td>\n",
       "      <td>...</td>\n",
       "      <td>...</td>\n",
       "      <td>...</td>\n",
       "      <td>...</td>\n",
       "      <td>...</td>\n",
       "      <td>...</td>\n",
       "      <td>...</td>\n",
       "      <td>...</td>\n",
       "      <td>...</td>\n",
       "      <td>...</td>\n",
       "      <td>...</td>\n",
       "      <td>...</td>\n",
       "      <td>...</td>\n",
       "      <td>...</td>\n",
       "      <td>...</td>\n",
       "      <td>...</td>\n",
       "    </tr>\n",
       "    <tr>\n",
       "      <th>23076</th>\n",
       "      <td># 3</td>\n",
       "      <td># 3</td>\n",
       "      <td>2018-05-01</td>\n",
       "      <td>NaN</td>\n",
       "      <td>2018-05-01</td>\n",
       "      <td>Vigilancia y seguridad industrial</td>\n",
       "      <td>Seguridad y protección personal</td>\n",
       "      <td>Proveedor 229</td>\n",
       "      <td>Usuario solicitante 131</td>\n",
       "      <td>Usuario Aprobador 70</td>\n",
       "      <td>...</td>\n",
       "      <td>84</td>\n",
       "      <td>100</td>\n",
       "      <td>16</td>\n",
       "      <td>252</td>\n",
       "      <td>300</td>\n",
       "      <td>2018-05-01</td>\n",
       "      <td>NaN</td>\n",
       "      <td>NaN</td>\n",
       "      <td>NaN</td>\n",
       "      <td>6733</td>\n",
       "    </tr>\n",
       "    <tr>\n",
       "      <th>23077</th>\n",
       "      <td># 2</td>\n",
       "      <td># 2</td>\n",
       "      <td>2018-04-30</td>\n",
       "      <td>NaN</td>\n",
       "      <td>2018-05-01</td>\n",
       "      <td>Vigilancia y seguridad industrial</td>\n",
       "      <td>Seguridad y protección personal</td>\n",
       "      <td>Proveedor 229</td>\n",
       "      <td>Usuario solicitante 131</td>\n",
       "      <td>Usuario Aprobador 70</td>\n",
       "      <td>...</td>\n",
       "      <td>84</td>\n",
       "      <td>100</td>\n",
       "      <td>16</td>\n",
       "      <td>84</td>\n",
       "      <td>100</td>\n",
       "      <td>2018-05-01</td>\n",
       "      <td>NaN</td>\n",
       "      <td>NaN</td>\n",
       "      <td>NaN</td>\n",
       "      <td>6733</td>\n",
       "    </tr>\n",
       "    <tr>\n",
       "      <th>23078</th>\n",
       "      <td># 2</td>\n",
       "      <td># 2</td>\n",
       "      <td>2018-04-30</td>\n",
       "      <td>NaN</td>\n",
       "      <td>2018-05-01</td>\n",
       "      <td>Aseo, Cafetería y Oficina</td>\n",
       "      <td>Elementos de papelería</td>\n",
       "      <td>Proveedor 229</td>\n",
       "      <td>Usuario solicitante 131</td>\n",
       "      <td>Usuario Aprobador 70</td>\n",
       "      <td>...</td>\n",
       "      <td>33.613</td>\n",
       "      <td>40.000</td>\n",
       "      <td>6.387</td>\n",
       "      <td>268.908</td>\n",
       "      <td>320.000</td>\n",
       "      <td>2018-05-01</td>\n",
       "      <td>NaN</td>\n",
       "      <td>NaN</td>\n",
       "      <td>NaN</td>\n",
       "      <td>1618</td>\n",
       "    </tr>\n",
       "    <tr>\n",
       "      <th>23079</th>\n",
       "      <td># 2</td>\n",
       "      <td># 2</td>\n",
       "      <td>2018-04-30</td>\n",
       "      <td>NaN</td>\n",
       "      <td>2018-05-01</td>\n",
       "      <td>Aseo, Cafetería y Oficina</td>\n",
       "      <td>Elementos de papelería</td>\n",
       "      <td>Proveedor 229</td>\n",
       "      <td>Usuario solicitante 131</td>\n",
       "      <td>Usuario Aprobador 70</td>\n",
       "      <td>...</td>\n",
       "      <td>588</td>\n",
       "      <td>700</td>\n",
       "      <td>112</td>\n",
       "      <td>588</td>\n",
       "      <td>700</td>\n",
       "      <td>2018-05-01</td>\n",
       "      <td>NaN</td>\n",
       "      <td>NaN</td>\n",
       "      <td>NaN</td>\n",
       "      <td>1618</td>\n",
       "    </tr>\n",
       "    <tr>\n",
       "      <th>23082</th>\n",
       "      <td># 1</td>\n",
       "      <td># 1</td>\n",
       "      <td>2018-04-30</td>\n",
       "      <td>NaN</td>\n",
       "      <td>2018-04-30</td>\n",
       "      <td>Aseo, Cafetería y Oficina</td>\n",
       "      <td>Elementos de papelería</td>\n",
       "      <td>Proveedor 229</td>\n",
       "      <td>Usuario solicitante 131</td>\n",
       "      <td>Usuario Aprobador 70</td>\n",
       "      <td>...</td>\n",
       "      <td>33.613</td>\n",
       "      <td>40.000</td>\n",
       "      <td>6.387</td>\n",
       "      <td>168.067</td>\n",
       "      <td>200.000</td>\n",
       "      <td>2018-05-01</td>\n",
       "      <td>NaN</td>\n",
       "      <td>NaN</td>\n",
       "      <td>NaN</td>\n",
       "      <td>1618</td>\n",
       "    </tr>\n",
       "  </tbody>\n",
       "</table>\n",
       "<p>15998 rows × 30 columns</p>\n",
       "</div>"
      ],
      "text/plain": [
       "      NÚMERO PEDIDO ORDEN NÚMERO FECHA ORDEN FECHA ENTREGA FECHA APROBACION  \\\n",
       "2           # 49559       # 2580  2021-11-10    2021-11-10       2021-11-10   \n",
       "3           # 49558       # 1892  2021-11-10    2021-11-12       2021-11-10   \n",
       "4           # 49557          # 1  2021-11-10    2021-11-09       2021-11-10   \n",
       "18          # 49545       # 1891  2021-11-09    2021-11-10       2021-11-09   \n",
       "22          # 49541       # 1890  2021-11-09    2021-11-10       2021-11-09   \n",
       "...             ...          ...         ...           ...              ...   \n",
       "23076           # 3          # 3  2018-05-01           NaN       2018-05-01   \n",
       "23077           # 2          # 2  2018-04-30           NaN       2018-05-01   \n",
       "23078           # 2          # 2  2018-04-30           NaN       2018-05-01   \n",
       "23079           # 2          # 2  2018-04-30           NaN       2018-05-01   \n",
       "23082           # 1          # 1  2018-04-30           NaN       2018-04-30   \n",
       "\n",
       "                               CATEGORÍA                       SUBCATEGORIA_x  \\\n",
       "2                    Alimentos y Bebidas   Alimentos preparados y conservados   \n",
       "3                    Alimentos y Bebidas  Productos de carne y aves de corral   \n",
       "4                  Imprenta y litografía                                 Otra   \n",
       "18                   Alimentos y Bebidas  Productos de carne y aves de corral   \n",
       "22                   Alimentos y Bebidas  Productos de carne y aves de corral   \n",
       "...                                  ...                                  ...   \n",
       "23076  Vigilancia y seguridad industrial      Seguridad y protección personal   \n",
       "23077  Vigilancia y seguridad industrial      Seguridad y protección personal   \n",
       "23078          Aseo, Cafetería y Oficina               Elementos de papelería   \n",
       "23079          Aseo, Cafetería y Oficina               Elementos de papelería   \n",
       "23082          Aseo, Cafetería y Oficina               Elementos de papelería   \n",
       "\n",
       "           PROVEEDOR                  USUARIO     USUARIO APROBADOR  ...  \\\n",
       "2        Proveedor 3    Usuario solicitante 3   Usuario Aprobador 3  ...   \n",
       "3        Proveedor 4    Usuario solicitante 4   Usuario Aprobador 4  ...   \n",
       "4        Proveedor 5    Usuario solicitante 5   Usuario Aprobador 5  ...   \n",
       "18      Proveedor 11    Usuario solicitante 4   Usuario Aprobador 4  ...   \n",
       "22       Proveedor 4    Usuario solicitante 4   Usuario Aprobador 4  ...   \n",
       "...              ...                      ...                   ...  ...   \n",
       "23076  Proveedor 229  Usuario solicitante 131  Usuario Aprobador 70  ...   \n",
       "23077  Proveedor 229  Usuario solicitante 131  Usuario Aprobador 70  ...   \n",
       "23078  Proveedor 229  Usuario solicitante 131  Usuario Aprobador 70  ...   \n",
       "23079  Proveedor 229  Usuario solicitante 131  Usuario Aprobador 70  ...   \n",
       "23082  Proveedor 229  Usuario solicitante 131  Usuario Aprobador 70  ...   \n",
       "\n",
       "      PRECIO UNITARIO PRECIO UNITARIO + IVA     IVA TOTAL SIN IVA TOTAL + IVA  \\\n",
       "2              15.500                15.500       0       155.000     155.000   \n",
       "3              22.000                22.000       0     1.100.000   1.100.000   \n",
       "4              92.084               109.580  17.496       644.588     767.060   \n",
       "18             24.980                24.980       0     2.498.000   2.498.000   \n",
       "22             20.500                20.500       0     1.025.000   1.025.000   \n",
       "...               ...                   ...     ...           ...         ...   \n",
       "23076              84                   100      16           252         300   \n",
       "23077              84                   100      16            84         100   \n",
       "23078          33.613                40.000   6.387       268.908     320.000   \n",
       "23079             588                   700     112           588         700   \n",
       "23082          33.613                40.000   6.387       168.067     200.000   \n",
       "\n",
       "      FECHA ULTIMO MOVIMIENTO Unnamed: 26 Unnamed: 27  Unnamed: 28  \\\n",
       "2                  2021-11-10         NaN         NaN          NaN   \n",
       "3                  2021-11-10         NaN         NaN          NaN   \n",
       "4                  2021-11-10         NaN         NaN          NaN   \n",
       "18                 2021-11-09         NaN         NaN          NaN   \n",
       "22                 2021-11-09         NaN         NaN          NaN   \n",
       "...                       ...         ...         ...          ...   \n",
       "23076              2018-05-01         NaN         NaN          NaN   \n",
       "23077              2018-05-01         NaN         NaN          NaN   \n",
       "23078              2018-05-01         NaN         NaN          NaN   \n",
       "23079              2018-05-01         NaN         NaN          NaN   \n",
       "23082              2018-05-01         NaN         NaN          NaN   \n",
       "\n",
       "       SUBCATEGORIA_y  \n",
       "2                2243  \n",
       "3                 787  \n",
       "4                 572  \n",
       "18                787  \n",
       "22                787  \n",
       "...               ...  \n",
       "23076            6733  \n",
       "23077            6733  \n",
       "23078            1618  \n",
       "23079            1618  \n",
       "23082            1618  \n",
       "\n",
       "[15998 rows x 30 columns]"
      ]
     },
     "execution_count": 22,
     "metadata": {},
     "output_type": "execute_result"
    }
   ],
   "source": [
    "data_pro2"
   ]
  },
  {
   "cell_type": "code",
   "execution_count": 23,
   "metadata": {},
   "outputs": [],
   "source": [
    "# Load English tokenizer, tagger, parser, NER and word vectors\n",
    "import string\n",
    "\n",
    "parser =spacy.load(\"es_core_news_sm\")\n",
    "punctuations = string.punctuation\n",
    "\n",
    "\n",
    "# Creating our tokenizer function\n",
    "def spacy_tokenizer(sentence):\n",
    "    # Creating our token object, which is used to create documents with linguistic annotations.\n",
    "    mytokens = parser(sentence)\n",
    "\n",
    "    # Lemmatizing each token and converting each token into lowercase\n",
    "    mytokens = [ word.lemma_.lower().strip() if word.lemma_ != \"-PRON-\" else word.lower_ for word in mytokens ]\n",
    "\n",
    "    # Removing stop words\n",
    "    mytokens = [ word for word in mytokens if word not in stop_words and word not in punctuations ]\n",
    "\n",
    "    # return preprocessed list of tokens\n",
    "    return mytokens"
   ]
  },
  {
   "cell_type": "code",
   "execution_count": 24,
   "metadata": {},
   "outputs": [],
   "source": [
    "# Custom transformer using spaCy\n",
    "class predictors(TransformerMixin):\n",
    "    def transform(self, X, **transform_params):\n",
    "        # Cleaning Text\n",
    "        return [clean_text(text) for text in X]\n",
    "\n",
    "    def fit(self, X, y=None, **fit_params):\n",
    "        return self\n",
    "\n",
    "    def get_params(self, deep=True):\n",
    "        return {}\n",
    "\n",
    "# Basic function to clean the text\n",
    "def clean_text(text):\n",
    "    # Removing spaces and converting text into lowercase\n",
    "    return text.strip().lower()"
   ]
  },
  {
   "cell_type": "code",
   "execution_count": 25,
   "metadata": {},
   "outputs": [],
   "source": [
    "bow_vector = CountVectorizer(tokenizer = spacy_tokenizer, ngram_range=(1,1))\n"
   ]
  },
  {
   "cell_type": "code",
   "execution_count": 26,
   "metadata": {},
   "outputs": [],
   "source": [
    "tfidf_vector = TfidfVectorizer(tokenizer = spacy_tokenizer)\n"
   ]
  },
  {
   "cell_type": "code",
   "execution_count": 27,
   "metadata": {},
   "outputs": [],
   "source": [
    "from sklearn.model_selection import train_test_split\n",
    "\n",
    "X = data_pro2['PRODUCTO O SERVICIO'] # the features we want to analyze\n",
    "ylabels = data_pro2.SUBCATEGORIA_x # the labels, or answers, we want to test against\n",
    "\n",
    "\n",
    "X_train, X_test, y_train, y_test = train_test_split(X, ylabels, test_size=0.3)"
   ]
  },
  {
   "cell_type": "code",
   "execution_count": 28,
   "metadata": {},
   "outputs": [
    {
     "name": "stderr",
     "output_type": "stream",
     "text": [
      "C:\\Users\\KeyssiArroyo\\AppData\\Local\\Programs\\Python\\Python39\\lib\\site-packages\\sklearn\\feature_extraction\\text.py:489: UserWarning: The parameter 'token_pattern' will not be used since 'tokenizer' is not None'\n",
      "  warnings.warn(\"The parameter 'token_pattern' will not be used\"\n"
     ]
    },
    {
     "data": {
      "text/plain": [
       "Pipeline(steps=[('cleaner', <__main__.predictors object at 0x0000026A6526D670>),\n",
       "                ('vectorizer',\n",
       "                 CountVectorizer(tokenizer=<function spacy_tokenizer at 0x0000026A5F4F7F70>))])"
      ]
     },
     "execution_count": 28,
     "metadata": {},
     "output_type": "execute_result"
    }
   ],
   "source": [
    "from spacy.lang.en.stop_words import STOP_WORDS\n",
    "from sklearn.linear_model import LogisticRegression\n",
    "stop_words = spacy.lang.es.stop_words.STOP_WORDS\n",
    "\n",
    "classifier = LogisticRegression()\n",
    "\n",
    "# Create pipeline using Bag of Words\n",
    "pipe = Pipeline([(\"cleaner\", predictors()),\n",
    "                 ('vectorizer', bow_vector)])\n",
    "\n",
    "# model generation\n",
    "pipe.fit(X_train.values.ravel())"
   ]
  },
  {
   "cell_type": "code",
   "execution_count": 29,
   "metadata": {},
   "outputs": [],
   "source": [
    "X_train=pipe.transform(X_train.values.ravel())\n",
    "X_test=pipe.transform(X_test.values.ravel())\n",
    "X_train=X_train.toarray()\n",
    "X_test=X_test.toarray()"
   ]
  },
  {
   "cell_type": "code",
   "execution_count": 30,
   "metadata": {},
   "outputs": [
    {
     "data": {
      "text/plain": [
       "11198"
      ]
     },
     "execution_count": 30,
     "metadata": {},
     "output_type": "execute_result"
    }
   ],
   "source": [
    "len(X_train)"
   ]
  },
  {
   "cell_type": "code",
   "execution_count": 32,
   "metadata": {},
   "outputs": [],
   "source": [
    "from imblearn.over_sampling import SMOTE\n",
    "x_train = pd.DataFrame(X_train, columns=X_train.tolist())\n",
    "X_resample, y_resampled = SMOTE().fit_resample(X_train, y_train)"
   ]
  },
  {
   "cell_type": "code",
   "execution_count": 33,
   "metadata": {},
   "outputs": [],
   "source": [
    "X_train, X_test, y_train, y_test = train_test_split(X_resample, y_resampled, test_size = 0.25, random_state = 42)\n"
   ]
  },
  {
   "cell_type": "markdown",
   "metadata": {},
   "source": []
  },
  {
   "cell_type": "code",
   "execution_count": 34,
   "metadata": {},
   "outputs": [
    {
     "data": {
      "text/plain": [
       "LogisticRegression()"
      ]
     },
     "execution_count": 34,
     "metadata": {},
     "output_type": "execute_result"
    }
   ],
   "source": [
    "classifier.fit(X_train, y_train)"
   ]
  },
  {
   "cell_type": "code",
   "execution_count": 35,
   "metadata": {},
   "outputs": [
    {
     "name": "stdout",
     "output_type": "stream",
     "text": [
      "Logistic Regression Accuracy: 0.9808310130648962\n",
      "Logistic Regression Precision: 0.9808310130648962\n",
      "Logistic Regression Recall: 0.9808310130648962\n"
     ]
    }
   ],
   "source": [
    "from sklearn import metrics\n",
    "# Predicting with a test dataset\n",
    "predicted = classifier.predict(X_test)\n",
    "\n",
    "# Model Accuracy\n",
    "print(\"Logistic Regression Accuracy:\",metrics.accuracy_score(y_test, predicted))\n",
    "print(\"Logistic Regression Precision:\",metrics.precision_score(y_test, predicted, average='micro'))\n",
    "print(\"Logistic Regression Recall:\",metrics.recall_score(y_test, predicted, average='micro' ))"
   ]
  },
  {
   "cell_type": "code",
   "execution_count": 36,
   "metadata": {},
   "outputs": [
    {
     "name": "stdout",
     "output_type": "stream",
     "text": [
      "                                     precision    recall  f1-score   support\n",
      "\n",
      " Alimentos preparados y conservados       1.00      0.97      0.98      1125\n",
      "                            Bebidas       1.00      0.99      1.00      1159\n",
      "       Elementos de aseo y limpieza       0.99      0.96      0.98      1179\n",
      "             Elementos de papelería       1.00      0.95      0.97      1185\n",
      "                               Otra       0.89      0.99      0.94      1128\n",
      "Productos de carne y aves de corral       1.00      0.99      1.00      1174\n",
      "         Productos lácteos y huevos       0.98      1.00      0.99      1191\n",
      "    Seguridad y protección personal       1.00      1.00      1.00      1197\n",
      "\n",
      "                           accuracy                           0.98      9338\n",
      "                          macro avg       0.98      0.98      0.98      9338\n",
      "                       weighted avg       0.98      0.98      0.98      9338\n",
      "\n"
     ]
    }
   ],
   "source": [
    "from sklearn.metrics import classification_report\n",
    "\n",
    "print(classification_report(y_test, predicted))\n"
   ]
  },
  {
   "cell_type": "code",
   "execution_count": 37,
   "metadata": {},
   "outputs": [
    {
     "data": {
      "text/html": [
       "<div>\n",
       "<style scoped>\n",
       "    .dataframe tbody tr th:only-of-type {\n",
       "        vertical-align: middle;\n",
       "    }\n",
       "\n",
       "    .dataframe tbody tr th {\n",
       "        vertical-align: top;\n",
       "    }\n",
       "\n",
       "    .dataframe thead th {\n",
       "        text-align: right;\n",
       "    }\n",
       "</style>\n",
       "<table border=\"1\" class=\"dataframe\">\n",
       "  <thead>\n",
       "    <tr style=\"text-align: right;\">\n",
       "      <th></th>\n",
       "      <th>predicted</th>\n",
       "      <th>actual</th>\n",
       "      <th>result</th>\n",
       "    </tr>\n",
       "  </thead>\n",
       "  <tbody>\n",
       "    <tr>\n",
       "      <th>22624</th>\n",
       "      <td>Otra</td>\n",
       "      <td>Elementos de papelería</td>\n",
       "      <td>0</td>\n",
       "    </tr>\n",
       "    <tr>\n",
       "      <th>35173</th>\n",
       "      <td>Otra</td>\n",
       "      <td>Productos lácteos y huevos</td>\n",
       "      <td>0</td>\n",
       "    </tr>\n",
       "    <tr>\n",
       "      <th>24384</th>\n",
       "      <td>Otra</td>\n",
       "      <td>Elementos de papelería</td>\n",
       "      <td>0</td>\n",
       "    </tr>\n",
       "    <tr>\n",
       "      <th>23436</th>\n",
       "      <td>Otra</td>\n",
       "      <td>Elementos de papelería</td>\n",
       "      <td>0</td>\n",
       "    </tr>\n",
       "    <tr>\n",
       "      <th>1731</th>\n",
       "      <td>Productos lácteos y huevos</td>\n",
       "      <td>Alimentos preparados y conservados</td>\n",
       "      <td>0</td>\n",
       "    </tr>\n",
       "    <tr>\n",
       "      <th>12155</th>\n",
       "      <td>Otra</td>\n",
       "      <td>Alimentos preparados y conservados</td>\n",
       "      <td>0</td>\n",
       "    </tr>\n",
       "    <tr>\n",
       "      <th>22584</th>\n",
       "      <td>Otra</td>\n",
       "      <td>Elementos de papelería</td>\n",
       "      <td>0</td>\n",
       "    </tr>\n",
       "    <tr>\n",
       "      <th>22379</th>\n",
       "      <td>Otra</td>\n",
       "      <td>Elementos de papelería</td>\n",
       "      <td>0</td>\n",
       "    </tr>\n",
       "    <tr>\n",
       "      <th>34053</th>\n",
       "      <td>Otra</td>\n",
       "      <td>Productos lácteos y huevos</td>\n",
       "      <td>0</td>\n",
       "    </tr>\n",
       "    <tr>\n",
       "      <th>22134</th>\n",
       "      <td>Otra</td>\n",
       "      <td>Elementos de papelería</td>\n",
       "      <td>0</td>\n",
       "    </tr>\n",
       "    <tr>\n",
       "      <th>24242</th>\n",
       "      <td>Otra</td>\n",
       "      <td>Elementos de papelería</td>\n",
       "      <td>0</td>\n",
       "    </tr>\n",
       "    <tr>\n",
       "      <th>18885</th>\n",
       "      <td>Otra</td>\n",
       "      <td>Elementos de aseo y limpieza</td>\n",
       "      <td>0</td>\n",
       "    </tr>\n",
       "    <tr>\n",
       "      <th>3893</th>\n",
       "      <td>Otra</td>\n",
       "      <td>Seguridad y protección personal</td>\n",
       "      <td>0</td>\n",
       "    </tr>\n",
       "    <tr>\n",
       "      <th>13544</th>\n",
       "      <td>Productos lácteos y huevos</td>\n",
       "      <td>Alimentos preparados y conservados</td>\n",
       "      <td>0</td>\n",
       "    </tr>\n",
       "    <tr>\n",
       "      <th>21127</th>\n",
       "      <td>Otra</td>\n",
       "      <td>Elementos de aseo y limpieza</td>\n",
       "      <td>0</td>\n",
       "    </tr>\n",
       "    <tr>\n",
       "      <th>18353</th>\n",
       "      <td>Seguridad y protección personal</td>\n",
       "      <td>Elementos de aseo y limpieza</td>\n",
       "      <td>0</td>\n",
       "    </tr>\n",
       "    <tr>\n",
       "      <th>11912</th>\n",
       "      <td>Otra</td>\n",
       "      <td>Alimentos preparados y conservados</td>\n",
       "      <td>0</td>\n",
       "    </tr>\n",
       "    <tr>\n",
       "      <th>5395</th>\n",
       "      <td>Otra</td>\n",
       "      <td>Elementos de papelería</td>\n",
       "      <td>0</td>\n",
       "    </tr>\n",
       "    <tr>\n",
       "      <th>4730</th>\n",
       "      <td>Productos lácteos y huevos</td>\n",
       "      <td>Alimentos preparados y conservados</td>\n",
       "      <td>0</td>\n",
       "    </tr>\n",
       "    <tr>\n",
       "      <th>21734</th>\n",
       "      <td>Otra</td>\n",
       "      <td>Elementos de papelería</td>\n",
       "      <td>0</td>\n",
       "    </tr>\n",
       "  </tbody>\n",
       "</table>\n",
       "</div>"
      ],
      "text/plain": [
       "                             predicted                              actual  \\\n",
       "22624                             Otra              Elementos de papelería   \n",
       "35173                             Otra          Productos lácteos y huevos   \n",
       "24384                             Otra              Elementos de papelería   \n",
       "23436                             Otra              Elementos de papelería   \n",
       "1731        Productos lácteos y huevos  Alimentos preparados y conservados   \n",
       "12155                             Otra  Alimentos preparados y conservados   \n",
       "22584                             Otra              Elementos de papelería   \n",
       "22379                             Otra              Elementos de papelería   \n",
       "34053                             Otra          Productos lácteos y huevos   \n",
       "22134                             Otra              Elementos de papelería   \n",
       "24242                             Otra              Elementos de papelería   \n",
       "18885                             Otra        Elementos de aseo y limpieza   \n",
       "3893                              Otra     Seguridad y protección personal   \n",
       "13544       Productos lácteos y huevos  Alimentos preparados y conservados   \n",
       "21127                             Otra        Elementos de aseo y limpieza   \n",
       "18353  Seguridad y protección personal        Elementos de aseo y limpieza   \n",
       "11912                             Otra  Alimentos preparados y conservados   \n",
       "5395                              Otra              Elementos de papelería   \n",
       "4730        Productos lácteos y huevos  Alimentos preparados y conservados   \n",
       "21734                             Otra              Elementos de papelería   \n",
       "\n",
       "       result  \n",
       "22624       0  \n",
       "35173       0  \n",
       "24384       0  \n",
       "23436       0  \n",
       "1731        0  \n",
       "12155       0  \n",
       "22584       0  \n",
       "22379       0  \n",
       "34053       0  \n",
       "22134       0  \n",
       "24242       0  \n",
       "18885       0  \n",
       "3893        0  \n",
       "13544       0  \n",
       "21127       0  \n",
       "18353       0  \n",
       "11912       0  \n",
       "5395        0  \n",
       "4730        0  \n",
       "21734       0  "
      ]
     },
     "execution_count": 37,
     "metadata": {},
     "output_type": "execute_result"
    }
   ],
   "source": [
    "import numpy as np\n",
    "results = pd.DataFrame(data={'predicted': predicted, 'actual': y_test})\n",
    "results['result'] = np.where(results['predicted']==results['actual'], 1, 0)\n",
    "results.sort_values(by='result').head(20)"
   ]
  },
  {
   "cell_type": "code",
   "execution_count": 38,
   "metadata": {},
   "outputs": [
    {
     "data": {
      "text/plain": [
       "result\n",
       "0     179\n",
       "1    9159\n",
       "dtype: int64"
      ]
     },
     "execution_count": 38,
     "metadata": {},
     "output_type": "execute_result"
    }
   ],
   "source": [
    "results.groupby(['result']).size()"
   ]
  },
  {
   "cell_type": "code",
   "execution_count": 39,
   "metadata": {},
   "outputs": [
    {
     "name": "stdout",
     "output_type": "stream",
     "text": [
      "the predicted is 98.08 %\n",
      "NO predicted is 1.92 %\n"
     ]
    }
   ],
   "source": [
    "accuracy_test=round((results.groupby(['result']).size()[1]/(results.groupby(['result']).size()[0]+results.groupby(['result']).size()[1]))*100,2)\n",
    "print(f'the predicted is {accuracy_test} %')\n",
    "print(f'NO predicted is {round(100-accuracy_test,2)} %')\n"
   ]
  },
  {
   "cell_type": "code",
   "execution_count": 40,
   "metadata": {},
   "outputs": [
    {
     "data": {
      "text/html": [
       "<div>\n",
       "<style scoped>\n",
       "    .dataframe tbody tr th:only-of-type {\n",
       "        vertical-align: middle;\n",
       "    }\n",
       "\n",
       "    .dataframe tbody tr th {\n",
       "        vertical-align: top;\n",
       "    }\n",
       "\n",
       "    .dataframe thead th {\n",
       "        text-align: right;\n",
       "    }\n",
       "</style>\n",
       "<table border=\"1\" class=\"dataframe\">\n",
       "  <thead>\n",
       "    <tr style=\"text-align: right;\">\n",
       "      <th></th>\n",
       "      <th>predicted</th>\n",
       "      <th>actual</th>\n",
       "      <th>result</th>\n",
       "      <th>PRODUCTO O SERVICIO</th>\n",
       "    </tr>\n",
       "  </thead>\n",
       "  <tbody>\n",
       "    <tr>\n",
       "      <th>13019</th>\n",
       "      <td>Alimentos preparados y conservados</td>\n",
       "      <td>Alimentos preparados y conservados</td>\n",
       "      <td>1</td>\n",
       "      <td>74 Protector auditivo tipo copa</td>\n",
       "    </tr>\n",
       "    <tr>\n",
       "      <th>22227</th>\n",
       "      <td>Elementos de papelería</td>\n",
       "      <td>Elementos de papelería</td>\n",
       "      <td>1</td>\n",
       "      <td>LR_SKS_LaEspecial_Mezcla de Maní con Pasas 50gr</td>\n",
       "    </tr>\n",
       "    <tr>\n",
       "      <th>12560</th>\n",
       "      <td>Alimentos preparados y conservados</td>\n",
       "      <td>Alimentos preparados y conservados</td>\n",
       "      <td>1</td>\n",
       "      <td>6 Bota de seguridad media caña dielectrica con...</td>\n",
       "    </tr>\n",
       "    <tr>\n",
       "      <th>5100</th>\n",
       "      <td>Seguridad y protección personal</td>\n",
       "      <td>Seguridad y protección personal</td>\n",
       "      <td>1</td>\n",
       "      <td>NaN</td>\n",
       "    </tr>\n",
       "    <tr>\n",
       "      <th>17018</th>\n",
       "      <td>Bebidas</td>\n",
       "      <td>Bebidas</td>\n",
       "      <td>1</td>\n",
       "      <td>33 Guantes anticorte nivel 3</td>\n",
       "    </tr>\n",
       "    <tr>\n",
       "      <th>24564</th>\n",
       "      <td>Elementos de papelería</td>\n",
       "      <td>Elementos de papelería</td>\n",
       "      <td>1</td>\n",
       "      <td>NaN</td>\n",
       "    </tr>\n",
       "    <tr>\n",
       "      <th>18764</th>\n",
       "      <td>Elementos de aseo y limpieza</td>\n",
       "      <td>Elementos de aseo y limpieza</td>\n",
       "      <td>1</td>\n",
       "      <td>2 Monogafas contra salpicaduras liquidas y sus...</td>\n",
       "    </tr>\n",
       "    <tr>\n",
       "      <th>1240</th>\n",
       "      <td>Alimentos preparados y conservados</td>\n",
       "      <td>Alimentos preparados y conservados</td>\n",
       "      <td>1</td>\n",
       "      <td>NaN</td>\n",
       "    </tr>\n",
       "    <tr>\n",
       "      <th>8156</th>\n",
       "      <td>Seguridad y protección personal</td>\n",
       "      <td>Seguridad y protección personal</td>\n",
       "      <td>1</td>\n",
       "      <td>NaN</td>\n",
       "    </tr>\n",
       "    <tr>\n",
       "      <th>33925</th>\n",
       "      <td>Productos lácteos y huevos</td>\n",
       "      <td>Productos lácteos y huevos</td>\n",
       "      <td>1</td>\n",
       "      <td>NaN</td>\n",
       "    </tr>\n",
       "    <tr>\n",
       "      <th>12547</th>\n",
       "      <td>Alimentos preparados y conservados</td>\n",
       "      <td>Alimentos preparados y conservados</td>\n",
       "      <td>1</td>\n",
       "      <td>50  guantes dielectricos clase 1</td>\n",
       "    </tr>\n",
       "    <tr>\n",
       "      <th>17026</th>\n",
       "      <td>Bebidas</td>\n",
       "      <td>Bebidas</td>\n",
       "      <td>1</td>\n",
       "      <td>36 Guantes algodón con cubierta pvc</td>\n",
       "    </tr>\n",
       "    <tr>\n",
       "      <th>17099</th>\n",
       "      <td>Bebidas</td>\n",
       "      <td>Bebidas</td>\n",
       "      <td>1</td>\n",
       "      <td>41 Guantes de caucho corto</td>\n",
       "    </tr>\n",
       "    <tr>\n",
       "      <th>3519</th>\n",
       "      <td>Seguridad y protección personal</td>\n",
       "      <td>Seguridad y protección personal</td>\n",
       "      <td>1</td>\n",
       "      <td>Esponjilla en Acero Inoxidable Brio</td>\n",
       "    </tr>\n",
       "    <tr>\n",
       "      <th>10959</th>\n",
       "      <td>Productos lácteos y huevos</td>\n",
       "      <td>Productos lácteos y huevos</td>\n",
       "      <td>1</td>\n",
       "      <td>PAPA CASCOS X0022 x 2.27 KL LAMB WESTON</td>\n",
       "    </tr>\n",
       "    <tr>\n",
       "      <th>702</th>\n",
       "      <td>Elementos de papelería</td>\n",
       "      <td>Elementos de papelería</td>\n",
       "      <td>1</td>\n",
       "      <td>NaN</td>\n",
       "    </tr>\n",
       "    <tr>\n",
       "      <th>33749</th>\n",
       "      <td>Productos lácteos y huevos</td>\n",
       "      <td>Productos lácteos y huevos</td>\n",
       "      <td>1</td>\n",
       "      <td>NaN</td>\n",
       "    </tr>\n",
       "    <tr>\n",
       "      <th>16915</th>\n",
       "      <td>Bebidas</td>\n",
       "      <td>Bebidas</td>\n",
       "      <td>1</td>\n",
       "      <td>91 Impermeable 2 piezas</td>\n",
       "    </tr>\n",
       "    <tr>\n",
       "      <th>27618</th>\n",
       "      <td>Otra</td>\n",
       "      <td>Otra</td>\n",
       "      <td>1</td>\n",
       "      <td>NaN</td>\n",
       "    </tr>\n",
       "    <tr>\n",
       "      <th>27074</th>\n",
       "      <td>Otra</td>\n",
       "      <td>Otra</td>\n",
       "      <td>1</td>\n",
       "      <td>NaN</td>\n",
       "    </tr>\n",
       "    <tr>\n",
       "      <th>23964</th>\n",
       "      <td>Elementos de papelería</td>\n",
       "      <td>Elementos de papelería</td>\n",
       "      <td>1</td>\n",
       "      <td>NaN</td>\n",
       "    </tr>\n",
       "    <tr>\n",
       "      <th>9790</th>\n",
       "      <td>Productos lácteos y huevos</td>\n",
       "      <td>Productos lácteos y huevos</td>\n",
       "      <td>1</td>\n",
       "      <td>NaN</td>\n",
       "    </tr>\n",
       "    <tr>\n",
       "      <th>28711</th>\n",
       "      <td>Otra</td>\n",
       "      <td>Otra</td>\n",
       "      <td>1</td>\n",
       "      <td>NaN</td>\n",
       "    </tr>\n",
       "    <tr>\n",
       "      <th>14454</th>\n",
       "      <td>Bebidas</td>\n",
       "      <td>Bebidas</td>\n",
       "      <td>1</td>\n",
       "      <td>7 Botas de caucho con puntera negra caña alta</td>\n",
       "    </tr>\n",
       "    <tr>\n",
       "      <th>15971</th>\n",
       "      <td>Bebidas</td>\n",
       "      <td>Bebidas</td>\n",
       "      <td>1</td>\n",
       "      <td>85 Overol industrial</td>\n",
       "    </tr>\n",
       "    <tr>\n",
       "      <th>4159</th>\n",
       "      <td>Seguridad y protección personal</td>\n",
       "      <td>Seguridad y protección personal</td>\n",
       "      <td>1</td>\n",
       "      <td>Papa Simplot Cascos 500 gr</td>\n",
       "    </tr>\n",
       "    <tr>\n",
       "      <th>21453</th>\n",
       "      <td>Elementos de papelería</td>\n",
       "      <td>Elementos de papelería</td>\n",
       "      <td>1</td>\n",
       "      <td>LB_GAS_Pomba_Limón 400ml</td>\n",
       "    </tr>\n",
       "    <tr>\n",
       "      <th>21149</th>\n",
       "      <td>Elementos de aseo y limpieza</td>\n",
       "      <td>Elementos de aseo y limpieza</td>\n",
       "      <td>1</td>\n",
       "      <td>LB_GAS_Pomba_Manzana 400ml</td>\n",
       "    </tr>\n",
       "    <tr>\n",
       "      <th>17951</th>\n",
       "      <td>Bebidas</td>\n",
       "      <td>Bebidas</td>\n",
       "      <td>1</td>\n",
       "      <td>33 Guantes anticorte nivel 3</td>\n",
       "    </tr>\n",
       "    <tr>\n",
       "      <th>4253</th>\n",
       "      <td>Elementos de papelería</td>\n",
       "      <td>Elementos de papelería</td>\n",
       "      <td>1</td>\n",
       "      <td>RESALTADOR GR.SHARPIE AMARILLO SANFORD</td>\n",
       "    </tr>\n",
       "    <tr>\n",
       "      <th>29999</th>\n",
       "      <td>Productos de carne y aves de corral</td>\n",
       "      <td>Productos de carne y aves de corral</td>\n",
       "      <td>1</td>\n",
       "      <td>NaN</td>\n",
       "    </tr>\n",
       "    <tr>\n",
       "      <th>33268</th>\n",
       "      <td>Productos lácteos y huevos</td>\n",
       "      <td>Productos lácteos y huevos</td>\n",
       "      <td>1</td>\n",
       "      <td>NaN</td>\n",
       "    </tr>\n",
       "    <tr>\n",
       "      <th>19536</th>\n",
       "      <td>Elementos de aseo y limpieza</td>\n",
       "      <td>Elementos de aseo y limpieza</td>\n",
       "      <td>1</td>\n",
       "      <td>CH_SKS_Chepe Patata Sabor Limón 35gr</td>\n",
       "    </tr>\n",
       "    <tr>\n",
       "      <th>3025</th>\n",
       "      <td>Elementos de aseo y limpieza</td>\n",
       "      <td>Elementos de aseo y limpieza</td>\n",
       "      <td>1</td>\n",
       "      <td>MARCADOR PERM. PERSONAL SHARPIE NEGRO PUNTA FINA</td>\n",
       "    </tr>\n",
       "    <tr>\n",
       "      <th>31604</th>\n",
       "      <td>Productos de carne y aves de corral</td>\n",
       "      <td>Productos de carne y aves de corral</td>\n",
       "      <td>1</td>\n",
       "      <td>NaN</td>\n",
       "    </tr>\n",
       "    <tr>\n",
       "      <th>3211</th>\n",
       "      <td>Productos de carne y aves de corral</td>\n",
       "      <td>Productos de carne y aves de corral</td>\n",
       "      <td>1</td>\n",
       "      <td>Blanqueador Desinfectante Blancox Poder Natura...</td>\n",
       "    </tr>\n",
       "    <tr>\n",
       "      <th>18801</th>\n",
       "      <td>Elementos de aseo y limpieza</td>\n",
       "      <td>Elementos de aseo y limpieza</td>\n",
       "      <td>1</td>\n",
       "      <td>Gancho Lotero 19 mm 3/4 UND</td>\n",
       "    </tr>\n",
       "    <tr>\n",
       "      <th>4283</th>\n",
       "      <td>Bebidas</td>\n",
       "      <td>Bebidas</td>\n",
       "      <td>1</td>\n",
       "      <td>Bodega 30</td>\n",
       "    </tr>\n",
       "    <tr>\n",
       "      <th>4335</th>\n",
       "      <td>Otra</td>\n",
       "      <td>Otra</td>\n",
       "      <td>1</td>\n",
       "      <td>NaN</td>\n",
       "    </tr>\n",
       "    <tr>\n",
       "      <th>10499</th>\n",
       "      <td>Productos lácteos y huevos</td>\n",
       "      <td>Productos lácteos y huevos</td>\n",
       "      <td>1</td>\n",
       "      <td>Hamburguesa de Cebolla Caramelizada</td>\n",
       "    </tr>\n",
       "  </tbody>\n",
       "</table>\n",
       "</div>"
      ],
      "text/plain": [
       "                                 predicted  \\\n",
       "13019   Alimentos preparados y conservados   \n",
       "22227               Elementos de papelería   \n",
       "12560   Alimentos preparados y conservados   \n",
       "5100       Seguridad y protección personal   \n",
       "17018                              Bebidas   \n",
       "24564               Elementos de papelería   \n",
       "18764         Elementos de aseo y limpieza   \n",
       "1240    Alimentos preparados y conservados   \n",
       "8156       Seguridad y protección personal   \n",
       "33925           Productos lácteos y huevos   \n",
       "12547   Alimentos preparados y conservados   \n",
       "17026                              Bebidas   \n",
       "17099                              Bebidas   \n",
       "3519       Seguridad y protección personal   \n",
       "10959           Productos lácteos y huevos   \n",
       "702                 Elementos de papelería   \n",
       "33749           Productos lácteos y huevos   \n",
       "16915                              Bebidas   \n",
       "27618                                 Otra   \n",
       "27074                                 Otra   \n",
       "23964               Elementos de papelería   \n",
       "9790            Productos lácteos y huevos   \n",
       "28711                                 Otra   \n",
       "14454                              Bebidas   \n",
       "15971                              Bebidas   \n",
       "4159       Seguridad y protección personal   \n",
       "21453               Elementos de papelería   \n",
       "21149         Elementos de aseo y limpieza   \n",
       "17951                              Bebidas   \n",
       "4253                Elementos de papelería   \n",
       "29999  Productos de carne y aves de corral   \n",
       "33268           Productos lácteos y huevos   \n",
       "19536         Elementos de aseo y limpieza   \n",
       "3025          Elementos de aseo y limpieza   \n",
       "31604  Productos de carne y aves de corral   \n",
       "3211   Productos de carne y aves de corral   \n",
       "18801         Elementos de aseo y limpieza   \n",
       "4283                               Bebidas   \n",
       "4335                                  Otra   \n",
       "10499           Productos lácteos y huevos   \n",
       "\n",
       "                                    actual  result  \\\n",
       "13019   Alimentos preparados y conservados       1   \n",
       "22227               Elementos de papelería       1   \n",
       "12560   Alimentos preparados y conservados       1   \n",
       "5100       Seguridad y protección personal       1   \n",
       "17018                              Bebidas       1   \n",
       "24564               Elementos de papelería       1   \n",
       "18764         Elementos de aseo y limpieza       1   \n",
       "1240    Alimentos preparados y conservados       1   \n",
       "8156       Seguridad y protección personal       1   \n",
       "33925           Productos lácteos y huevos       1   \n",
       "12547   Alimentos preparados y conservados       1   \n",
       "17026                              Bebidas       1   \n",
       "17099                              Bebidas       1   \n",
       "3519       Seguridad y protección personal       1   \n",
       "10959           Productos lácteos y huevos       1   \n",
       "702                 Elementos de papelería       1   \n",
       "33749           Productos lácteos y huevos       1   \n",
       "16915                              Bebidas       1   \n",
       "27618                                 Otra       1   \n",
       "27074                                 Otra       1   \n",
       "23964               Elementos de papelería       1   \n",
       "9790            Productos lácteos y huevos       1   \n",
       "28711                                 Otra       1   \n",
       "14454                              Bebidas       1   \n",
       "15971                              Bebidas       1   \n",
       "4159       Seguridad y protección personal       1   \n",
       "21453               Elementos de papelería       1   \n",
       "21149         Elementos de aseo y limpieza       1   \n",
       "17951                              Bebidas       1   \n",
       "4253                Elementos de papelería       1   \n",
       "29999  Productos de carne y aves de corral       1   \n",
       "33268           Productos lácteos y huevos       1   \n",
       "19536         Elementos de aseo y limpieza       1   \n",
       "3025          Elementos de aseo y limpieza       1   \n",
       "31604  Productos de carne y aves de corral       1   \n",
       "3211   Productos de carne y aves de corral       1   \n",
       "18801         Elementos de aseo y limpieza       1   \n",
       "4283                               Bebidas       1   \n",
       "4335                                  Otra       1   \n",
       "10499           Productos lácteos y huevos       1   \n",
       "\n",
       "                                     PRODUCTO O SERVICIO  \n",
       "13019                   74 Protector auditivo tipo copa   \n",
       "22227    LR_SKS_LaEspecial_Mezcla de Maní con Pasas 50gr  \n",
       "12560  6 Bota de seguridad media caña dielectrica con...  \n",
       "5100                                                 NaN  \n",
       "17018                       33 Guantes anticorte nivel 3  \n",
       "24564                                                NaN  \n",
       "18764  2 Monogafas contra salpicaduras liquidas y sus...  \n",
       "1240                                                 NaN  \n",
       "8156                                                 NaN  \n",
       "33925                                                NaN  \n",
       "12547                   50  guantes dielectricos clase 1  \n",
       "17026               36 Guantes algodón con cubierta pvc   \n",
       "17099                         41 Guantes de caucho corto  \n",
       "3519                 Esponjilla en Acero Inoxidable Brio  \n",
       "10959            PAPA CASCOS X0022 x 2.27 KL LAMB WESTON  \n",
       "702                                                  NaN  \n",
       "33749                                                NaN  \n",
       "16915                           91 Impermeable 2 piezas   \n",
       "27618                                                NaN  \n",
       "27074                                                NaN  \n",
       "23964                                                NaN  \n",
       "9790                                                 NaN  \n",
       "28711                                                NaN  \n",
       "14454      7 Botas de caucho con puntera negra caña alta  \n",
       "15971                               85 Overol industrial  \n",
       "4159                          Papa Simplot Cascos 500 gr  \n",
       "21453                           LB_GAS_Pomba_Limón 400ml  \n",
       "21149                         LB_GAS_Pomba_Manzana 400ml  \n",
       "17951                       33 Guantes anticorte nivel 3  \n",
       "4253              RESALTADOR GR.SHARPIE AMARILLO SANFORD  \n",
       "29999                                                NaN  \n",
       "33268                                                NaN  \n",
       "19536               CH_SKS_Chepe Patata Sabor Limón 35gr  \n",
       "3025    MARCADOR PERM. PERSONAL SHARPIE NEGRO PUNTA FINA  \n",
       "31604                                                NaN  \n",
       "3211   Blanqueador Desinfectante Blancox Poder Natura...  \n",
       "18801                        Gancho Lotero 19 mm 3/4 UND  \n",
       "4283                                           Bodega 30  \n",
       "4335                                                 NaN  \n",
       "10499                Hamburguesa de Cebolla Caramelizada  "
      ]
     },
     "execution_count": 40,
     "metadata": {},
     "output_type": "execute_result"
    }
   ],
   "source": [
    "results.join(data_pro2['PRODUCTO O SERVICIO']).sort_values(by='result').tail(40)"
   ]
  },
  {
   "cell_type": "code",
   "execution_count": 61,
   "metadata": {},
   "outputs": [],
   "source": [
    "def tranformed_data(dataframe):\n",
    "    transformed_data=pipe.transform(dataframe.values.ravel())\n",
    "    transformed_data=pd.DataFrame(transformed_data.toarray())\n",
    "    X_train_df=pd.DataFrame(X_train)\n",
    "    # check which columns are expected by the model, but not exist in the inference dataframe\n",
    "    not_existing_cols = [c for c in X_train_df.columns.tolist() if c not in transformed_data]\n",
    "    # add this columns to the data frame\n",
    "    transformed_data = transformed_data.reindex(transformed_data.columns.tolist() + not_existing_cols, axis=1)\n",
    "    # new columns dont have values, replace null by 0\n",
    "    transformed_data.fillna(0, inplace = True)\n",
    "    # use the original X structure as mask for the new inference dataframe\n",
    "    transformed_data = transformed_data[X_train_df.columns.tolist()]\n",
    "    return transformed_data\n"
   ]
  },
  {
   "cell_type": "code",
   "execution_count": 62,
   "metadata": {},
   "outputs": [],
   "source": [
    "external_test= data_pro2['PRODUCTO O SERVICIO'].sample(n=1000)\n",
    "transformed_data=tranformed_data(external_test)"
   ]
  },
  {
   "cell_type": "code",
   "execution_count": 63,
   "metadata": {},
   "outputs": [],
   "source": [
    "\n",
    "predicted_ext = classifier.predict(transformed_data)"
   ]
  },
  {
   "cell_type": "code",
   "execution_count": 69,
   "metadata": {},
   "outputs": [
    {
     "data": {
      "text/html": [
       "<div>\n",
       "<style scoped>\n",
       "    .dataframe tbody tr th:only-of-type {\n",
       "        vertical-align: middle;\n",
       "    }\n",
       "\n",
       "    .dataframe tbody tr th {\n",
       "        vertical-align: top;\n",
       "    }\n",
       "\n",
       "    .dataframe thead th {\n",
       "        text-align: right;\n",
       "    }\n",
       "</style>\n",
       "<table border=\"1\" class=\"dataframe\">\n",
       "  <thead>\n",
       "    <tr style=\"text-align: right;\">\n",
       "      <th></th>\n",
       "      <th>CATEGORÍA</th>\n",
       "      <th>SUBCATEGORIA_x</th>\n",
       "    </tr>\n",
       "  </thead>\n",
       "  <tbody>\n",
       "    <tr>\n",
       "      <th>2</th>\n",
       "      <td>Alimentos y Bebidas</td>\n",
       "      <td>Alimentos preparados y conservados</td>\n",
       "    </tr>\n",
       "    <tr>\n",
       "      <th>3</th>\n",
       "      <td>Alimentos y Bebidas</td>\n",
       "      <td>Productos de carne y aves de corral</td>\n",
       "    </tr>\n",
       "    <tr>\n",
       "      <th>4</th>\n",
       "      <td>Imprenta y litografía</td>\n",
       "      <td>Otra</td>\n",
       "    </tr>\n",
       "    <tr>\n",
       "      <th>18</th>\n",
       "      <td>Alimentos y Bebidas</td>\n",
       "      <td>Productos de carne y aves de corral</td>\n",
       "    </tr>\n",
       "    <tr>\n",
       "      <th>22</th>\n",
       "      <td>Alimentos y Bebidas</td>\n",
       "      <td>Productos de carne y aves de corral</td>\n",
       "    </tr>\n",
       "    <tr>\n",
       "      <th>...</th>\n",
       "      <td>...</td>\n",
       "      <td>...</td>\n",
       "    </tr>\n",
       "    <tr>\n",
       "      <th>23076</th>\n",
       "      <td>Vigilancia y seguridad industrial</td>\n",
       "      <td>Seguridad y protección personal</td>\n",
       "    </tr>\n",
       "    <tr>\n",
       "      <th>23077</th>\n",
       "      <td>Vigilancia y seguridad industrial</td>\n",
       "      <td>Seguridad y protección personal</td>\n",
       "    </tr>\n",
       "    <tr>\n",
       "      <th>23078</th>\n",
       "      <td>Aseo, Cafetería y Oficina</td>\n",
       "      <td>Elementos de papelería</td>\n",
       "    </tr>\n",
       "    <tr>\n",
       "      <th>23079</th>\n",
       "      <td>Aseo, Cafetería y Oficina</td>\n",
       "      <td>Elementos de papelería</td>\n",
       "    </tr>\n",
       "    <tr>\n",
       "      <th>23082</th>\n",
       "      <td>Aseo, Cafetería y Oficina</td>\n",
       "      <td>Elementos de papelería</td>\n",
       "    </tr>\n",
       "  </tbody>\n",
       "</table>\n",
       "<p>15998 rows × 2 columns</p>\n",
       "</div>"
      ],
      "text/plain": [
       "                               CATEGORÍA                       SUBCATEGORIA_x\n",
       "2                    Alimentos y Bebidas   Alimentos preparados y conservados\n",
       "3                    Alimentos y Bebidas  Productos de carne y aves de corral\n",
       "4                  Imprenta y litografía                                 Otra\n",
       "18                   Alimentos y Bebidas  Productos de carne y aves de corral\n",
       "22                   Alimentos y Bebidas  Productos de carne y aves de corral\n",
       "...                                  ...                                  ...\n",
       "23076  Vigilancia y seguridad industrial      Seguridad y protección personal\n",
       "23077  Vigilancia y seguridad industrial      Seguridad y protección personal\n",
       "23078          Aseo, Cafetería y Oficina               Elementos de papelería\n",
       "23079          Aseo, Cafetería y Oficina               Elementos de papelería\n",
       "23082          Aseo, Cafetería y Oficina               Elementos de papelería\n",
       "\n",
       "[15998 rows x 2 columns]"
      ]
     },
     "execution_count": 69,
     "metadata": {},
     "output_type": "execute_result"
    }
   ],
   "source": [
    "data_pro2[['CATEGORÍA','SUBCATEGORIA_x']]"
   ]
  },
  {
   "cell_type": "code",
   "execution_count": 70,
   "metadata": {},
   "outputs": [],
   "source": [
    "external_result=external_test.to_frame().join(data_pro2[['CATEGORÍA','SUBCATEGORIA_x']])"
   ]
  },
  {
   "cell_type": "code",
   "execution_count": 75,
   "metadata": {},
   "outputs": [
    {
     "data": {
      "text/html": [
       "<div>\n",
       "<style scoped>\n",
       "    .dataframe tbody tr th:only-of-type {\n",
       "        vertical-align: middle;\n",
       "    }\n",
       "\n",
       "    .dataframe tbody tr th {\n",
       "        vertical-align: top;\n",
       "    }\n",
       "\n",
       "    .dataframe thead th {\n",
       "        text-align: right;\n",
       "    }\n",
       "</style>\n",
       "<table border=\"1\" class=\"dataframe\">\n",
       "  <thead>\n",
       "    <tr style=\"text-align: right;\">\n",
       "      <th></th>\n",
       "      <th>predicted</th>\n",
       "      <th>PRODUCTO O SERVICIO</th>\n",
       "      <th>CATEGORÍA</th>\n",
       "      <th>SUBCATEGORIA_x</th>\n",
       "      <th>result</th>\n",
       "    </tr>\n",
       "  </thead>\n",
       "  <tbody>\n",
       "    <tr>\n",
       "      <th>352</th>\n",
       "      <td>Bebidas</td>\n",
       "      <td>CREMA AGRIA *4000 Grs</td>\n",
       "      <td>Alimentos y Bebidas</td>\n",
       "      <td>Productos lácteos y huevos</td>\n",
       "      <td>0</td>\n",
       "    </tr>\n",
       "    <tr>\n",
       "      <th>931</th>\n",
       "      <td>Productos de carne y aves de corral</td>\n",
       "      <td>Mezcla 3000 gramos</td>\n",
       "      <td>Alimentos y Bebidas</td>\n",
       "      <td>Alimentos preparados y conservados</td>\n",
       "      <td>0</td>\n",
       "    </tr>\n",
       "    <tr>\n",
       "      <th>342</th>\n",
       "      <td>Seguridad y protección personal</td>\n",
       "      <td>Pierna de cerdo X KG</td>\n",
       "      <td>Alimentos y Bebidas</td>\n",
       "      <td>Productos de carne y aves de corral</td>\n",
       "      <td>0</td>\n",
       "    </tr>\n",
       "    <tr>\n",
       "      <th>319</th>\n",
       "      <td>Seguridad y protección personal</td>\n",
       "      <td>SOBRE MANILA 25 x 35 OFICIO UNIBOL 60 g</td>\n",
       "      <td>Aseo, Cafetería y Oficina</td>\n",
       "      <td>Elementos de papelería</td>\n",
       "      <td>0</td>\n",
       "    </tr>\n",
       "    <tr>\n",
       "      <th>63</th>\n",
       "      <td>Seguridad y protección personal</td>\n",
       "      <td>Hamburguesa de Cebolla Caramelizada</td>\n",
       "      <td>Alimentos y Bebidas</td>\n",
       "      <td>Alimentos preparados y conservados</td>\n",
       "      <td>0</td>\n",
       "    </tr>\n",
       "    <tr>\n",
       "      <th>144</th>\n",
       "      <td>Bebidas</td>\n",
       "      <td>PAPA CASCOS X0022 X 2.27 KL LAMB WESTON</td>\n",
       "      <td>Alimentos y Bebidas</td>\n",
       "      <td>Alimentos preparados y conservados</td>\n",
       "      <td>0</td>\n",
       "    </tr>\n",
       "    <tr>\n",
       "      <th>149</th>\n",
       "      <td>Seguridad y protección personal</td>\n",
       "      <td>SOBRE MANILA 25 x 35 OFICIO UNIBOL 60 g</td>\n",
       "      <td>Aseo, Cafetería y Oficina</td>\n",
       "      <td>Elementos de papelería</td>\n",
       "      <td>0</td>\n",
       "    </tr>\n",
       "    <tr>\n",
       "      <th>340</th>\n",
       "      <td>Elementos de aseo y limpieza</td>\n",
       "      <td>Tocineta Larga Premium 1000 Grs. (Paquetes)</td>\n",
       "      <td>Alimentos y Bebidas</td>\n",
       "      <td>Productos de carne y aves de corral</td>\n",
       "      <td>0</td>\n",
       "    </tr>\n",
       "    <tr>\n",
       "      <th>156</th>\n",
       "      <td>Elementos de aseo y limpieza</td>\n",
       "      <td>MARCADOR BORRABLE PELIKAN 424 NEGRO</td>\n",
       "      <td>Aseo, Cafetería y Oficina</td>\n",
       "      <td>Elementos de papelería</td>\n",
       "      <td>0</td>\n",
       "    </tr>\n",
       "    <tr>\n",
       "      <th>155</th>\n",
       "      <td>Seguridad y protección personal</td>\n",
       "      <td>PAPEL BOND 75 g OFICIO x 500 H CARTOPRINT(BLANCO)</td>\n",
       "      <td>Aseo, Cafetería y Oficina</td>\n",
       "      <td>Elementos de papelería</td>\n",
       "      <td>0</td>\n",
       "    </tr>\n",
       "    <tr>\n",
       "      <th>257</th>\n",
       "      <td>Seguridad y protección personal</td>\n",
       "      <td>Mailing 360</td>\n",
       "      <td>Mercadeo y publicidad</td>\n",
       "      <td>Otra</td>\n",
       "      <td>0</td>\n",
       "    </tr>\n",
       "    <tr>\n",
       "      <th>270</th>\n",
       "      <td>Elementos de aseo y limpieza</td>\n",
       "      <td>Filtro 3M Material particulado Ref:2097</td>\n",
       "      <td>Vigilancia y seguridad industrial</td>\n",
       "      <td>Seguridad y protección personal</td>\n",
       "      <td>0</td>\n",
       "    </tr>\n",
       "    <tr>\n",
       "      <th>276</th>\n",
       "      <td>Seguridad y protección personal</td>\n",
       "      <td>QUESO MOZARELLA RALLADO X 2 KG</td>\n",
       "      <td>Alimentos y Bebidas</td>\n",
       "      <td>Productos lácteos y huevos</td>\n",
       "      <td>0</td>\n",
       "    </tr>\n",
       "    <tr>\n",
       "      <th>282</th>\n",
       "      <td>Bebidas</td>\n",
       "      <td>Gorro Tipo Oruga X 20 Und</td>\n",
       "      <td>Aseo, Cafetería y Oficina</td>\n",
       "      <td>Elementos de aseo y limpieza</td>\n",
       "      <td>0</td>\n",
       "    </tr>\n",
       "    <tr>\n",
       "      <th>954</th>\n",
       "      <td>Alimentos preparados y conservados</td>\n",
       "      <td>CARTULINA BRISTOL 70x100 BLANCA</td>\n",
       "      <td>Aseo, Cafetería y Oficina</td>\n",
       "      <td>Elementos de papelería</td>\n",
       "      <td>0</td>\n",
       "    </tr>\n",
       "    <tr>\n",
       "      <th>430</th>\n",
       "      <td>Elementos de aseo y limpieza</td>\n",
       "      <td>Jabón Líquido Manos Frutos Rojos Berhlan 19 L</td>\n",
       "      <td>Aseo, Cafetería y Oficina</td>\n",
       "      <td>Elementos de aseo y limpieza</td>\n",
       "      <td>1</td>\n",
       "    </tr>\n",
       "    <tr>\n",
       "      <th>759</th>\n",
       "      <td>Alimentos preparados y conservados</td>\n",
       "      <td>Salsa BBQ de la Casa</td>\n",
       "      <td>Alimentos y Bebidas</td>\n",
       "      <td>Alimentos preparados y conservados</td>\n",
       "      <td>1</td>\n",
       "    </tr>\n",
       "    <tr>\n",
       "      <th>129</th>\n",
       "      <td>Seguridad y protección personal</td>\n",
       "      <td>GUANTE KLEENGUARD G40 POLIURETANO X PAR TALLA ...</td>\n",
       "      <td>Vigilancia y seguridad industrial</td>\n",
       "      <td>Seguridad y protección personal</td>\n",
       "      <td>1</td>\n",
       "    </tr>\n",
       "    <tr>\n",
       "      <th>121</th>\n",
       "      <td>Seguridad y protección personal</td>\n",
       "      <td>GUANTE KLEENGUARD G40 POLIURETANO X PAR TALLA ...</td>\n",
       "      <td>Vigilancia y seguridad industrial</td>\n",
       "      <td>Seguridad y protección personal</td>\n",
       "      <td>1</td>\n",
       "    </tr>\n",
       "    <tr>\n",
       "      <th>169</th>\n",
       "      <td>Elementos de papelería</td>\n",
       "      <td>MARCADOR BORRABLE PELIKAN 424 NEGRO</td>\n",
       "      <td>Aseo, Cafetería y Oficina</td>\n",
       "      <td>Elementos de papelería</td>\n",
       "      <td>1</td>\n",
       "    </tr>\n",
       "  </tbody>\n",
       "</table>\n",
       "</div>"
      ],
      "text/plain": [
       "                               predicted  \\\n",
       "352                              Bebidas   \n",
       "931  Productos de carne y aves de corral   \n",
       "342      Seguridad y protección personal   \n",
       "319      Seguridad y protección personal   \n",
       "63       Seguridad y protección personal   \n",
       "144                              Bebidas   \n",
       "149      Seguridad y protección personal   \n",
       "340         Elementos de aseo y limpieza   \n",
       "156         Elementos de aseo y limpieza   \n",
       "155      Seguridad y protección personal   \n",
       "257      Seguridad y protección personal   \n",
       "270         Elementos de aseo y limpieza   \n",
       "276      Seguridad y protección personal   \n",
       "282                              Bebidas   \n",
       "954   Alimentos preparados y conservados   \n",
       "430         Elementos de aseo y limpieza   \n",
       "759   Alimentos preparados y conservados   \n",
       "129      Seguridad y protección personal   \n",
       "121      Seguridad y protección personal   \n",
       "169               Elementos de papelería   \n",
       "\n",
       "                                   PRODUCTO O SERVICIO  \\\n",
       "352                              CREMA AGRIA *4000 Grs   \n",
       "931                                 Mezcla 3000 gramos   \n",
       "342                               Pierna de cerdo X KG   \n",
       "319            SOBRE MANILA 25 x 35 OFICIO UNIBOL 60 g   \n",
       "63                 Hamburguesa de Cebolla Caramelizada   \n",
       "144            PAPA CASCOS X0022 X 2.27 KL LAMB WESTON   \n",
       "149            SOBRE MANILA 25 x 35 OFICIO UNIBOL 60 g   \n",
       "340        Tocineta Larga Premium 1000 Grs. (Paquetes)   \n",
       "156                MARCADOR BORRABLE PELIKAN 424 NEGRO   \n",
       "155  PAPEL BOND 75 g OFICIO x 500 H CARTOPRINT(BLANCO)   \n",
       "257                                        Mailing 360   \n",
       "270            Filtro 3M Material particulado Ref:2097   \n",
       "276                     QUESO MOZARELLA RALLADO X 2 KG   \n",
       "282                          Gorro Tipo Oruga X 20 Und   \n",
       "954                    CARTULINA BRISTOL 70x100 BLANCA   \n",
       "430      Jabón Líquido Manos Frutos Rojos Berhlan 19 L   \n",
       "759                               Salsa BBQ de la Casa   \n",
       "129  GUANTE KLEENGUARD G40 POLIURETANO X PAR TALLA ...   \n",
       "121  GUANTE KLEENGUARD G40 POLIURETANO X PAR TALLA ...   \n",
       "169                MARCADOR BORRABLE PELIKAN 424 NEGRO   \n",
       "\n",
       "                             CATEGORÍA                       SUBCATEGORIA_x  \\\n",
       "352                Alimentos y Bebidas           Productos lácteos y huevos   \n",
       "931                Alimentos y Bebidas   Alimentos preparados y conservados   \n",
       "342                Alimentos y Bebidas  Productos de carne y aves de corral   \n",
       "319          Aseo, Cafetería y Oficina               Elementos de papelería   \n",
       "63                 Alimentos y Bebidas   Alimentos preparados y conservados   \n",
       "144                Alimentos y Bebidas   Alimentos preparados y conservados   \n",
       "149          Aseo, Cafetería y Oficina               Elementos de papelería   \n",
       "340                Alimentos y Bebidas  Productos de carne y aves de corral   \n",
       "156          Aseo, Cafetería y Oficina               Elementos de papelería   \n",
       "155          Aseo, Cafetería y Oficina               Elementos de papelería   \n",
       "257              Mercadeo y publicidad                                 Otra   \n",
       "270  Vigilancia y seguridad industrial      Seguridad y protección personal   \n",
       "276                Alimentos y Bebidas           Productos lácteos y huevos   \n",
       "282          Aseo, Cafetería y Oficina         Elementos de aseo y limpieza   \n",
       "954          Aseo, Cafetería y Oficina               Elementos de papelería   \n",
       "430          Aseo, Cafetería y Oficina         Elementos de aseo y limpieza   \n",
       "759                Alimentos y Bebidas   Alimentos preparados y conservados   \n",
       "129  Vigilancia y seguridad industrial      Seguridad y protección personal   \n",
       "121  Vigilancia y seguridad industrial      Seguridad y protección personal   \n",
       "169          Aseo, Cafetería y Oficina               Elementos de papelería   \n",
       "\n",
       "     result  \n",
       "352       0  \n",
       "931       0  \n",
       "342       0  \n",
       "319       0  \n",
       "63        0  \n",
       "144       0  \n",
       "149       0  \n",
       "340       0  \n",
       "156       0  \n",
       "155       0  \n",
       "257       0  \n",
       "270       0  \n",
       "276       0  \n",
       "282       0  \n",
       "954       0  \n",
       "430       1  \n",
       "759       1  \n",
       "129       1  \n",
       "121       1  \n",
       "169       1  "
      ]
     },
     "execution_count": 75,
     "metadata": {},
     "output_type": "execute_result"
    }
   ],
   "source": [
    "results2 = pd.DataFrame(data={'predicted': predicted_ext}).join(external_result)\n",
    "results2['result'] = np.where(results2['predicted']==results2['SUBCATEGORIA_x'], 1, 0)\n",
    "results2[results2['PRODUCTO O SERVICIO'].notnull()].sort_values(by='result').tail(20)"
   ]
  },
  {
   "cell_type": "code",
   "execution_count": 76,
   "metadata": {},
   "outputs": [
    {
     "data": {
      "text/plain": [
       "result\n",
       "0    995\n",
       "1      5\n",
       "dtype: int64"
      ]
     },
     "execution_count": 76,
     "metadata": {},
     "output_type": "execute_result"
    }
   ],
   "source": [
    "results2.groupby(['result']).size()"
   ]
  },
  {
   "cell_type": "code",
   "execution_count": 79,
   "metadata": {},
   "outputs": [
    {
     "data": {
      "text/plain": [
       "['modelos/subcategory_prediction2.pkl']"
      ]
     },
     "execution_count": 79,
     "metadata": {},
     "output_type": "execute_result"
    }
   ],
   "source": [
    "import joblib\n",
    "\n",
    "#import sklearn\n",
    "\n",
    "joblib.dump(classifier,\"modelos/subcategory_prediction2.pkl\")\n"
   ]
  },
  {
   "cell_type": "code",
   "execution_count": 78,
   "metadata": {},
   "outputs": [],
   "source": [
    "def dt_input(text):\n",
    "    df=pd.DataFrame()\n",
    "    df['producto']=[text]\n",
    "    return(df)"
   ]
  },
  {
   "cell_type": "code",
   "execution_count": 80,
   "metadata": {},
   "outputs": [
    {
     "data": {
      "text/plain": [
       "array(['Seguridad y protección personal'], dtype=object)"
      ]
     },
     "execution_count": 80,
     "metadata": {},
     "output_type": "execute_result"
    }
   ],
   "source": [
    "import joblib\n",
    "\n",
    "pipeline = joblib.load(\"modelos/subcategory_prediction.pkl\")\n",
    "\n",
    "text = input()\n",
    "\n",
    "#text =\"kola\"\n",
    "\n",
    "pipeline.predict(dt_input(text))"
   ]
  },
  {
   "cell_type": "code",
   "execution_count": 81,
   "metadata": {},
   "outputs": [],
   "source": [
    "def requestResults(text):\n",
    "    # get the tweets text\n",
    "    input = dt_input(text)\n",
    "    # get the prediction\n",
    "    input['prediction'] = pipeline.predict(input['producto'])\n",
    "    # get the value counts of different labels predicted\n",
    "    data = str(input.prediction.value_counts()) + '\\n\\n'\n",
    "    return data + str(input)"
   ]
  },
  {
   "cell_type": "code",
   "execution_count": 82,
   "metadata": {},
   "outputs": [],
   "source": [
    "from flask import Flask, render_template, request, redirect, url_for\n",
    "\n",
    "app = Flask(__name__)\n",
    "\n",
    "# render default webpage\n",
    "@app.route('/')\n",
    "def home():\n",
    "    return render_template('home.html')\n",
    "\n",
    "@app.route('/buscar', methods=['GET','POST'])\n",
    "def get_predict():\n",
    "    if request.method == 'POST':\n",
    "        text = request.form[\"search\"]\n",
    "        return  str(requestResults(text))\n",
    "    \n",
    "\n",
    "if __name__ == \"_main_\":\n",
    "    from werkzeug.serving import run_simple\n",
    "    run_simple('localhost', 5500, app)\n",
    "\n"
   ]
  },
  {
   "cell_type": "code",
   "execution_count": 83,
   "metadata": {},
   "outputs": [
    {
     "name": "stdout",
     "output_type": "stream",
     "text": [
      " * Serving Flask app '__main__' (lazy loading)\n",
      " * Environment: production\n",
      "\u001b[31m   WARNING: This is a development server. Do not use it in a production deployment.\u001b[0m\n",
      "\u001b[2m   Use a production WSGI server instead.\u001b[0m\n",
      " * Debug mode: off\n"
     ]
    },
    {
     "name": "stderr",
     "output_type": "stream",
     "text": [
      " * Running on http://127.0.0.1:5000/ (Press CTRL+C to quit)\n",
      "127.0.0.1 - - [12/Dec/2021 12:14:03] \"GET / HTTP/1.1\" 200 -\n"
     ]
    }
   ],
   "source": [
    "\n",
    "app.run()\n"
   ]
  },
  {
   "cell_type": "code",
   "execution_count": 200,
   "metadata": {},
   "outputs": [
    {
     "name": "stderr",
     "output_type": "stream",
     "text": [
      "C:\\Users\\KeyssiArroyo\\AppData\\Local\\Programs\\Python\\Python39\\lib\\site-packages\\spacy\\displacy\\__init__.py:192: UserWarning: [W006] No entities to visualize found in Doc object. If this is surprising to you, make sure the Doc was processed using a model that supports named entity recognition, and check the `doc.ents` property manually if necessary.\n",
      "  warnings.warn(Warnings.W006)\n"
     ]
    },
    {
     "data": {
      "text/html": [
       "<span class=\"tex2jax_ignore\"><div class=\"entities\" style=\"line-height: 2.5; direction: ltr\">Lasagna</div></span>"
      ],
      "text/plain": [
       "<IPython.core.display.HTML object>"
      ]
     },
     "metadata": {},
     "output_type": "display_data"
    },
    {
     "data": {
      "text/html": [
       "<span class=\"tex2jax_ignore\"><div class=\"entities\" style=\"line-height: 2.5; direction: ltr\">\n",
       "<mark class=\"entity\" style=\"background: #ddd; padding: 0.45em 0.6em; margin: 0 0.25em; line-height: 1; border-radius: 0.35em;\">\n",
       "    Pecho de Res Limpio\n",
       "    <span style=\"font-size: 0.8em; font-weight: bold; line-height: 1; border-radius: 0.35em; vertical-align: middle; margin-left: 0.5rem\">PER</span>\n",
       "</mark>\n",
       "/\n",
       "<mark class=\"entity\" style=\"background: #ddd; padding: 0.45em 0.6em; margin: 0 0.25em; line-height: 1; border-radius: 0.35em;\">\n",
       "    Sin Grasa\n",
       "    <span style=\"font-size: 0.8em; font-weight: bold; line-height: 1; border-radius: 0.35em; vertical-align: middle; margin-left: 0.5rem\">PER</span>\n",
       "</mark>\n",
       "</div></span>"
      ],
      "text/plain": [
       "<IPython.core.display.HTML object>"
      ]
     },
     "metadata": {},
     "output_type": "display_data"
    },
    {
     "data": {
      "text/html": [
       "<span class=\"tex2jax_ignore\"><div class=\"entities\" style=\"line-height: 2.5; direction: ltr\">LIBRO \n",
       "<mark class=\"entity\" style=\"background: #7aecec; padding: 0.45em 0.6em; margin: 0 0.25em; line-height: 1; border-radius: 0.35em;\">\n",
       "    CABEZA\n",
       "    <span style=\"font-size: 0.8em; font-weight: bold; line-height: 1; border-radius: 0.35em; vertical-align: middle; margin-left: 0.5rem\">ORG</span>\n",
       "</mark>\n",
       ", \n",
       "<mark class=\"entity\" style=\"background: #7aecec; padding: 0.45em 0.6em; margin: 0 0.25em; line-height: 1; border-radius: 0.35em;\">\n",
       "    CORAZON\n",
       "    <span style=\"font-size: 0.8em; font-weight: bold; line-height: 1; border-radius: 0.35em; vertical-align: middle; margin-left: 0.5rem\">ORG</span>\n",
       "</mark>\n",
       " Y MANOS</div></span>"
      ],
      "text/plain": [
       "<IPython.core.display.HTML object>"
      ]
     },
     "metadata": {},
     "output_type": "display_data"
    },
    {
     "data": {
      "text/html": [
       "<span class=\"tex2jax_ignore\"><div class=\"entities\" style=\"line-height: 2.5; direction: ltr\">\n",
       "<mark class=\"entity\" style=\"background: #ff9561; padding: 0.45em 0.6em; margin: 0 0.25em; line-height: 1; border-radius: 0.35em;\">\n",
       "    Costilla San Luis\n",
       "    <span style=\"font-size: 0.8em; font-weight: bold; line-height: 1; border-radius: 0.35em; vertical-align: middle; margin-left: 0.5rem\">LOC</span>\n",
       "</mark>\n",
       "</div></span>"
      ],
      "text/plain": [
       "<IPython.core.display.HTML object>"
      ]
     },
     "metadata": {},
     "output_type": "display_data"
    },
    {
     "data": {
      "text/html": [
       "<span class=\"tex2jax_ignore\"><div class=\"entities\" style=\"line-height: 2.5; direction: ltr\">\n",
       "<mark class=\"entity\" style=\"background: #ddd; padding: 0.45em 0.6em; margin: 0 0.25em; line-height: 1; border-radius: 0.35em;\">\n",
       "    Pecho Limpio + Grasa\n",
       "    <span style=\"font-size: 0.8em; font-weight: bold; line-height: 1; border-radius: 0.35em; vertical-align: middle; margin-left: 0.5rem\">PER</span>\n",
       "</mark>\n",
       "</div></span>"
      ],
      "text/plain": [
       "<IPython.core.display.HTML object>"
      ]
     },
     "metadata": {},
     "output_type": "display_data"
    },
    {
     "data": {
      "text/html": [
       "<span class=\"tex2jax_ignore\"><div class=\"entities\" style=\"line-height: 2.5; direction: ltr\">\n",
       "<mark class=\"entity\" style=\"background: #ddd; padding: 0.45em 0.6em; margin: 0 0.25em; line-height: 1; border-radius: 0.35em;\">\n",
       "    COCA COLA ORIGINAL  3LT\n",
       "    <span style=\"font-size: 0.8em; font-weight: bold; line-height: 1; border-radius: 0.35em; vertical-align: middle; margin-left: 0.5rem\">MISC</span>\n",
       "</mark>\n",
       " PET 6 UND</div></span>"
      ],
      "text/plain": [
       "<IPython.core.display.HTML object>"
      ]
     },
     "metadata": {},
     "output_type": "display_data"
    },
    {
     "data": {
      "text/html": [
       "<span class=\"tex2jax_ignore\"><div class=\"entities\" style=\"line-height: 2.5; direction: ltr\">\n",
       "<mark class=\"entity\" style=\"background: #ddd; padding: 0.45em 0.6em; margin: 0 0.25em; line-height: 1; border-radius: 0.35em;\">\n",
       "    BOTA NEGRA SINTETICO PUNT\n",
       "    <span style=\"font-size: 0.8em; font-weight: bold; line-height: 1; border-radius: 0.35em; vertical-align: middle; margin-left: 0.5rem\">MISC</span>\n",
       "</mark>\n",
       ". COMPOSITE \n",
       "<mark class=\"entity\" style=\"background: #ddd; padding: 0.45em 0.6em; margin: 0 0.25em; line-height: 1; border-radius: 0.35em;\">\n",
       "    SUELA\n",
       "    <span style=\"font-size: 0.8em; font-weight: bold; line-height: 1; border-radius: 0.35em; vertical-align: middle; margin-left: 0.5rem\">MISC</span>\n",
       "</mark>\n",
       " PU-PU \n",
       "<mark class=\"entity\" style=\"background: #ddd; padding: 0.45em 0.6em; margin: 0 0.25em; line-height: 1; border-radius: 0.35em;\">\n",
       "    REF 2021E\n",
       "    <span style=\"font-size: 0.8em; font-weight: bold; line-height: 1; border-radius: 0.35em; vertical-align: middle; margin-left: 0.5rem\">MISC</span>\n",
       "</mark>\n",
       " \n",
       "<mark class=\"entity\" style=\"background: #ddd; padding: 0.45em 0.6em; margin: 0 0.25em; line-height: 1; border-radius: 0.35em;\">\n",
       "    TALLA 38\n",
       "    <span style=\"font-size: 0.8em; font-weight: bold; line-height: 1; border-radius: 0.35em; vertical-align: middle; margin-left: 0.5rem\">MISC</span>\n",
       "</mark>\n",
       "</div></span>"
      ],
      "text/plain": [
       "<IPython.core.display.HTML object>"
      ]
     },
     "metadata": {},
     "output_type": "display_data"
    },
    {
     "data": {
      "text/html": [
       "<span class=\"tex2jax_ignore\"><div class=\"entities\" style=\"line-height: 2.5; direction: ltr\">\n",
       "<mark class=\"entity\" style=\"background: #7aecec; padding: 0.45em 0.6em; margin: 0 0.25em; line-height: 1; border-radius: 0.35em;\">\n",
       "    MANOMETRO\n",
       "    <span style=\"font-size: 0.8em; font-weight: bold; line-height: 1; border-radius: 0.35em; vertical-align: middle; margin-left: 0.5rem\">ORG</span>\n",
       "</mark>\n",
       "</div></span>"
      ],
      "text/plain": [
       "<IPython.core.display.HTML object>"
      ]
     },
     "metadata": {},
     "output_type": "display_data"
    },
    {
     "data": {
      "text/html": [
       "<span class=\"tex2jax_ignore\"><div class=\"entities\" style=\"line-height: 2.5; direction: ltr\">\n",
       "<mark class=\"entity\" style=\"background: #ddd; padding: 0.45em 0.6em; margin: 0 0.25em; line-height: 1; border-radius: 0.35em;\">\n",
       "    Menú del Día\n",
       "    <span style=\"font-size: 0.8em; font-weight: bold; line-height: 1; border-radius: 0.35em; vertical-align: middle; margin-left: 0.5rem\">PER</span>\n",
       "</mark>\n",
       "</div></span>"
      ],
      "text/plain": [
       "<IPython.core.display.HTML object>"
      ]
     },
     "metadata": {},
     "output_type": "display_data"
    },
    {
     "data": {
      "text/html": [
       "<span class=\"tex2jax_ignore\"><div class=\"entities\" style=\"line-height: 2.5; direction: ltr\">\n",
       "<mark class=\"entity\" style=\"background: #ddd; padding: 0.45em 0.6em; margin: 0 0.25em; line-height: 1; border-radius: 0.35em;\">\n",
       "    GUANTE KLEENGUARD\n",
       "    <span style=\"font-size: 0.8em; font-weight: bold; line-height: 1; border-radius: 0.35em; vertical-align: middle; margin-left: 0.5rem\">MISC</span>\n",
       "</mark>\n",
       " \n",
       "<mark class=\"entity\" style=\"background: #ddd; padding: 0.45em 0.6em; margin: 0 0.25em; line-height: 1; border-radius: 0.35em;\">\n",
       "    G40 POLIURETANO X\n",
       "    <span style=\"font-size: 0.8em; font-weight: bold; line-height: 1; border-radius: 0.35em; vertical-align: middle; margin-left: 0.5rem\">MISC</span>\n",
       "</mark>\n",
       " PAR \n",
       "<mark class=\"entity\" style=\"background: #ddd; padding: 0.45em 0.6em; margin: 0 0.25em; line-height: 1; border-radius: 0.35em;\">\n",
       "    TALLA 8  REF: 30215522/30222017\n",
       "    <span style=\"font-size: 0.8em; font-weight: bold; line-height: 1; border-radius: 0.35em; vertical-align: middle; margin-left: 0.5rem\">MISC</span>\n",
       "</mark>\n",
       "</div></span>"
      ],
      "text/plain": [
       "<IPython.core.display.HTML object>"
      ]
     },
     "metadata": {},
     "output_type": "display_data"
    }
   ],
   "source": [
    "import spacy\n",
    "from spacy import displacy\n",
    "nlp=spacy.load('es_core_news_sm')\n",
    "for row in data_pro2['PRODUCTO O SERVICIO'].unique()[:10]:\n",
    "    doc=nlp(row)\n",
    "    displacy.render(doc, style=\"ent\")"
   ]
  },
  {
   "cell_type": "code",
   "execution_count": 104,
   "metadata": {},
   "outputs": [],
   "source": [
    "products=data_pro.groupby(['PRODUCTO O SERVICIO']).size().sort_values(ascending=False)[:50]\n"
   ]
  },
  {
   "cell_type": "code",
   "execution_count": 105,
   "metadata": {},
   "outputs": [],
   "source": [
    "unique_titles = products.index.unique()\n",
    "nlp_title=list(nlp.pipe(unique_titles))\n",
    "\n",
    "vector=[]\n",
    "for i in nlp_title:\n",
    "    vector.append(i.vector)\n",
    "    \n",
    "unique_titles_vectors_3 = pd.DataFrame(data={'products':unique_titles,'vector':vector})"
   ]
  },
  {
   "cell_type": "code",
   "execution_count": 106,
   "metadata": {},
   "outputs": [],
   "source": [
    "from sklearn.manifold import TSNE\n",
    "import matplotlib.pyplot as plt\n",
    "%matplotlib inline\n",
    "\n",
    "tsne_model = TSNE(perplexity=40, n_components=2, init='pca', n_iter=2500, random_state=23)\n",
    "new_values = tsne_model.fit_transform(vector)"
   ]
  },
  {
   "cell_type": "code",
   "execution_count": 107,
   "metadata": {},
   "outputs": [],
   "source": [
    "from tensorflow.keras.callbacks import TensorBoard\n",
    "\n",
    "callbacks = [TensorBoard(log_dir=log_folder,\n",
    "                         histogram_freq=1,\n",
    "                         write_graph=True,\n",
    "                         write_images=True,\n",
    "                         update_freq='epoch',\n",
    "                         profile_batch=2,\n",
    "                         embeddings_freq=1)]"
   ]
  },
  {
   "cell_type": "code",
   "execution_count": 108,
   "metadata": {},
   "outputs": [],
   "source": [
    "x = []\n",
    "y = []\n",
    "for value in new_values:\n",
    "    x.append(value[0])\n",
    "    y.append(value[1])"
   ]
  },
  {
   "cell_type": "code",
   "execution_count": 109,
   "metadata": {},
   "outputs": [
    {
     "data": {
      "image/png": "[encoded data removed]",
      "text/plain": [
       "<Figure size 1152x1152 with 1 Axes>"
      ]
     },
     "metadata": {
      "needs_background": "light"
     },
     "output_type": "display_data"
    }
   ],
   "source": [
    "labels=unique_titles\n",
    "plt.figure(figsize=(16, 16)) \n",
    "for i in range(len(x)):\n",
    "    plt.scatter(x[i],y[i])\n",
    "    plt.annotate(labels[i],\n",
    "                    xy=(x[i], y[i]),\n",
    "                    xytext=(5, 2),\n",
    "                    textcoords='offset points',\n",
    "                    ha='right',\n",
    "                    va='bottom')\n",
    "plt.show()"
   ]
  },
  {
   "cell_type": "code",
   "execution_count": null,
   "metadata": {},
   "outputs": [],
   "source": []
  }
 ],
 "metadata": {
  "interpreter": {
   "hash": "2fb81b5ae0622d99c197c58f6454131de7598820f0b1cb6432b2b1db79d3a8af"
  },
  "kernelspec": {
   "display_name": "Python 3.9.6 64-bit",
   "language": "python",
   "name": "python3"
  },
  "language_info": {
   "codemirror_mode": {
    "name": "ipython",
    "version": 3
   },
   "file_extension": ".py",
   "mimetype": "text/x-python",
   "name": "python",
   "nbconvert_exporter": "python",
   "pygments_lexer": "ipython3",
   "version": "3.9.6"
  },
  "orig_nbformat": 4
 },
 "nbformat": 4,
 "nbformat_minor": 2
}
