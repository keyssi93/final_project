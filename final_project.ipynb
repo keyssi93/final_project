{
 "cells": [
  {
   "cell_type": "code",
   "execution_count": 2,
   "metadata": {},
   "outputs": [
    {
     "name": "stdout",
     "output_type": "stream",
     "text": [
      "Requirement already satisfied: openpyxl in c:\\users\\keyssiarroyo\\appdata\\local\\programs\\python\\python39\\lib\\site-packages (3.0.9)\n",
      "Requirement already satisfied: et-xmlfile in c:\\users\\keyssiarroyo\\appdata\\local\\programs\\python\\python39\\lib\\site-packages (from openpyxl) (1.1.0)\n",
      "Requirement already satisfied: swat in c:\\users\\keyssiarroyo\\appdata\\local\\programs\\python\\python39\\lib\\site-packages (1.9.3)\n",
      "Requirement already satisfied: urllib3 in c:\\users\\keyssiarroyo\\appdata\\local\\programs\\python\\python39\\lib\\site-packages (from swat) (1.26.6)\n",
      "Requirement already satisfied: requests in c:\\users\\keyssiarroyo\\appdata\\local\\programs\\python\\python39\\lib\\site-packages (from swat) (2.26.0)\n",
      "Requirement already satisfied: pandas>=0.16.0 in c:\\users\\keyssiarroyo\\appdata\\local\\programs\\python\\python39\\lib\\site-packages (from swat) (1.3.2)\n",
      "Requirement already satisfied: pytz in c:\\users\\keyssiarroyo\\appdata\\local\\programs\\python\\python39\\lib\\site-packages (from swat) (2021.1)\n",
      "Requirement already satisfied: six>=1.9.0 in c:\\users\\keyssiarroyo\\appdata\\local\\programs\\python\\python39\\lib\\site-packages (from swat) (1.15.0)\n",
      "Requirement already satisfied: python-dateutil>=2.7.3 in c:\\users\\keyssiarroyo\\appdata\\local\\programs\\python\\python39\\lib\\site-packages (from pandas>=0.16.0->swat) (2.8.2)\n",
      "Requirement already satisfied: numpy>=1.17.3 in c:\\users\\keyssiarroyo\\appdata\\local\\programs\\python\\python39\\lib\\site-packages (from pandas>=0.16.0->swat) (1.19.5)\n",
      "Requirement already satisfied: idna<4,>=2.5 in c:\\users\\keyssiarroyo\\appdata\\local\\programs\\python\\python39\\lib\\site-packages (from requests->swat) (3.2)\n",
      "Requirement already satisfied: certifi>=2017.4.17 in c:\\users\\keyssiarroyo\\appdata\\local\\programs\\python\\python39\\lib\\site-packages (from requests->swat) (2021.5.30)\n",
      "Requirement already satisfied: charset-normalizer~=2.0.0 in c:\\users\\keyssiarroyo\\appdata\\local\\programs\\python\\python39\\lib\\site-packages (from requests->swat) (2.0.5)\n",
      "Requirement already satisfied: seaborn in c:\\users\\keyssiarroyo\\appdata\\local\\programs\\python\\python39\\lib\\site-packages (0.11.2)\n",
      "Requirement already satisfied: matplotlib>=2.2 in c:\\users\\keyssiarroyo\\appdata\\local\\programs\\python\\python39\\lib\\site-packages (from seaborn) (3.4.3)\n",
      "Requirement already satisfied: scipy>=1.0 in c:\\users\\keyssiarroyo\\appdata\\local\\programs\\python\\python39\\lib\\site-packages (from seaborn) (1.7.1)\n",
      "Requirement already satisfied: numpy>=1.15 in c:\\users\\keyssiarroyo\\appdata\\local\\programs\\python\\python39\\lib\\site-packages (from seaborn) (1.19.5)\n",
      "Requirement already satisfied: pandas>=0.23 in c:\\users\\keyssiarroyo\\appdata\\local\\programs\\python\\python39\\lib\\site-packages (from seaborn) (1.3.2)\n",
      "Requirement already satisfied: python-dateutil>=2.7 in c:\\users\\keyssiarroyo\\appdata\\local\\programs\\python\\python39\\lib\\site-packages (from matplotlib>=2.2->seaborn) (2.8.2)\n",
      "Requirement already satisfied: pillow>=6.2.0 in c:\\users\\keyssiarroyo\\appdata\\local\\programs\\python\\python39\\lib\\site-packages (from matplotlib>=2.2->seaborn) (8.3.2)\n",
      "Requirement already satisfied: pyparsing>=2.2.1 in c:\\users\\keyssiarroyo\\appdata\\local\\programs\\python\\python39\\lib\\site-packages (from matplotlib>=2.2->seaborn) (2.4.7)\n",
      "Requirement already satisfied: cycler>=0.10 in c:\\users\\keyssiarroyo\\appdata\\local\\programs\\python\\python39\\lib\\site-packages (from matplotlib>=2.2->seaborn) (0.10.0)\n",
      "Requirement already satisfied: kiwisolver>=1.0.1 in c:\\users\\keyssiarroyo\\appdata\\local\\programs\\python\\python39\\lib\\site-packages (from matplotlib>=2.2->seaborn) (1.3.2)\n",
      "Requirement already satisfied: pytz>=2017.3 in c:\\users\\keyssiarroyo\\appdata\\local\\programs\\python\\python39\\lib\\site-packages (from pandas>=0.23->seaborn) (2021.1)\n",
      "Requirement already satisfied: six in c:\\users\\keyssiarroyo\\appdata\\local\\programs\\python\\python39\\lib\\site-packages (from cycler>=0.10->matplotlib>=2.2->seaborn) (1.15.0)\n"
     ]
    },
    {
     "name": "stderr",
     "output_type": "stream",
     "text": [
      "ERROR: Could not find a version that satisfies the requirement time (from versions: none)\n",
      "ERROR: No matching distribution found for time\n"
     ]
    },
    {
     "name": "stdout",
     "output_type": "stream",
     "text": [
      "Requirement already satisfied: pip in c:\\users\\keyssiarroyo\\appdata\\local\\programs\\python\\python39\\lib\\site-packages (21.3.1)\n",
      "Requirement already satisfied: setuptools in c:\\users\\keyssiarroyo\\appdata\\local\\programs\\python\\python39\\lib\\site-packages (59.2.0)\n",
      "Requirement already satisfied: wheel in c:\\users\\keyssiarroyo\\appdata\\local\\programs\\python\\python39\\lib\\site-packages (0.37.0)\n",
      "Requirement already satisfied: spacy in c:\\users\\keyssiarroyo\\appdata\\local\\programs\\python\\python39\\lib\\site-packages (3.2.0)\n",
      "Requirement already satisfied: spacy-legacy<3.1.0,>=3.0.8 in c:\\users\\keyssiarroyo\\appdata\\local\\programs\\python\\python39\\lib\\site-packages (from spacy) (3.0.8)\n",
      "Requirement already satisfied: jinja2 in c:\\users\\keyssiarroyo\\appdata\\local\\programs\\python\\python39\\lib\\site-packages (from spacy) (3.0.3)\n",
      "Requirement already satisfied: setuptools in c:\\users\\keyssiarroyo\\appdata\\local\\programs\\python\\python39\\lib\\site-packages (from spacy) (59.2.0)\n",
      "Requirement already satisfied: pathy>=0.3.5 in c:\\users\\keyssiarroyo\\appdata\\local\\programs\\python\\python39\\lib\\site-packages (from spacy) (0.6.1)\n",
      "Requirement already satisfied: srsly<3.0.0,>=2.4.1 in c:\\users\\keyssiarroyo\\appdata\\local\\programs\\python\\python39\\lib\\site-packages (from spacy) (2.4.2)\n",
      "Requirement already satisfied: requests<3.0.0,>=2.13.0 in c:\\users\\keyssiarroyo\\appdata\\local\\programs\\python\\python39\\lib\\site-packages (from spacy) (2.26.0)\n",
      "Requirement already satisfied: cymem<2.1.0,>=2.0.2 in c:\\users\\keyssiarroyo\\appdata\\local\\programs\\python\\python39\\lib\\site-packages (from spacy) (2.0.6)\n",
      "Requirement already satisfied: thinc<8.1.0,>=8.0.12 in c:\\users\\keyssiarroyo\\appdata\\local\\programs\\python\\python39\\lib\\site-packages (from spacy) (8.0.13)\n",
      "Requirement already satisfied: spacy-loggers<2.0.0,>=1.0.0 in c:\\users\\keyssiarroyo\\appdata\\local\\programs\\python\\python39\\lib\\site-packages (from spacy) (1.0.1)\n",
      "Requirement already satisfied: pydantic!=1.8,!=1.8.1,<1.9.0,>=1.7.4 in c:\\users\\keyssiarroyo\\appdata\\local\\programs\\python\\python39\\lib\\site-packages (from spacy) (1.8.2)\n",
      "Requirement already satisfied: blis<0.8.0,>=0.4.0 in c:\\users\\keyssiarroyo\\appdata\\local\\programs\\python\\python39\\lib\\site-packages (from spacy) (0.7.5)\n",
      "Requirement already satisfied: preshed<3.1.0,>=3.0.2 in c:\\users\\keyssiarroyo\\appdata\\local\\programs\\python\\python39\\lib\\site-packages (from spacy) (3.0.6)\n",
      "Requirement already satisfied: packaging>=20.0 in c:\\users\\keyssiarroyo\\appdata\\local\\programs\\python\\python39\\lib\\site-packages (from spacy) (21.3)\n",
      "Requirement already satisfied: typer<0.5.0,>=0.3.0 in c:\\users\\keyssiarroyo\\appdata\\local\\programs\\python\\python39\\lib\\site-packages (from spacy) (0.4.0)\n",
      "Requirement already satisfied: numpy>=1.15.0 in c:\\users\\keyssiarroyo\\appdata\\local\\programs\\python\\python39\\lib\\site-packages (from spacy) (1.19.5)\n",
      "Requirement already satisfied: murmurhash<1.1.0,>=0.28.0 in c:\\users\\keyssiarroyo\\appdata\\local\\programs\\python\\python39\\lib\\site-packages (from spacy) (1.0.6)\n",
      "Requirement already satisfied: catalogue<2.1.0,>=2.0.6 in c:\\users\\keyssiarroyo\\appdata\\local\\programs\\python\\python39\\lib\\site-packages (from spacy) (2.0.6)\n",
      "Requirement already satisfied: langcodes<4.0.0,>=3.2.0 in c:\\users\\keyssiarroyo\\appdata\\local\\programs\\python\\python39\\lib\\site-packages (from spacy) (3.3.0)\n",
      "Requirement already satisfied: wasabi<1.1.0,>=0.8.1 in c:\\users\\keyssiarroyo\\appdata\\local\\programs\\python\\python39\\lib\\site-packages (from spacy) (0.8.2)\n",
      "Requirement already satisfied: tqdm<5.0.0,>=4.38.0 in c:\\users\\keyssiarroyo\\appdata\\local\\programs\\python\\python39\\lib\\site-packages (from spacy) (4.62.2)\n",
      "Requirement already satisfied: pyparsing!=3.0.5,>=2.0.2 in c:\\users\\keyssiarroyo\\appdata\\local\\programs\\python\\python39\\lib\\site-packages (from packaging>=20.0->spacy) (2.4.7)\n",
      "Requirement already satisfied: smart-open<6.0.0,>=5.0.0 in c:\\users\\keyssiarroyo\\appdata\\local\\programs\\python\\python39\\lib\\site-packages (from pathy>=0.3.5->spacy) (5.2.1)\n",
      "Requirement already satisfied: typing-extensions>=3.7.4.3 in c:\\users\\keyssiarroyo\\appdata\\local\\programs\\python\\python39\\lib\\site-packages (from pydantic!=1.8,!=1.8.1,<1.9.0,>=1.7.4->spacy) (3.7.4.3)\n",
      "Requirement already satisfied: urllib3<1.27,>=1.21.1 in c:\\users\\keyssiarroyo\\appdata\\local\\programs\\python\\python39\\lib\\site-packages (from requests<3.0.0,>=2.13.0->spacy) (1.26.6)\n",
      "Requirement already satisfied: charset-normalizer~=2.0.0 in c:\\users\\keyssiarroyo\\appdata\\local\\programs\\python\\python39\\lib\\site-packages (from requests<3.0.0,>=2.13.0->spacy) (2.0.5)\n",
      "Requirement already satisfied: idna<4,>=2.5 in c:\\users\\keyssiarroyo\\appdata\\local\\programs\\python\\python39\\lib\\site-packages (from requests<3.0.0,>=2.13.0->spacy) (3.2)\n",
      "Requirement already satisfied: certifi>=2017.4.17 in c:\\users\\keyssiarroyo\\appdata\\local\\programs\\python\\python39\\lib\\site-packages (from requests<3.0.0,>=2.13.0->spacy) (2021.5.30)\n",
      "Requirement already satisfied: colorama in c:\\users\\keyssiarroyo\\appdata\\local\\programs\\python\\python39\\lib\\site-packages (from tqdm<5.0.0,>=4.38.0->spacy) (0.4.4)\n",
      "Requirement already satisfied: click<9.0.0,>=7.1.1 in c:\\users\\keyssiarroyo\\appdata\\local\\programs\\python\\python39\\lib\\site-packages (from typer<0.5.0,>=0.3.0->spacy) (8.0.3)\n",
      "Requirement already satisfied: MarkupSafe>=2.0 in c:\\users\\keyssiarroyo\\appdata\\local\\programs\\python\\python39\\lib\\site-packages (from jinja2->spacy) (2.0.1)\n",
      "Collecting es-core-news-sm==3.2.0\n",
      "  Downloading https://github.com/explosion/spacy-models/releases/download/es_core_news_sm-3.2.0/es_core_news_sm-3.2.0-py3-none-any.whl (14.0 MB)\n",
      "Requirement already satisfied: spacy<3.3.0,>=3.2.0 in c:\\users\\keyssiarroyo\\appdata\\local\\programs\\python\\python39\\lib\\site-packages (from es-core-news-sm==3.2.0) (3.2.0)\n",
      "Requirement already satisfied: numpy>=1.15.0 in c:\\users\\keyssiarroyo\\appdata\\local\\programs\\python\\python39\\lib\\site-packages (from spacy<3.3.0,>=3.2.0->es-core-news-sm==3.2.0) (1.19.5)\n",
      "Requirement already satisfied: spacy-loggers<2.0.0,>=1.0.0 in c:\\users\\keyssiarroyo\\appdata\\local\\programs\\python\\python39\\lib\\site-packages (from spacy<3.3.0,>=3.2.0->es-core-news-sm==3.2.0) (1.0.1)\n",
      "Requirement already satisfied: typer<0.5.0,>=0.3.0 in c:\\users\\keyssiarroyo\\appdata\\local\\programs\\python\\python39\\lib\\site-packages (from spacy<3.3.0,>=3.2.0->es-core-news-sm==3.2.0) (0.4.0)\n",
      "Requirement already satisfied: langcodes<4.0.0,>=3.2.0 in c:\\users\\keyssiarroyo\\appdata\\local\\programs\\python\\python39\\lib\\site-packages (from spacy<3.3.0,>=3.2.0->es-core-news-sm==3.2.0) (3.3.0)\n",
      "Requirement already satisfied: pydantic!=1.8,!=1.8.1,<1.9.0,>=1.7.4 in c:\\users\\keyssiarroyo\\appdata\\local\\programs\\python\\python39\\lib\\site-packages (from spacy<3.3.0,>=3.2.0->es-core-news-sm==3.2.0) (1.8.2)\n",
      "Requirement already satisfied: pathy>=0.3.5 in c:\\users\\keyssiarroyo\\appdata\\local\\programs\\python\\python39\\lib\\site-packages (from spacy<3.3.0,>=3.2.0->es-core-news-sm==3.2.0) (0.6.1)\n",
      "Requirement already satisfied: wasabi<1.1.0,>=0.8.1 in c:\\users\\keyssiarroyo\\appdata\\local\\programs\\python\\python39\\lib\\site-packages (from spacy<3.3.0,>=3.2.0->es-core-news-sm==3.2.0) (0.8.2)\n",
      "Requirement already satisfied: catalogue<2.1.0,>=2.0.6 in c:\\users\\keyssiarroyo\\appdata\\local\\programs\\python\\python39\\lib\\site-packages (from spacy<3.3.0,>=3.2.0->es-core-news-sm==3.2.0) (2.0.6)\n",
      "Requirement already satisfied: jinja2 in c:\\users\\keyssiarroyo\\appdata\\local\\programs\\python\\python39\\lib\\site-packages (from spacy<3.3.0,>=3.2.0->es-core-news-sm==3.2.0) (3.0.3)\n",
      "Requirement already satisfied: preshed<3.1.0,>=3.0.2 in c:\\users\\keyssiarroyo\\appdata\\local\\programs\\python\\python39\\lib\\site-packages (from spacy<3.3.0,>=3.2.0->es-core-news-sm==3.2.0) (3.0.6)\n",
      "Requirement already satisfied: requests<3.0.0,>=2.13.0 in c:\\users\\keyssiarroyo\\appdata\\local\\programs\\python\\python39\\lib\\site-packages (from spacy<3.3.0,>=3.2.0->es-core-news-sm==3.2.0) (2.26.0)\n",
      "Requirement already satisfied: cymem<2.1.0,>=2.0.2 in c:\\users\\keyssiarroyo\\appdata\\local\\programs\\python\\python39\\lib\\site-packages (from spacy<3.3.0,>=3.2.0->es-core-news-sm==3.2.0) (2.0.6)\n",
      "Requirement already satisfied: tqdm<5.0.0,>=4.38.0 in c:\\users\\keyssiarroyo\\appdata\\local\\programs\\python\\python39\\lib\\site-packages (from spacy<3.3.0,>=3.2.0->es-core-news-sm==3.2.0) (4.62.2)\n",
      "Requirement already satisfied: murmurhash<1.1.0,>=0.28.0 in c:\\users\\keyssiarroyo\\appdata\\local\\programs\\python\\python39\\lib\\site-packages (from spacy<3.3.0,>=3.2.0->es-core-news-sm==3.2.0) (1.0.6)\n",
      "Requirement already satisfied: thinc<8.1.0,>=8.0.12 in c:\\users\\keyssiarroyo\\appdata\\local\\programs\\python\\python39\\lib\\site-packages (from spacy<3.3.0,>=3.2.0->es-core-news-sm==3.2.0) (8.0.13)\n",
      "Requirement already satisfied: srsly<3.0.0,>=2.4.1 in c:\\users\\keyssiarroyo\\appdata\\local\\programs\\python\\python39\\lib\\site-packages (from spacy<3.3.0,>=3.2.0->es-core-news-sm==3.2.0) (2.4.2)\n",
      "Requirement already satisfied: setuptools in c:\\users\\keyssiarroyo\\appdata\\local\\programs\\python\\python39\\lib\\site-packages (from spacy<3.3.0,>=3.2.0->es-core-news-sm==3.2.0) (59.2.0)\n",
      "Requirement already satisfied: spacy-legacy<3.1.0,>=3.0.8 in c:\\users\\keyssiarroyo\\appdata\\local\\programs\\python\\python39\\lib\\site-packages (from spacy<3.3.0,>=3.2.0->es-core-news-sm==3.2.0) (3.0.8)\n",
      "Requirement already satisfied: packaging>=20.0 in c:\\users\\keyssiarroyo\\appdata\\local\\programs\\python\\python39\\lib\\site-packages (from spacy<3.3.0,>=3.2.0->es-core-news-sm==3.2.0) (21.3)\n",
      "Requirement already satisfied: blis<0.8.0,>=0.4.0 in c:\\users\\keyssiarroyo\\appdata\\local\\programs\\python\\python39\\lib\\site-packages (from spacy<3.3.0,>=3.2.0->es-core-news-sm==3.2.0) (0.7.5)\n",
      "Requirement already satisfied: pyparsing!=3.0.5,>=2.0.2 in c:\\users\\keyssiarroyo\\appdata\\local\\programs\\python\\python39\\lib\\site-packages (from packaging>=20.0->spacy<3.3.0,>=3.2.0->es-core-news-sm==3.2.0) (2.4.7)\n",
      "Requirement already satisfied: smart-open<6.0.0,>=5.0.0 in c:\\users\\keyssiarroyo\\appdata\\local\\programs\\python\\python39\\lib\\site-packages (from pathy>=0.3.5->spacy<3.3.0,>=3.2.0->es-core-news-sm==3.2.0) (5.2.1)\n",
      "Requirement already satisfied: typing-extensions>=3.7.4.3 in c:\\users\\keyssiarroyo\\appdata\\local\\programs\\python\\python39\\lib\\site-packages (from pydantic!=1.8,!=1.8.1,<1.9.0,>=1.7.4->spacy<3.3.0,>=3.2.0->es-core-news-sm==3.2.0) (3.7.4.3)\n",
      "Requirement already satisfied: idna<4,>=2.5 in c:\\users\\keyssiarroyo\\appdata\\local\\programs\\python\\python39\\lib\\site-packages (from requests<3.0.0,>=2.13.0->spacy<3.3.0,>=3.2.0->es-core-news-sm==3.2.0) (3.2)\n",
      "Requirement already satisfied: urllib3<1.27,>=1.21.1 in c:\\users\\keyssiarroyo\\appdata\\local\\programs\\python\\python39\\lib\\site-packages (from requests<3.0.0,>=2.13.0->spacy<3.3.0,>=3.2.0->es-core-news-sm==3.2.0) (1.26.6)\n",
      "Requirement already satisfied: charset-normalizer~=2.0.0 in c:\\users\\keyssiarroyo\\appdata\\local\\programs\\python\\python39\\lib\\site-packages (from requests<3.0.0,>=2.13.0->spacy<3.3.0,>=3.2.0->es-core-news-sm==3.2.0) (2.0.5)\n",
      "Requirement already satisfied: certifi>=2017.4.17 in c:\\users\\keyssiarroyo\\appdata\\local\\programs\\python\\python39\\lib\\site-packages (from requests<3.0.0,>=2.13.0->spacy<3.3.0,>=3.2.0->es-core-news-sm==3.2.0) (2021.5.30)\n",
      "Requirement already satisfied: colorama in c:\\users\\keyssiarroyo\\appdata\\local\\programs\\python\\python39\\lib\\site-packages (from tqdm<5.0.0,>=4.38.0->spacy<3.3.0,>=3.2.0->es-core-news-sm==3.2.0) (0.4.4)\n",
      "Requirement already satisfied: click<9.0.0,>=7.1.1 in c:\\users\\keyssiarroyo\\appdata\\local\\programs\\python\\python39\\lib\\site-packages (from typer<0.5.0,>=0.3.0->spacy<3.3.0,>=3.2.0->es-core-news-sm==3.2.0) (8.0.3)\n",
      "Requirement already satisfied: MarkupSafe>=2.0 in c:\\users\\keyssiarroyo\\appdata\\local\\programs\\python\\python39\\lib\\site-packages (from jinja2->spacy<3.3.0,>=3.2.0->es-core-news-sm==3.2.0) (2.0.1)\n",
      "✔ Download and installation successful\n",
      "You can now load the package via spacy.load('es_core_news_sm')\n"
     ]
    },
    {
     "name": "stderr",
     "output_type": "stream",
     "text": [
      "2021-11-23 23:19:57.168161: W tensorflow/stream_executor/platform/default/dso_loader.cc:64] Could not load dynamic library 'cudart64_110.dll'; dlerror: cudart64_110.dll not found\n",
      "2021-11-23 23:19:57.168968: I tensorflow/stream_executor/cuda/cudart_stub.cc:29] Ignore above cudart dlerror if you do not have a GPU set up on your machine.\n"
     ]
    }
   ],
   "source": [
    "!pip install openpyxl\n",
    "!pip install swat\n",
    "!pip install seaborn\n",
    "!pip install time\n",
    "!pip install -U pip setuptools wheel\n",
    "!pip install -U spacy\n",
    "!python -m spacy download es_core_news_sm"
   ]
  },
  {
   "cell_type": "code",
   "execution_count": 3,
   "metadata": {},
   "outputs": [
    {
     "data": {
      "text/html": [
       "<div>\n",
       "<style scoped>\n",
       "    .dataframe tbody tr th:only-of-type {\n",
       "        vertical-align: middle;\n",
       "    }\n",
       "\n",
       "    .dataframe tbody tr th {\n",
       "        vertical-align: top;\n",
       "    }\n",
       "\n",
       "    .dataframe thead th {\n",
       "        text-align: right;\n",
       "    }\n",
       "</style>\n",
       "<table border=\"1\" class=\"dataframe\">\n",
       "  <thead>\n",
       "    <tr style=\"text-align: right;\">\n",
       "      <th></th>\n",
       "      <th>NÚMERO PEDIDO</th>\n",
       "      <th>ORDEN NÚMERO</th>\n",
       "      <th>FECHA ORDEN</th>\n",
       "      <th>FECHA ENTREGA</th>\n",
       "      <th>FECHA APROBACION</th>\n",
       "      <th>CATEGORÍA</th>\n",
       "      <th>SUBCATEGORIA</th>\n",
       "      <th>PROVEEDOR</th>\n",
       "      <th>USUARIO</th>\n",
       "      <th>USUARIO APROBADOR</th>\n",
       "      <th>...</th>\n",
       "      <th>CANTIDAD RECIBIDA</th>\n",
       "      <th>PRECIO UNITARIO</th>\n",
       "      <th>PRECIO UNITARIO + IVA</th>\n",
       "      <th>IVA</th>\n",
       "      <th>TOTAL SIN IVA</th>\n",
       "      <th>TOTAL + IVA</th>\n",
       "      <th>FECHA ULTIMO MOVIMIENTO</th>\n",
       "      <th>Unnamed: 26</th>\n",
       "      <th>Unnamed: 27</th>\n",
       "      <th>Unnamed: 28</th>\n",
       "    </tr>\n",
       "  </thead>\n",
       "  <tbody>\n",
       "    <tr>\n",
       "      <th>0</th>\n",
       "      <td># 49561</td>\n",
       "      <td># 2582</td>\n",
       "      <td>2021-11-10</td>\n",
       "      <td>2021-11-10</td>\n",
       "      <td>2021-11-10</td>\n",
       "      <td>Eléctricos y Electrónicos</td>\n",
       "      <td>Lámparas y bombillas y componentes para lámparas</td>\n",
       "      <td>Proveedor 1</td>\n",
       "      <td>Usuario solicitante 1</td>\n",
       "      <td>Usuario Aprobador 1</td>\n",
       "      <td>...</td>\n",
       "      <td>NaN</td>\n",
       "      <td>23.364</td>\n",
       "      <td>27.803</td>\n",
       "      <td>4.439</td>\n",
       "      <td>46.728</td>\n",
       "      <td>55.606</td>\n",
       "      <td>2021-11-10</td>\n",
       "      <td>NaN</td>\n",
       "      <td>NaN</td>\n",
       "      <td>NaN</td>\n",
       "    </tr>\n",
       "    <tr>\n",
       "      <th>1</th>\n",
       "      <td># 49560</td>\n",
       "      <td># 2581</td>\n",
       "      <td>2021-11-10</td>\n",
       "      <td>2021-11-11</td>\n",
       "      <td>2021-11-10</td>\n",
       "      <td>Mercadeo y publicidad</td>\n",
       "      <td>Publicidad</td>\n",
       "      <td>Proveedor 2</td>\n",
       "      <td>Usuario solicitante 2</td>\n",
       "      <td>Usuario Aprobador 2</td>\n",
       "      <td>...</td>\n",
       "      <td>1.0</td>\n",
       "      <td>1.476.972</td>\n",
       "      <td>1.757.597</td>\n",
       "      <td>280.625</td>\n",
       "      <td>1.476.972</td>\n",
       "      <td>1.757.597</td>\n",
       "      <td>2021-11-10</td>\n",
       "      <td>NaN</td>\n",
       "      <td>NaN</td>\n",
       "      <td>NaN</td>\n",
       "    </tr>\n",
       "    <tr>\n",
       "      <th>2</th>\n",
       "      <td># 49559</td>\n",
       "      <td># 2580</td>\n",
       "      <td>2021-11-10</td>\n",
       "      <td>2021-11-10</td>\n",
       "      <td>2021-11-10</td>\n",
       "      <td>Alimentos y Bebidas</td>\n",
       "      <td>Alimentos preparados y conservados</td>\n",
       "      <td>Proveedor 3</td>\n",
       "      <td>Usuario solicitante 3</td>\n",
       "      <td>Usuario Aprobador 3</td>\n",
       "      <td>...</td>\n",
       "      <td>NaN</td>\n",
       "      <td>15.500</td>\n",
       "      <td>15.500</td>\n",
       "      <td>0</td>\n",
       "      <td>155.000</td>\n",
       "      <td>155.000</td>\n",
       "      <td>2021-11-10</td>\n",
       "      <td>NaN</td>\n",
       "      <td>NaN</td>\n",
       "      <td>NaN</td>\n",
       "    </tr>\n",
       "    <tr>\n",
       "      <th>3</th>\n",
       "      <td># 49558</td>\n",
       "      <td># 1892</td>\n",
       "      <td>2021-11-10</td>\n",
       "      <td>2021-11-12</td>\n",
       "      <td>2021-11-10</td>\n",
       "      <td>Alimentos y Bebidas</td>\n",
       "      <td>Productos de carne y aves de corral</td>\n",
       "      <td>Proveedor 4</td>\n",
       "      <td>Usuario solicitante 4</td>\n",
       "      <td>Usuario Aprobador 4</td>\n",
       "      <td>...</td>\n",
       "      <td>NaN</td>\n",
       "      <td>22.000</td>\n",
       "      <td>22.000</td>\n",
       "      <td>0</td>\n",
       "      <td>1.100.000</td>\n",
       "      <td>1.100.000</td>\n",
       "      <td>2021-11-10</td>\n",
       "      <td>NaN</td>\n",
       "      <td>NaN</td>\n",
       "      <td>NaN</td>\n",
       "    </tr>\n",
       "    <tr>\n",
       "      <th>4</th>\n",
       "      <td># 49557</td>\n",
       "      <td># 1</td>\n",
       "      <td>2021-11-10</td>\n",
       "      <td>2021-11-09</td>\n",
       "      <td>2021-11-10</td>\n",
       "      <td>Imprenta y litografía</td>\n",
       "      <td>Otra</td>\n",
       "      <td>Proveedor 5</td>\n",
       "      <td>Usuario solicitante 5</td>\n",
       "      <td>Usuario Aprobador 5</td>\n",
       "      <td>...</td>\n",
       "      <td>7.0</td>\n",
       "      <td>92.084</td>\n",
       "      <td>109.580</td>\n",
       "      <td>17.496</td>\n",
       "      <td>644.588</td>\n",
       "      <td>767.060</td>\n",
       "      <td>2021-11-10</td>\n",
       "      <td>NaN</td>\n",
       "      <td>NaN</td>\n",
       "      <td>NaN</td>\n",
       "    </tr>\n",
       "  </tbody>\n",
       "</table>\n",
       "<p>5 rows × 29 columns</p>\n",
       "</div>"
      ],
      "text/plain": [
       "  NÚMERO PEDIDO ORDEN NÚMERO FECHA ORDEN FECHA ENTREGA FECHA APROBACION  \\\n",
       "0       # 49561       # 2582  2021-11-10    2021-11-10       2021-11-10   \n",
       "1       # 49560       # 2581  2021-11-10    2021-11-11       2021-11-10   \n",
       "2       # 49559       # 2580  2021-11-10    2021-11-10       2021-11-10   \n",
       "3       # 49558       # 1892  2021-11-10    2021-11-12       2021-11-10   \n",
       "4       # 49557          # 1  2021-11-10    2021-11-09       2021-11-10   \n",
       "\n",
       "                   CATEGORÍA  \\\n",
       "0  Eléctricos y Electrónicos   \n",
       "1      Mercadeo y publicidad   \n",
       "2        Alimentos y Bebidas   \n",
       "3        Alimentos y Bebidas   \n",
       "4      Imprenta y litografía   \n",
       "\n",
       "                                       SUBCATEGORIA    PROVEEDOR  \\\n",
       "0  Lámparas y bombillas y componentes para lámparas  Proveedor 1   \n",
       "1                                        Publicidad  Proveedor 2   \n",
       "2                Alimentos preparados y conservados  Proveedor 3   \n",
       "3               Productos de carne y aves de corral  Proveedor 4   \n",
       "4                                              Otra  Proveedor 5   \n",
       "\n",
       "                 USUARIO    USUARIO APROBADOR  ... CANTIDAD RECIBIDA  \\\n",
       "0  Usuario solicitante 1  Usuario Aprobador 1  ...               NaN   \n",
       "1  Usuario solicitante 2  Usuario Aprobador 2  ...               1.0   \n",
       "2  Usuario solicitante 3  Usuario Aprobador 3  ...               NaN   \n",
       "3  Usuario solicitante 4  Usuario Aprobador 4  ...               NaN   \n",
       "4  Usuario solicitante 5  Usuario Aprobador 5  ...               7.0   \n",
       "\n",
       "  PRECIO UNITARIO PRECIO UNITARIO + IVA      IVA TOTAL SIN IVA TOTAL + IVA  \\\n",
       "0          23.364                27.803    4.439        46.728      55.606   \n",
       "1       1.476.972             1.757.597  280.625     1.476.972   1.757.597   \n",
       "2          15.500                15.500        0       155.000     155.000   \n",
       "3          22.000                22.000        0     1.100.000   1.100.000   \n",
       "4          92.084               109.580   17.496       644.588     767.060   \n",
       "\n",
       "  FECHA ULTIMO MOVIMIENTO Unnamed: 26  Unnamed: 27  Unnamed: 28  \n",
       "0              2021-11-10         NaN          NaN          NaN  \n",
       "1              2021-11-10         NaN          NaN          NaN  \n",
       "2              2021-11-10         NaN          NaN          NaN  \n",
       "3              2021-11-10         NaN          NaN          NaN  \n",
       "4              2021-11-10         NaN          NaN          NaN  \n",
       "\n",
       "[5 rows x 29 columns]"
      ]
     },
     "execution_count": 3,
     "metadata": {},
     "output_type": "execute_result"
    }
   ],
   "source": [
    "file_name =r'Ordenes de compra PORTAL 1K (datos completo).xlsx'\n",
    "sheet =  'Datos estudio'\n",
    "\n",
    "import pandas as pd\n",
    "data_pro = pd.read_excel(io=file_name, sheet_name=sheet)\n",
    "\n",
    "data_pro.head(5)"
   ]
  },
  {
   "cell_type": "code",
   "execution_count": 4,
   "metadata": {},
   "outputs": [
    {
     "data": {
      "text/plain": [
       "Index(['NÚMERO PEDIDO', 'ORDEN NÚMERO', 'FECHA ORDEN', 'FECHA ENTREGA',\n",
       "       'FECHA APROBACION', 'CATEGORÍA', 'SUBCATEGORIA', 'PROVEEDOR', 'USUARIO',\n",
       "       'USUARIO APROBADOR', 'DIRECCION PEDIDO', 'DIRECCION FACTURACION',\n",
       "       'CENTRO DE COSTOS', 'PRESUPUESTO', 'PORTAL', 'ESTADO',\n",
       "       'PRODUCTO O SERVICIO', 'CODIGO PORTAL', 'CANTIDAD PEDIDA',\n",
       "       'CANTIDAD RECIBIDA', 'PRECIO UNITARIO', 'PRECIO UNITARIO + IVA', 'IVA',\n",
       "       'TOTAL SIN IVA', 'TOTAL + IVA', 'FECHA ULTIMO MOVIMIENTO',\n",
       "       'Unnamed: 26', 'Unnamed: 27', 'Unnamed: 28'],\n",
       "      dtype='object')"
      ]
     },
     "execution_count": 4,
     "metadata": {},
     "output_type": "execute_result"
    }
   ],
   "source": [
    "data_pro.columns"
   ]
  },
  {
   "cell_type": "code",
   "execution_count": 5,
   "metadata": {},
   "outputs": [
    {
     "data": {
      "text/plain": [
       "<AxesSubplot:xlabel='CATEGORÍA'>"
      ]
     },
     "execution_count": 5,
     "metadata": {},
     "output_type": "execute_result"
    },
    {
     "data": {
      "image/png": "[encoded data removed]",
      "text/plain": [
       "<Figure size 432x288 with 1 Axes>"
      ]
     },
     "metadata": {
      "needs_background": "light"
     },
     "output_type": "display_data"
    }
   ],
   "source": [
    "data_pro.groupby(['CATEGORÍA']).size().plot(kind=\"bar\")"
   ]
  },
  {
   "cell_type": "code",
   "execution_count": 6,
   "metadata": {},
   "outputs": [
    {
     "data": {
      "text/plain": [
       "<AxesSubplot:xlabel='ESTADO'>"
      ]
     },
     "execution_count": 6,
     "metadata": {},
     "output_type": "execute_result"
    },
    {
     "data": {
      "image/png": "[encoded data removed]",
      "text/plain": [
       "<Figure size 432x288 with 1 Axes>"
      ]
     },
     "metadata": {
      "needs_background": "light"
     },
     "output_type": "display_data"
    }
   ],
   "source": [
    "data_pro.groupby(['ESTADO']).size().plot(kind=\"bar\")"
   ]
  },
  {
   "cell_type": "code",
   "execution_count": 7,
   "metadata": {},
   "outputs": [
    {
     "data": {
      "text/plain": [
       "<AxesSubplot:xlabel='SUBCATEGORIA'>"
      ]
     },
     "execution_count": 7,
     "metadata": {},
     "output_type": "execute_result"
    },
    {
     "data": {
      "image/png": "[encoded data removed]",
      "text/plain": [
       "<Figure size 432x288 with 1 Axes>"
      ]
     },
     "metadata": {
      "needs_background": "light"
     },
     "output_type": "display_data"
    }
   ],
   "source": [
    "data_pro.groupby(['SUBCATEGORIA']).size().sort_values(ascending=False)[:15].plot(kind=\"bar\")"
   ]
  },
  {
   "cell_type": "code",
   "execution_count": 8,
   "metadata": {},
   "outputs": [
    {
     "data": {
      "text/plain": [
       "<AxesSubplot:xlabel='PROVEEDOR'>"
      ]
     },
     "execution_count": 8,
     "metadata": {},
     "output_type": "execute_result"
    },
    {
     "data": {
      "image/png": "[encoded data removed]",
      "text/plain": [
       "<Figure size 432x288 with 1 Axes>"
      ]
     },
     "metadata": {
      "needs_background": "light"
     },
     "output_type": "display_data"
    }
   ],
   "source": [
    "data_pro.groupby(['PROVEEDOR']).size().sort_values(ascending=False)[:15].plot(kind=\"bar\")"
   ]
  },
  {
   "cell_type": "code",
   "execution_count": 9,
   "metadata": {},
   "outputs": [
    {
     "data": {
      "text/plain": [
       "<AxesSubplot:xlabel='USUARIO'>"
      ]
     },
     "execution_count": 9,
     "metadata": {},
     "output_type": "execute_result"
    },
    {
     "data": {
      "image/png": "[encoded data removed]",
      "text/plain": [
       "<Figure size 432x288 with 1 Axes>"
      ]
     },
     "metadata": {
      "needs_background": "light"
     },
     "output_type": "display_data"
    }
   ],
   "source": [
    "data_pro.groupby(['USUARIO']).size().sort_values(ascending=False)[:15].plot(kind=\"bar\")"
   ]
  },
  {
   "cell_type": "code",
   "execution_count": 10,
   "metadata": {},
   "outputs": [
    {
     "data": {
      "text/plain": [
       "PRODUCTO O SERVICIO\n",
       "6 Bota de seguridad media caña dielectrica con puntera de seguridad        936\n",
       "85 Overol industrial                                                       357\n",
       "7 Botas de caucho con puntera negra caña alta                              266\n",
       "8 Bota pvc de seguridad caña alta, dielectrica con puntera de seguridad    250\n",
       "46 Guantes nitrilo azul no esteriles                                       188\n",
       "30 Lentes de seguridad oscuro                                              181\n",
       "86 Camisa oxfort manga larga                                               169\n",
       "PAPEL BOND 72 g CARTA x 500 H ECOLOGICO NATURAL                            148\n",
       "87 Pantalon jean dotacion                                                  139\n",
       "34 Guantes algodón con cubierta en látex                                   124\n",
       "48 Guantes vaqueta ingeniero reforzado                                     117\n",
       "2 Monogafas contra salpicaduras liquidas y sustancias quimicas             109\n",
       "41 Guantes de caucho corto                                                 105\n",
       "23 Casco de seguridad tipo i industrial                                    103\n",
       "44 Guantes esteriles                                                       102\n",
       "35 Guantes poliester con cubierta látex rugoso                             101\n",
       "4 Bata antifluido                                                          100\n",
       "91 Impermeable 2 piezas                                                     99\n",
       "40 Guantes de caucho largo                                                  98\n",
       "73 Respirador contra material particulado, libre mantenimiento plegable     92\n",
       "dtype: int64"
      ]
     },
     "execution_count": 10,
     "metadata": {},
     "output_type": "execute_result"
    }
   ],
   "source": [
    "data_pro.groupby(['PRODUCTO O SERVICIO']).size().sort_values(ascending=False)[:20]"
   ]
  },
  {
   "cell_type": "code",
   "execution_count": null,
   "metadata": {},
   "outputs": [],
   "source": []
  },
  {
   "cell_type": "code",
   "execution_count": 13,
   "metadata": {},
   "outputs": [
    {
     "name": "stdout",
     "output_type": "stream",
     "text": [
      "Number of stop words: 551\n",
      "First ten stop words: ['un', 'lejos', 'veces', 'estados', 'tarde', 'dia', 'tan', 'diferentes', 'manifestó', 'trabaja', 'consigo', 'intentar', 'vamos', 'todo', 'diferente', 'primeros', 'habían', 'me', 'propio', 'hago']\n"
     ]
    }
   ],
   "source": [
    "#Stop words\n",
    "#importing stop words from English language.\n",
    "import spacy\n",
    "import spacy.lang.es\n",
    "spacy_stopwords = spacy.lang.es.stop_words.STOP_WORDS\n",
    "\n",
    "#Printing the total number of stop words:\n",
    "print('Number of stop words: %d' % len(spacy_stopwords))\n",
    "\n",
    "#Printing first ten stop words:\n",
    "print('First ten stop words: %s' % list(spacy_stopwords)[:20])"
   ]
  },
  {
   "cell_type": "code",
   "execution_count": 14,
   "metadata": {},
   "outputs": [],
   "source": [
    "import pandas as pd\n",
    "from sklearn.feature_extraction.text import CountVectorizer,TfidfVectorizer\n",
    "from sklearn.base import TransformerMixin\n",
    "from sklearn.pipeline import Pipeline"
   ]
  },
  {
   "cell_type": "code",
   "execution_count": 15,
   "metadata": {},
   "outputs": [
    {
     "name": "stdout",
     "output_type": "stream",
     "text": [
      "<class 'pandas.core.frame.DataFrame'>\n",
      "RangeIndex: 23083 entries, 0 to 23082\n",
      "Data columns (total 29 columns):\n",
      " #   Column                   Non-Null Count  Dtype  \n",
      "---  ------                   --------------  -----  \n",
      " 0   NÚMERO PEDIDO            23083 non-null  object \n",
      " 1   ORDEN NÚMERO             23083 non-null  object \n",
      " 2   FECHA ORDEN              23083 non-null  object \n",
      " 3   FECHA ENTREGA            18770 non-null  object \n",
      " 4   FECHA APROBACION         21950 non-null  object \n",
      " 5   CATEGORÍA                23083 non-null  object \n",
      " 6   SUBCATEGORIA             23083 non-null  object \n",
      " 7   PROVEEDOR                23083 non-null  object \n",
      " 8   USUARIO                  23083 non-null  object \n",
      " 9   USUARIO APROBADOR        21950 non-null  object \n",
      " 10  DIRECCION PEDIDO         23083 non-null  object \n",
      " 11  DIRECCION FACTURACION    10828 non-null  object \n",
      " 12  CENTRO DE COSTOS         16672 non-null  object \n",
      " 13  PRESUPUESTO              18581 non-null  object \n",
      " 14  PORTAL                   23083 non-null  object \n",
      " 15  ESTADO                   23083 non-null  object \n",
      " 16  PRODUCTO O SERVICIO      23083 non-null  object \n",
      " 17  CODIGO PORTAL            18223 non-null  object \n",
      " 18  CANTIDAD PEDIDA          23083 non-null  float64\n",
      " 19  CANTIDAD RECIBIDA        16013 non-null  float64\n",
      " 20  PRECIO UNITARIO          23083 non-null  object \n",
      " 21  PRECIO UNITARIO + IVA    23083 non-null  object \n",
      " 22  IVA                      23083 non-null  object \n",
      " 23  TOTAL SIN IVA            23083 non-null  object \n",
      " 24  TOTAL + IVA              23083 non-null  object \n",
      " 25  FECHA ULTIMO MOVIMIENTO  23083 non-null  object \n",
      " 26  Unnamed: 26              0 non-null      float64\n",
      " 27  Unnamed: 27              0 non-null      float64\n",
      " 28  Unnamed: 28              11 non-null     object \n",
      "dtypes: float64(4), object(25)\n",
      "memory usage: 5.1+ MB\n"
     ]
    }
   ],
   "source": [
    "data_pro.info()"
   ]
  },
  {
   "cell_type": "code",
   "execution_count": 16,
   "metadata": {},
   "outputs": [
    {
     "data": {
      "text/plain": [
       "Seguridad y protección personal                    6733\n",
       "Alimentos preparados y conservados                 2243\n",
       "Elementos de aseo y limpieza                       1997\n",
       "Elementos de papelería                             1618\n",
       "Bebidas                                            1328\n",
       "                                                   ... \n",
       "Calefacción, ventilación y circulación del aire       1\n",
       "Medios impresos                                       1\n",
       "Almacenaje                                            1\n",
       "Generación de energía                                 1\n",
       "Rodamientos, cojinetes ruedas y engranajes            1\n",
       "Name: SUBCATEGORIA, Length: 149, dtype: int64"
      ]
     },
     "execution_count": 16,
     "metadata": {},
     "output_type": "execute_result"
    }
   ],
   "source": [
    "data_pro.SUBCATEGORIA.value_counts()\n"
   ]
  },
  {
   "cell_type": "code",
   "execution_count": 17,
   "metadata": {},
   "outputs": [],
   "source": [
    "# Load English tokenizer, tagger, parser, NER and word vectors\n",
    "import string\n",
    "\n",
    "parser =spacy.load(\"es_core_news_sm\")\n",
    "punctuations = string.punctuation\n",
    "\n",
    "\n",
    "# Creating our tokenizer function\n",
    "def spacy_tokenizer(sentence):\n",
    "    # Creating our token object, which is used to create documents with linguistic annotations.\n",
    "    mytokens = parser(sentence)\n",
    "\n",
    "    # Lemmatizing each token and converting each token into lowercase\n",
    "    mytokens = [ word.lemma_.lower().strip() if word.lemma_ != \"-PRON-\" else word.lower_ for word in mytokens ]\n",
    "\n",
    "    # Removing stop words\n",
    "    mytokens = [ word for word in mytokens if word not in stop_words and word not in punctuations ]\n",
    "\n",
    "    # return preprocessed list of tokens\n",
    "    return mytokens"
   ]
  },
  {
   "cell_type": "code",
   "execution_count": 18,
   "metadata": {},
   "outputs": [],
   "source": [
    "# Custom transformer using spaCy\n",
    "class predictors(TransformerMixin):\n",
    "    def transform(self, X, **transform_params):\n",
    "        # Cleaning Text\n",
    "        return [clean_text(text) for text in X]\n",
    "\n",
    "    def fit(self, X, y=None, **fit_params):\n",
    "        return self\n",
    "\n",
    "    def get_params(self, deep=True):\n",
    "        return {}\n",
    "\n",
    "# Basic function to clean the text\n",
    "def clean_text(text):\n",
    "    # Removing spaces and converting text into lowercase\n",
    "    return text.strip().lower()"
   ]
  },
  {
   "cell_type": "code",
   "execution_count": 19,
   "metadata": {},
   "outputs": [],
   "source": [
    "bow_vector = CountVectorizer(tokenizer = spacy_tokenizer, ngram_range=(1,1))\n"
   ]
  },
  {
   "cell_type": "code",
   "execution_count": 20,
   "metadata": {},
   "outputs": [],
   "source": [
    "tfidf_vector = TfidfVectorizer(tokenizer = spacy_tokenizer)\n"
   ]
  },
  {
   "cell_type": "code",
   "execution_count": 21,
   "metadata": {},
   "outputs": [],
   "source": [
    "from sklearn.model_selection import train_test_split\n",
    "\n",
    "X = data_pro['PRODUCTO O SERVICIO'] # the features we want to analyze\n",
    "ylabels = data_pro.SUBCATEGORIA # the labels, or answers, we want to test against\n",
    "\n",
    "X_train, X_test, y_train, y_test = train_test_split(X, ylabels, test_size=0.3)"
   ]
  },
  {
   "cell_type": "code",
   "execution_count": 25,
   "metadata": {},
   "outputs": [
    {
     "data": {
      "text/plain": [
       "Pipeline(steps=[('cleaner', <__main__.predictors object at 0x000002A7F1D02FA0>),\n",
       "                ('vectorizer',\n",
       "                 CountVectorizer(tokenizer=<function spacy_tokenizer at 0x000002A7F087D5E0>)),\n",
       "                ('classifier', LogisticRegression())])"
      ]
     },
     "execution_count": 25,
     "metadata": {},
     "output_type": "execute_result"
    }
   ],
   "source": [
    "from spacy.lang.en.stop_words import STOP_WORDS\n",
    "from sklearn.linear_model import LogisticRegression\n",
    "stop_words = spacy.lang.es.stop_words.STOP_WORDS\n",
    "\n",
    "classifier = LogisticRegression()\n",
    "\n",
    "# Create pipeline using Bag of Words\n",
    "pipe = Pipeline([(\"cleaner\", predictors()),\n",
    "                 ('vectorizer', bow_vector),\n",
    "                 ('classifier', classifier)])\n",
    "\n",
    "# model generation\n",
    "pipe.fit(X_train,y_train)"
   ]
  },
  {
   "cell_type": "code",
   "execution_count": 26,
   "metadata": {},
   "outputs": [
    {
     "name": "stdout",
     "output_type": "stream",
     "text": [
      "Logistic Regression Accuracy: 0.9484476534296029\n",
      "Logistic Regression Precision: 0.9484476534296029\n",
      "Logistic Regression Recall: 0.9484476534296029\n"
     ]
    }
   ],
   "source": [
    "from sklearn import metrics\n",
    "# Predicting with a test dataset\n",
    "predicted = pipe.predict(X_test)\n",
    "\n",
    "# Model Accuracy\n",
    "print(\"Logistic Regression Accuracy:\",metrics.accuracy_score(y_test, predicted))\n",
    "print(\"Logistic Regression Precision:\",metrics.precision_score(y_test, predicted, average='micro'))\n",
    "print(\"Logistic Regression Recall:\",metrics.recall_score(y_test, predicted, average='micro' ))"
   ]
  },
  {
   "cell_type": "code",
   "execution_count": 28,
   "metadata": {},
   "outputs": [
    {
     "data": {
      "text/html": [
       "<div>\n",
       "<style scoped>\n",
       "    .dataframe tbody tr th:only-of-type {\n",
       "        vertical-align: middle;\n",
       "    }\n",
       "\n",
       "    .dataframe tbody tr th {\n",
       "        vertical-align: top;\n",
       "    }\n",
       "\n",
       "    .dataframe thead th {\n",
       "        text-align: right;\n",
       "    }\n",
       "</style>\n",
       "<table border=\"1\" class=\"dataframe\">\n",
       "  <thead>\n",
       "    <tr style=\"text-align: right;\">\n",
       "      <th></th>\n",
       "      <th>predicted</th>\n",
       "      <th>actual</th>\n",
       "      <th>result</th>\n",
       "    </tr>\n",
       "  </thead>\n",
       "  <tbody>\n",
       "    <tr>\n",
       "      <th>4706</th>\n",
       "      <td>Seguridad y protección personal</td>\n",
       "      <td>Elementos de protección personal</td>\n",
       "      <td>0</td>\n",
       "    </tr>\n",
       "    <tr>\n",
       "      <th>6440</th>\n",
       "      <td>Herramientas y maquinaria</td>\n",
       "      <td>Plomería</td>\n",
       "      <td>0</td>\n",
       "    </tr>\n",
       "    <tr>\n",
       "      <th>976</th>\n",
       "      <td>Bonos promocionales</td>\n",
       "      <td>Materiales de papel</td>\n",
       "      <td>0</td>\n",
       "    </tr>\n",
       "    <tr>\n",
       "      <th>1822</th>\n",
       "      <td>Seguridad y protección personal</td>\n",
       "      <td>Elementos de protección personal</td>\n",
       "      <td>0</td>\n",
       "    </tr>\n",
       "    <tr>\n",
       "      <th>21861</th>\n",
       "      <td>Otra</td>\n",
       "      <td>Elementos de papelería</td>\n",
       "      <td>0</td>\n",
       "    </tr>\n",
       "    <tr>\n",
       "      <th>22792</th>\n",
       "      <td>Herramientas y maquinaria</td>\n",
       "      <td>Elementos de papelería</td>\n",
       "      <td>0</td>\n",
       "    </tr>\n",
       "    <tr>\n",
       "      <th>10457</th>\n",
       "      <td>Camisas y camisetas</td>\n",
       "      <td>Prendas uniformes</td>\n",
       "      <td>0</td>\n",
       "    </tr>\n",
       "    <tr>\n",
       "      <th>9570</th>\n",
       "      <td>Elementos de aseo y limpieza</td>\n",
       "      <td>Productos lácteos y huevos</td>\n",
       "      <td>0</td>\n",
       "    </tr>\n",
       "    <tr>\n",
       "      <th>3937</th>\n",
       "      <td>Empaques, glándulas, fundas y cubiertas</td>\n",
       "      <td>Elementos de bioseguridad</td>\n",
       "      <td>0</td>\n",
       "    </tr>\n",
       "    <tr>\n",
       "      <th>22953</th>\n",
       "      <td>Seguridad y protección personal</td>\n",
       "      <td>Accesorios de control de automatización</td>\n",
       "      <td>0</td>\n",
       "    </tr>\n",
       "    <tr>\n",
       "      <th>22492</th>\n",
       "      <td>Elementos de papelería</td>\n",
       "      <td>Ferretería</td>\n",
       "      <td>0</td>\n",
       "    </tr>\n",
       "    <tr>\n",
       "      <th>2899</th>\n",
       "      <td>Alimentos preparados y conservados</td>\n",
       "      <td>Servicios legales</td>\n",
       "      <td>0</td>\n",
       "    </tr>\n",
       "    <tr>\n",
       "      <th>9351</th>\n",
       "      <td>Herramientas y maquinaria</td>\n",
       "      <td>Dispositivos médicos</td>\n",
       "      <td>0</td>\n",
       "    </tr>\n",
       "    <tr>\n",
       "      <th>1143</th>\n",
       "      <td>Alimentos preparados y conservados</td>\n",
       "      <td>Dispositivos de comunicaciones y accesorios</td>\n",
       "      <td>0</td>\n",
       "    </tr>\n",
       "    <tr>\n",
       "      <th>21934</th>\n",
       "      <td>Alimentos preparados y conservados</td>\n",
       "      <td>Extrusiones</td>\n",
       "      <td>0</td>\n",
       "    </tr>\n",
       "    <tr>\n",
       "      <th>3087</th>\n",
       "      <td>Tornillería</td>\n",
       "      <td>Herramientas y maquinaria</td>\n",
       "      <td>0</td>\n",
       "    </tr>\n",
       "    <tr>\n",
       "      <th>7772</th>\n",
       "      <td>Seguridad y protección personal</td>\n",
       "      <td>Prendas uniformes</td>\n",
       "      <td>0</td>\n",
       "    </tr>\n",
       "    <tr>\n",
       "      <th>1196</th>\n",
       "      <td>Publicidad</td>\n",
       "      <td>Asesoría y consultoría en producción y logística</td>\n",
       "      <td>0</td>\n",
       "    </tr>\n",
       "    <tr>\n",
       "      <th>34</th>\n",
       "      <td>Publicidad</td>\n",
       "      <td>Asesoría y consultoría en producción y logística</td>\n",
       "      <td>0</td>\n",
       "    </tr>\n",
       "    <tr>\n",
       "      <th>9266</th>\n",
       "      <td>Elementos de aseo y limpieza</td>\n",
       "      <td>Dispositivos médicos</td>\n",
       "      <td>0</td>\n",
       "    </tr>\n",
       "  </tbody>\n",
       "</table>\n",
       "</div>"
      ],
      "text/plain": [
       "                                     predicted  \\\n",
       "4706           Seguridad y protección personal   \n",
       "6440                 Herramientas y maquinaria   \n",
       "976                        Bonos promocionales   \n",
       "1822           Seguridad y protección personal   \n",
       "21861                                     Otra   \n",
       "22792                Herramientas y maquinaria   \n",
       "10457                      Camisas y camisetas   \n",
       "9570              Elementos de aseo y limpieza   \n",
       "3937   Empaques, glándulas, fundas y cubiertas   \n",
       "22953          Seguridad y protección personal   \n",
       "22492                   Elementos de papelería   \n",
       "2899        Alimentos preparados y conservados   \n",
       "9351                 Herramientas y maquinaria   \n",
       "1143        Alimentos preparados y conservados   \n",
       "21934       Alimentos preparados y conservados   \n",
       "3087                               Tornillería   \n",
       "7772           Seguridad y protección personal   \n",
       "1196                                Publicidad   \n",
       "34                                  Publicidad   \n",
       "9266              Elementos de aseo y limpieza   \n",
       "\n",
       "                                                 actual  result  \n",
       "4706                   Elementos de protección personal       0  \n",
       "6440                                           Plomería       0  \n",
       "976                                 Materiales de papel       0  \n",
       "1822                   Elementos de protección personal       0  \n",
       "21861                            Elementos de papelería       0  \n",
       "22792                            Elementos de papelería       0  \n",
       "10457                                 Prendas uniformes       0  \n",
       "9570                         Productos lácteos y huevos       0  \n",
       "3937                          Elementos de bioseguridad       0  \n",
       "22953           Accesorios de control de automatización       0  \n",
       "22492                                        Ferretería       0  \n",
       "2899                                  Servicios legales       0  \n",
       "9351                               Dispositivos médicos       0  \n",
       "1143        Dispositivos de comunicaciones y accesorios       0  \n",
       "21934                                       Extrusiones       0  \n",
       "3087                          Herramientas y maquinaria       0  \n",
       "7772                                  Prendas uniformes       0  \n",
       "1196   Asesoría y consultoría en producción y logística       0  \n",
       "34     Asesoría y consultoría en producción y logística       0  \n",
       "9266                               Dispositivos médicos       0  "
      ]
     },
     "execution_count": 28,
     "metadata": {},
     "output_type": "execute_result"
    }
   ],
   "source": [
    "import numpy as np\n",
    "results = pd.DataFrame(data={'predicted': predicted, 'actual': y_test})\n",
    "results['result'] = np.where(results['predicted']==results['actual'], 1, 0)\n",
    "results.sort_values(by='result').head(20)"
   ]
  },
  {
   "cell_type": "code",
   "execution_count": 29,
   "metadata": {},
   "outputs": [
    {
     "data": {
      "text/plain": [
       "result\n",
       "0     357\n",
       "1    6568\n",
       "dtype: int64"
      ]
     },
     "execution_count": 29,
     "metadata": {},
     "output_type": "execute_result"
    }
   ],
   "source": [
    "results.groupby(['result']).size()"
   ]
  },
  {
   "cell_type": "code",
   "execution_count": 30,
   "metadata": {},
   "outputs": [
    {
     "data": {
      "text/html": [
       "<div>\n",
       "<style scoped>\n",
       "    .dataframe tbody tr th:only-of-type {\n",
       "        vertical-align: middle;\n",
       "    }\n",
       "\n",
       "    .dataframe tbody tr th {\n",
       "        vertical-align: top;\n",
       "    }\n",
       "\n",
       "    .dataframe thead th {\n",
       "        text-align: right;\n",
       "    }\n",
       "</style>\n",
       "<table border=\"1\" class=\"dataframe\">\n",
       "  <thead>\n",
       "    <tr style=\"text-align: right;\">\n",
       "      <th></th>\n",
       "      <th>predicted</th>\n",
       "      <th>actual</th>\n",
       "      <th>result</th>\n",
       "      <th>PRODUCTO O SERVICIO</th>\n",
       "    </tr>\n",
       "  </thead>\n",
       "  <tbody>\n",
       "    <tr>\n",
       "      <th>4706</th>\n",
       "      <td>Seguridad y protección personal</td>\n",
       "      <td>Elementos de protección personal</td>\n",
       "      <td>0</td>\n",
       "      <td>GUANTE PROTECCION AL CORTE NARA INOX</td>\n",
       "    </tr>\n",
       "    <tr>\n",
       "      <th>6440</th>\n",
       "      <td>Herramientas y maquinaria</td>\n",
       "      <td>Plomería</td>\n",
       "      <td>0</td>\n",
       "      <td>SOLDADURA PVC DE 1/8</td>\n",
       "    </tr>\n",
       "    <tr>\n",
       "      <th>976</th>\n",
       "      <td>Bonos promocionales</td>\n",
       "      <td>Materiales de papel</td>\n",
       "      <td>0</td>\n",
       "      <td>Tarjeta Posventa</td>\n",
       "    </tr>\n",
       "    <tr>\n",
       "      <th>1822</th>\n",
       "      <td>Seguridad y protección personal</td>\n",
       "      <td>Elementos de protección personal</td>\n",
       "      <td>0</td>\n",
       "      <td>CARETA FOTOSENSIBLE DELTA</td>\n",
       "    </tr>\n",
       "    <tr>\n",
       "      <th>21861</th>\n",
       "      <td>Otra</td>\n",
       "      <td>Elementos de papelería</td>\n",
       "      <td>0</td>\n",
       "      <td>5000018 CINTA DE ENMASCARAR 1/2\"(12MM)</td>\n",
       "    </tr>\n",
       "    <tr>\n",
       "      <th>22792</th>\n",
       "      <td>Herramientas y maquinaria</td>\n",
       "      <td>Elementos de papelería</td>\n",
       "      <td>0</td>\n",
       "      <td>7770640 ACONDICIONADOR DE BANDAS - CORREAS \"CR...</td>\n",
       "    </tr>\n",
       "    <tr>\n",
       "      <th>10457</th>\n",
       "      <td>Camisas y camisetas</td>\n",
       "      <td>Prendas uniformes</td>\n",
       "      <td>0</td>\n",
       "      <td>CAMISA EN DRIL</td>\n",
       "    </tr>\n",
       "    <tr>\n",
       "      <th>9570</th>\n",
       "      <td>Elementos de aseo y limpieza</td>\n",
       "      <td>Productos lácteos y huevos</td>\n",
       "      <td>0</td>\n",
       "      <td>LECHE ENTERA PAST.* 1000 cc</td>\n",
       "    </tr>\n",
       "    <tr>\n",
       "      <th>3937</th>\n",
       "      <td>Empaques, glándulas, fundas y cubiertas</td>\n",
       "      <td>Elementos de bioseguridad</td>\n",
       "      <td>0</td>\n",
       "      <td>GUANTE  NITRISHIELD NITRILO PREMIUM 6 MIL  12\"...</td>\n",
       "    </tr>\n",
       "    <tr>\n",
       "      <th>22953</th>\n",
       "      <td>Seguridad y protección personal</td>\n",
       "      <td>Accesorios de control de automatización</td>\n",
       "      <td>0</td>\n",
       "      <td>S777703 BORNERA TIPO RESORTE PARA TIERRA</td>\n",
       "    </tr>\n",
       "    <tr>\n",
       "      <th>22492</th>\n",
       "      <td>Elementos de papelería</td>\n",
       "      <td>Ferretería</td>\n",
       "      <td>0</td>\n",
       "      <td>7772305 ANTICORROSIVO ROJO</td>\n",
       "    </tr>\n",
       "    <tr>\n",
       "      <th>2899</th>\n",
       "      <td>Alimentos preparados y conservados</td>\n",
       "      <td>Servicios legales</td>\n",
       "      <td>0</td>\n",
       "      <td>Honorarios Por Asistencia Jurídica</td>\n",
       "    </tr>\n",
       "    <tr>\n",
       "      <th>9351</th>\n",
       "      <td>Herramientas y maquinaria</td>\n",
       "      <td>Dispositivos médicos</td>\n",
       "      <td>0</td>\n",
       "      <td>MICROPORE INDI PIEL 1/2</td>\n",
       "    </tr>\n",
       "    <tr>\n",
       "      <th>1143</th>\n",
       "      <td>Alimentos preparados y conservados</td>\n",
       "      <td>Dispositivos de comunicaciones y accesorios</td>\n",
       "      <td>0</td>\n",
       "      <td>SWITCHE TP-LINK 8PTOS 100/1000</td>\n",
       "    </tr>\n",
       "    <tr>\n",
       "      <th>21934</th>\n",
       "      <td>Alimentos preparados y conservados</td>\n",
       "      <td>Extrusiones</td>\n",
       "      <td>0</td>\n",
       "      <td>7772400 ESTOPA</td>\n",
       "    </tr>\n",
       "    <tr>\n",
       "      <th>3087</th>\n",
       "      <td>Tornillería</td>\n",
       "      <td>Herramientas y maquinaria</td>\n",
       "      <td>0</td>\n",
       "      <td>TUERCA 8 MM P 1.25 FLANGE</td>\n",
       "    </tr>\n",
       "    <tr>\n",
       "      <th>7772</th>\n",
       "      <td>Seguridad y protección personal</td>\n",
       "      <td>Prendas uniformes</td>\n",
       "      <td>0</td>\n",
       "      <td>Conjunto Antifluido</td>\n",
       "    </tr>\n",
       "    <tr>\n",
       "      <th>1196</th>\n",
       "      <td>Publicidad</td>\n",
       "      <td>Asesoría y consultoría en producción y logística</td>\n",
       "      <td>0</td>\n",
       "      <td>ASESORIA DIGITAL</td>\n",
       "    </tr>\n",
       "    <tr>\n",
       "      <th>34</th>\n",
       "      <td>Publicidad</td>\n",
       "      <td>Asesoría y consultoría en producción y logística</td>\n",
       "      <td>0</td>\n",
       "      <td>ASESORIA DIGITAL</td>\n",
       "    </tr>\n",
       "    <tr>\n",
       "      <th>9266</th>\n",
       "      <td>Elementos de aseo y limpieza</td>\n",
       "      <td>Dispositivos médicos</td>\n",
       "      <td>0</td>\n",
       "      <td>YODOPOVINA JABON 120 ML</td>\n",
       "    </tr>\n",
       "  </tbody>\n",
       "</table>\n",
       "</div>"
      ],
      "text/plain": [
       "                                     predicted  \\\n",
       "4706           Seguridad y protección personal   \n",
       "6440                 Herramientas y maquinaria   \n",
       "976                        Bonos promocionales   \n",
       "1822           Seguridad y protección personal   \n",
       "21861                                     Otra   \n",
       "22792                Herramientas y maquinaria   \n",
       "10457                      Camisas y camisetas   \n",
       "9570              Elementos de aseo y limpieza   \n",
       "3937   Empaques, glándulas, fundas y cubiertas   \n",
       "22953          Seguridad y protección personal   \n",
       "22492                   Elementos de papelería   \n",
       "2899        Alimentos preparados y conservados   \n",
       "9351                 Herramientas y maquinaria   \n",
       "1143        Alimentos preparados y conservados   \n",
       "21934       Alimentos preparados y conservados   \n",
       "3087                               Tornillería   \n",
       "7772           Seguridad y protección personal   \n",
       "1196                                Publicidad   \n",
       "34                                  Publicidad   \n",
       "9266              Elementos de aseo y limpieza   \n",
       "\n",
       "                                                 actual  result  \\\n",
       "4706                   Elementos de protección personal       0   \n",
       "6440                                           Plomería       0   \n",
       "976                                 Materiales de papel       0   \n",
       "1822                   Elementos de protección personal       0   \n",
       "21861                            Elementos de papelería       0   \n",
       "22792                            Elementos de papelería       0   \n",
       "10457                                 Prendas uniformes       0   \n",
       "9570                         Productos lácteos y huevos       0   \n",
       "3937                          Elementos de bioseguridad       0   \n",
       "22953           Accesorios de control de automatización       0   \n",
       "22492                                        Ferretería       0   \n",
       "2899                                  Servicios legales       0   \n",
       "9351                               Dispositivos médicos       0   \n",
       "1143        Dispositivos de comunicaciones y accesorios       0   \n",
       "21934                                       Extrusiones       0   \n",
       "3087                          Herramientas y maquinaria       0   \n",
       "7772                                  Prendas uniformes       0   \n",
       "1196   Asesoría y consultoría en producción y logística       0   \n",
       "34     Asesoría y consultoría en producción y logística       0   \n",
       "9266                               Dispositivos médicos       0   \n",
       "\n",
       "                                     PRODUCTO O SERVICIO  \n",
       "4706               GUANTE PROTECCION AL CORTE NARA INOX   \n",
       "6440                                SOLDADURA PVC DE 1/8  \n",
       "976                                     Tarjeta Posventa  \n",
       "1822                           CARETA FOTOSENSIBLE DELTA  \n",
       "21861             5000018 CINTA DE ENMASCARAR 1/2\"(12MM)  \n",
       "22792  7770640 ACONDICIONADOR DE BANDAS - CORREAS \"CR...  \n",
       "10457                                    CAMISA EN DRIL   \n",
       "9570                         LECHE ENTERA PAST.* 1000 cc  \n",
       "3937   GUANTE  NITRISHIELD NITRILO PREMIUM 6 MIL  12\"...  \n",
       "22953           S777703 BORNERA TIPO RESORTE PARA TIERRA  \n",
       "22492                         7772305 ANTICORROSIVO ROJO  \n",
       "2899                  Honorarios Por Asistencia Jurídica  \n",
       "9351                             MICROPORE INDI PIEL 1/2  \n",
       "1143                      SWITCHE TP-LINK 8PTOS 100/1000  \n",
       "21934                                     7772400 ESTOPA  \n",
       "3087                           TUERCA 8 MM P 1.25 FLANGE  \n",
       "7772                                Conjunto Antifluido   \n",
       "1196                                   ASESORIA DIGITAL   \n",
       "34                                     ASESORIA DIGITAL   \n",
       "9266                             YODOPOVINA JABON 120 ML  "
      ]
     },
     "execution_count": 30,
     "metadata": {},
     "output_type": "execute_result"
    }
   ],
   "source": [
    "results.join(data_pro['PRODUCTO O SERVICIO']).sort_values(by='result').head(20)"
   ]
  },
  {
   "cell_type": "code",
   "execution_count": 31,
   "metadata": {},
   "outputs": [
    {
     "data": {
      "text/html": [
       "<span class=\"tex2jax_ignore\"><div class=\"entities\" style=\"line-height: 2.5; direction: ltr\">\n",
       "<mark class=\"entity\" style=\"background: #ddd; padding: 0.45em 0.6em; margin: 0 0.25em; line-height: 1; border-radius: 0.35em;\">\n",
       "    PANEL LED SOBREPONER 24W\n",
       "    <span style=\"font-size: 0.8em; font-weight: bold; line-height: 1; border-radius: 0.35em; vertical-align: middle; margin-left: 0.5rem\">MISC</span>\n",
       "</mark>\n",
       " REDONDO LUZ BLANCA </div></span>"
      ],
      "text/plain": [
       "<IPython.core.display.HTML object>"
      ]
     },
     "metadata": {},
     "output_type": "display_data"
    },
    {
     "data": {
      "text/html": [
       "<span class=\"tex2jax_ignore\"><div class=\"entities\" style=\"line-height: 2.5; direction: ltr\">ACTIVIDADES \n",
       "<mark class=\"entity\" style=\"background: #ddd; padding: 0.45em 0.6em; margin: 0 0.25em; line-height: 1; border-radius: 0.35em;\">\n",
       "    COMERCIALES\n",
       "    <span style=\"font-size: 0.8em; font-weight: bold; line-height: 1; border-radius: 0.35em; vertical-align: middle; margin-left: 0.5rem\">MISC</span>\n",
       "</mark>\n",
       "</div></span>"
      ],
      "text/plain": [
       "<IPython.core.display.HTML object>"
      ]
     },
     "metadata": {},
     "output_type": "display_data"
    },
    {
     "name": "stderr",
     "output_type": "stream",
     "text": [
      "C:\\Users\\KeyssiArroyo\\AppData\\Local\\Programs\\Python\\Python39\\lib\\site-packages\\spacy\\displacy\\__init__.py:192: UserWarning: [W006] No entities to visualize found in Doc object. If this is surprising to you, make sure the Doc was processed using a model that supports named entity recognition, and check the `doc.ents` property manually if necessary.\n",
      "  warnings.warn(Warnings.W006)\n"
     ]
    },
    {
     "data": {
      "text/html": [
       "<span class=\"tex2jax_ignore\"><div class=\"entities\" style=\"line-height: 2.5; direction: ltr\">Lasagna</div></span>"
      ],
      "text/plain": [
       "<IPython.core.display.HTML object>"
      ]
     },
     "metadata": {},
     "output_type": "display_data"
    },
    {
     "data": {
      "text/html": [
       "<span class=\"tex2jax_ignore\"><div class=\"entities\" style=\"line-height: 2.5; direction: ltr\">\n",
       "<mark class=\"entity\" style=\"background: #ddd; padding: 0.45em 0.6em; margin: 0 0.25em; line-height: 1; border-radius: 0.35em;\">\n",
       "    Pecho de Res Limpio\n",
       "    <span style=\"font-size: 0.8em; font-weight: bold; line-height: 1; border-radius: 0.35em; vertical-align: middle; margin-left: 0.5rem\">PER</span>\n",
       "</mark>\n",
       "/\n",
       "<mark class=\"entity\" style=\"background: #ddd; padding: 0.45em 0.6em; margin: 0 0.25em; line-height: 1; border-radius: 0.35em;\">\n",
       "    Sin Grasa\n",
       "    <span style=\"font-size: 0.8em; font-weight: bold; line-height: 1; border-radius: 0.35em; vertical-align: middle; margin-left: 0.5rem\">PER</span>\n",
       "</mark>\n",
       "</div></span>"
      ],
      "text/plain": [
       "<IPython.core.display.HTML object>"
      ]
     },
     "metadata": {},
     "output_type": "display_data"
    },
    {
     "data": {
      "text/html": [
       "<span class=\"tex2jax_ignore\"><div class=\"entities\" style=\"line-height: 2.5; direction: ltr\">LIBRO \n",
       "<mark class=\"entity\" style=\"background: #7aecec; padding: 0.45em 0.6em; margin: 0 0.25em; line-height: 1; border-radius: 0.35em;\">\n",
       "    CABEZA\n",
       "    <span style=\"font-size: 0.8em; font-weight: bold; line-height: 1; border-radius: 0.35em; vertical-align: middle; margin-left: 0.5rem\">ORG</span>\n",
       "</mark>\n",
       ", \n",
       "<mark class=\"entity\" style=\"background: #7aecec; padding: 0.45em 0.6em; margin: 0 0.25em; line-height: 1; border-radius: 0.35em;\">\n",
       "    CORAZON\n",
       "    <span style=\"font-size: 0.8em; font-weight: bold; line-height: 1; border-radius: 0.35em; vertical-align: middle; margin-left: 0.5rem\">ORG</span>\n",
       "</mark>\n",
       " Y MANOS</div></span>"
      ],
      "text/plain": [
       "<IPython.core.display.HTML object>"
      ]
     },
     "metadata": {},
     "output_type": "display_data"
    },
    {
     "data": {
      "text/html": [
       "<span class=\"tex2jax_ignore\"><div class=\"entities\" style=\"line-height: 2.5; direction: ltr\">Recoleccion de residuos ordinarios</div></span>"
      ],
      "text/plain": [
       "<IPython.core.display.HTML object>"
      ]
     },
     "metadata": {},
     "output_type": "display_data"
    },
    {
     "data": {
      "text/html": [
       "<span class=\"tex2jax_ignore\"><div class=\"entities\" style=\"line-height: 2.5; direction: ltr\">\n",
       "<mark class=\"entity\" style=\"background: #ddd; padding: 0.45em 0.6em; margin: 0 0.25em; line-height: 1; border-radius: 0.35em;\">\n",
       "    Recolección de residuos Peligrosos\n",
       "    <span style=\"font-size: 0.8em; font-weight: bold; line-height: 1; border-radius: 0.35em; vertical-align: middle; margin-left: 0.5rem\">MISC</span>\n",
       "</mark>\n",
       "</div></span>"
      ],
      "text/plain": [
       "<IPython.core.display.HTML object>"
      ]
     },
     "metadata": {},
     "output_type": "display_data"
    },
    {
     "data": {
      "text/html": [
       "<span class=\"tex2jax_ignore\"><div class=\"entities\" style=\"line-height: 2.5; direction: ltr\">Publicidad en ascensores de unidades residenciales</div></span>"
      ],
      "text/plain": [
       "<IPython.core.display.HTML object>"
      ]
     },
     "metadata": {},
     "output_type": "display_data"
    },
    {
     "data": {
      "text/html": [
       "<span class=\"tex2jax_ignore\"><div class=\"entities\" style=\"line-height: 2.5; direction: ltr\">Coordinación de \n",
       "<mark class=\"entity\" style=\"background: #ddd; padding: 0.45em 0.6em; margin: 0 0.25em; line-height: 1; border-radius: 0.35em;\">\n",
       "    Eventos\n",
       "    <span style=\"font-size: 0.8em; font-weight: bold; line-height: 1; border-radius: 0.35em; vertical-align: middle; margin-left: 0.5rem\">PER</span>\n",
       "</mark>\n",
       "</div></span>"
      ],
      "text/plain": [
       "<IPython.core.display.HTML object>"
      ]
     },
     "metadata": {},
     "output_type": "display_data"
    },
    {
     "data": {
      "text/html": [
       "<span class=\"tex2jax_ignore\"><div class=\"entities\" style=\"line-height: 2.5; direction: ltr\">\n",
       "<mark class=\"entity\" style=\"background: #ddd; padding: 0.45em 0.6em; margin: 0 0.25em; line-height: 1; border-radius: 0.35em;\">\n",
       "    DISOLVENTE D-807\n",
       "    <span style=\"font-size: 0.8em; font-weight: bold; line-height: 1; border-radius: 0.35em; vertical-align: middle; margin-left: 0.5rem\">MISC</span>\n",
       "</mark>\n",
       "</div></span>"
      ],
      "text/plain": [
       "<IPython.core.display.HTML object>"
      ]
     },
     "metadata": {},
     "output_type": "display_data"
    }
   ],
   "source": [
    "import spacy\n",
    "from spacy import displacy\n",
    "nlp=spacy.load('es_core_news_sm')\n",
    "for row in data_pro['PRODUCTO O SERVICIO'].unique()[:10]:\n",
    "    doc=nlp(row)\n",
    "    displacy.render(doc, style=\"ent\")"
   ]
  }
 ],
 "metadata": {
  "interpreter": {
   "hash": "2fb81b5ae0622d99c197c58f6454131de7598820f0b1cb6432b2b1db79d3a8af"
  },
  "kernelspec": {
   "display_name": "Python 3.9.6 64-bit",
   "language": "python",
   "name": "python3"
  },
  "language_info": {
   "codemirror_mode": {
    "name": "ipython",
    "version": 3
   },
   "file_extension": ".py",
   "mimetype": "text/x-python",
   "name": "python",
   "nbconvert_exporter": "python",
   "pygments_lexer": "ipython3",
   "version": "3.9.6"
  },
  "orig_nbformat": 4
 },
 "nbformat": 4,
 "nbformat_minor": 2
}
